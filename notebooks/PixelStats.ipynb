{
 "cells": [
  {
   "cell_type": "code",
   "execution_count": 1,
   "id": "3508b053-34d6-49b7-8e18-1ac8bbf1173a",
   "metadata": {},
   "outputs": [],
   "source": [
    "%matplotlib widget\n",
    "from decimal import Decimal, getcontext\n",
    "import numpy as np\n",
    "import pandas as pd\n",
    "import os\n",
    "import matplotlib.pyplot as plt"
   ]
  },
  {
   "cell_type": "markdown",
   "id": "812ed154-872b-40e9-bae3-d6013629c337",
   "metadata": {},
   "source": [
    "### Import tables"
   ]
  },
  {
   "cell_type": "code",
   "execution_count": 2,
   "id": "ac788b44-8ad1-43c6-a1d9-4fb0b90d8642",
   "metadata": {},
   "outputs": [],
   "source": [
    "tables = '../tables'\n",
    "\n",
    "pix_stats = pd.read_csv(os.path.join(tables, 'tile_statistics.csv'))"
   ]
  },
  {
   "cell_type": "markdown",
   "id": "9856d120-5836-48e2-beea-5096e9492b04",
   "metadata": {},
   "source": [
    "### Selection parameters"
   ]
  },
  {
   "cell_type": "code",
   "execution_count": 3,
   "id": "64a2fa8c-fbae-4eef-8158-3eee0cd269ea",
   "metadata": {},
   "outputs": [],
   "source": [
    "min_kurtosis = 1000.\n",
    "max_frac_zeros = 0.02\n",
    "max_sum_pix_values = 2*10**11"
   ]
  },
  {
   "cell_type": "markdown",
   "id": "bc32a68b-9267-4638-9e92-2ba212f7c602",
   "metadata": {},
   "source": [
    "### Functions"
   ]
  },
  {
   "cell_type": "code",
   "execution_count": 10,
   "id": "d26d6d17-f288-47d4-88bc-2593c298b15a",
   "metadata": {},
   "outputs": [],
   "source": [
    "def kahan_sum(input_array):\n",
    "    sum = 0.0\n",
    "    c = 0.0  # A running compensation for lost low-order bits.\n",
    "    for i in input_array:\n",
    "        y = i - c     # So far, so good: c is zero.\n",
    "        t = sum + y   # Alas, sum is big, y small, so low-order digits of y are lost.\n",
    "        c = (t - sum) - y  # (t - sum) recovers the high-order part of y; subtracting y recovers -(low part of y)\n",
    "        sum = t       # Algebraically, c should always be zero. Beware eagerly optimising compilers!\n",
    "    return sum\n",
    "\n",
    "def calc_mean_std_one_band(df, band, min_kurtosis, max_frac_zeros, max_sum_pix_values, precision, collect_sums=False):\n",
    "    getcontext().prec = precision\n",
    "\n",
    "    if band in ['g','z']:\n",
    "        df_filtered = df.loc[(df[f'{band}_kurtosis'] >= min_kurtosis) & (df[f'{band}_frac_zeros'] <= max_frac_zeros) & (df[f'{band}_sum_pixel_values'] <= max_sum_pix_values)].reset_index(drop=True)\n",
    "    else:\n",
    "        df_filtered = df.loc[(df[f'{band}_frac_zeros'] <= max_frac_zeros) & (df[f'{band}_sum_pixel_values'] <= max_sum_pix_values)].reset_index(drop=True)\n",
    "\n",
    "    # Convert your lists to arrays of Decimal\n",
    "    sums = [Decimal(x) for x in df_filtered[f'{band}_sum_pixel_values']]\n",
    "    sums_sq = [Decimal(x) for x in df_filtered[f'{band}_sum_pixel_values_squared']]\n",
    "    counts = [Decimal(x) for x in df_filtered[f'{band}_n_valid_pixels']]\n",
    "\n",
    "    total_sum = sum(sums)\n",
    "    total_sum_sq = sum(sums_sq)\n",
    "    total_count = sum(counts)\n",
    "\n",
    "    if collect_sums:\n",
    "        return df_filtered, band, total_sum, total_sum_sq, total_count\n",
    "\n",
    "    global_mean = total_sum / total_count\n",
    "    variance = (total_sum_sq - (total_sum ** 2 / total_count)) / total_count\n",
    "    global_std = variance.sqrt()\n",
    "\n",
    "    return np.float32(global_mean), np.float32(global_std)\n",
    "\n",
    "def calc_mean_std_one_band_kahan(df, band, min_kurtosis, max_frac_zeros, max_sum_pix_values, precision):\n",
    "    getcontext().prec = precision\n",
    "\n",
    "    if band in ['g','z']:\n",
    "        df_filtered = df.loc[(df[f'{band}_kurtosis'] >= min_kurtosis) & (df[f'{band}_frac_zeros'] <= max_frac_zeros) & (df[f'{band}_sum_pixel_values'] <= max_sum_pix_values)].reset_index(drop=True)\n",
    "    else:\n",
    "        df_filtered = df.loc[(df[f'{band}_frac_zeros'] <= max_frac_zeros) & (df[f'{band}_sum_pixel_values'] <= max_sum_pix_values)].reset_index(drop=True)\n",
    "\n",
    "    total_sum = kahan_sum(df_filtered[f'{band}_sum_pixel_values'].values)\n",
    "    total_sum_sq = kahan_sum(df_filtered[f'{band}_sum_pixel_values_squared'].values)\n",
    "    total_count = kahan_sum(df_filtered[f'{band}_n_valid_pixels'].values)\n",
    "\n",
    "    total_sum = Decimal(total_sum)\n",
    "    total_sum_sq = Decimal(total_sum_sq)\n",
    "    total_count = Decimal(total_count)\n",
    "\n",
    "    global_mean = total_sum / total_count\n",
    "    variance = (total_sum_sq - (total_sum ** 2 / total_count)) / total_count\n",
    "    global_std = variance.sqrt()\n",
    "\n",
    "    return np.float32(global_mean), np.float32(global_std)\n",
    "\n",
    "def calc_global_mean_std(df, bands, min_kurtosis, max_frac_zeros, max_sum_pix_values, precision):\n",
    "    getcontext().prec = precision  # Set the global precision for Decimal calculations\n",
    "    \n",
    "    # Initialize Decimal sums for global calculations\n",
    "    global_sum = Decimal(0)\n",
    "    global_sum_sq = Decimal(0)\n",
    "    global_count = Decimal(0)\n",
    "    \n",
    "    # Iterate over each band and calculate their mean and std\n",
    "    for band in bands:\n",
    "        _, _, sums, sums_sq, counts = calc_mean_std_one_band(\n",
    "            df, band, min_kurtosis, max_frac_zeros, max_sum_pix_values, precision, collect_sums=True\n",
    "        )\n",
    "        \n",
    "        # Aggregate the sums and counts\n",
    "        global_sum += sums\n",
    "        global_sum_sq += sums_sq\n",
    "        global_count += counts\n",
    "    \n",
    "    # Calculate the global mean and standard deviation across all bands\n",
    "    global_mean = global_sum / global_count\n",
    "    variance = (global_sum_sq - (global_sum ** 2 / global_count)) / global_count\n",
    "    global_std = variance.sqrt()\n",
    "\n",
    "    return np.float32(global_mean), np.float32(global_std)"
   ]
  },
  {
   "cell_type": "code",
   "execution_count": 5,
   "id": "979b9446-ab24-4831-bcd8-00b22e994c85",
   "metadata": {},
   "outputs": [
    {
     "data": {
      "text/plain": [
       "Index(['tile', 'bands', 'u_n_valid_pixels', 'u_sum_pixel_values',\n",
       "       'u_sum_pixel_values_squared', 'u_min', 'u_max', 'u_frac_zeros',\n",
       "       'u_kurtosis', 'g_n_valid_pixels', 'g_sum_pixel_values',\n",
       "       'g_sum_pixel_values_squared', 'g_min', 'g_max', 'g_frac_zeros',\n",
       "       'g_kurtosis', 'r_n_valid_pixels', 'r_sum_pixel_values',\n",
       "       'r_sum_pixel_values_squared', 'r_min', 'r_max', 'r_frac_zeros',\n",
       "       'r_kurtosis', 'i_n_valid_pixels', 'i_sum_pixel_values',\n",
       "       'i_sum_pixel_values_squared', 'i_min', 'i_max', 'i_frac_zeros',\n",
       "       'i_kurtosis', 'z_n_valid_pixels', 'z_sum_pixel_values',\n",
       "       'z_sum_pixel_values_squared', 'z_min', 'z_max', 'z_frac_zeros',\n",
       "       'z_kurtosis'],\n",
       "      dtype='object')"
      ]
     },
     "execution_count": 5,
     "metadata": {},
     "output_type": "execute_result"
    }
   ],
   "source": [
    "pix_stats.columns"
   ]
  },
  {
   "cell_type": "code",
   "execution_count": 30,
   "id": "0815baf6-2064-45c1-9624-1607004c9768",
   "metadata": {},
   "outputs": [
    {
     "name": "stdout",
     "output_type": "stream",
     "text": [
      "mean: 4.8093156814575195, standard deviation: 153.8355255126953\n"
     ]
    }
   ],
   "source": [
    "band = 'r'\n",
    "\n",
    "mean, std = calc_mean_std_one_band(pix_stats, band, min_kurtosis, max_frac_zeros, max_sum_pix_values, precision=100)\n",
    "print(f'mean: {mean}, standard deviation: {std}')"
   ]
  },
  {
   "cell_type": "code",
   "execution_count": 31,
   "id": "d345bbe5-4318-43d3-87b2-7d17f35a4256",
   "metadata": {},
   "outputs": [
    {
     "name": "stdout",
     "output_type": "stream",
     "text": [
      "mean: 4.8093156814575195, standard deviation: 153.8355255126953\n"
     ]
    }
   ],
   "source": [
    "mean, std = calc_mean_std_one_band_kahan(pix_stats, band, min_kurtosis, max_frac_zeros, max_sum_pix_values, precision=100)\n",
    "print(f'mean: {mean}, standard deviation: {std}')"
   ]
  },
  {
   "cell_type": "code",
   "execution_count": 35,
   "id": "732e9f08-3c39-43f6-b51c-205f53642b1f",
   "metadata": {},
   "outputs": [
    {
     "name": "stdout",
     "output_type": "stream",
     "text": [
      "mean: 1.765446662902832, standard deviation: 114.00422668457031\n"
     ]
    }
   ],
   "source": [
    "bands = ['u', 'g', 'r', 'z']\n",
    "mean, std = calc_global_mean_std(pix_stats, bands, min_kurtosis, max_frac_zeros, max_sum_pix_values, precision=100)\n",
    "print(f'mean: {mean}, standard deviation: {std}')"
   ]
  },
  {
   "cell_type": "code",
   "execution_count": 24,
   "id": "616746cd-cd92-4fad-bb7b-a1707d714187",
   "metadata": {},
   "outputs": [
    {
     "data": {
      "application/vnd.jupyter.widget-view+json": {
       "model_id": "f7811960af6d43fa8d7b42129a6187b1",
       "version_major": 2,
       "version_minor": 0
      },
      "image/png": "[encoded data removed]",
      "text/html": [
       "\n",
       "            <div style=\"display: inline-block;\">\n",
       "                <div class=\"jupyter-widgets widget-label\" style=\"text-align: center;\">\n",
       "                    Figure\n",
       "                </div>\n",
       "                <img src='data:image/png;base64,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' width=640.0/>\n",
       "            </div>\n",
       "        "
      ],
      "text/plain": [
       "Canvas(toolbar=Toolbar(toolitems=[('Home', 'Reset original view', 'home', 'home'), ('Back', 'Back to previous …"
      ]
     },
     "metadata": {},
     "output_type": "display_data"
    }
   ],
   "source": [
    "plt.close('all')\n",
    "plt.figure()\n",
    "plt.hist(pix_stats['g_sum_pixel_values'].values, bins=100)\n",
    "plt.show()"
   ]
  },
  {
   "cell_type": "code",
   "execution_count": 52,
   "id": "35fce988-4806-4118-b805-a5f5bbedd10d",
   "metadata": {},
   "outputs": [
    {
     "data": {
      "text/html": [
       "<div>\n",
       "<style scoped>\n",
       "    .dataframe tbody tr th:only-of-type {\n",
       "        vertical-align: middle;\n",
       "    }\n",
       "\n",
       "    .dataframe tbody tr th {\n",
       "        vertical-align: top;\n",
       "    }\n",
       "\n",
       "    .dataframe thead th {\n",
       "        text-align: right;\n",
       "    }\n",
       "</style>\n",
       "<table border=\"1\" class=\"dataframe\">\n",
       "  <thead>\n",
       "    <tr style=\"text-align: right;\">\n",
       "      <th></th>\n",
       "      <th>tile</th>\n",
       "      <th>bands</th>\n",
       "      <th>u_n_valid_pixels</th>\n",
       "      <th>u_sum_pixel_values</th>\n",
       "      <th>u_sum_pixel_values_squared</th>\n",
       "      <th>u_min</th>\n",
       "      <th>u_max</th>\n",
       "      <th>u_frac_zeros</th>\n",
       "      <th>u_kurtosis</th>\n",
       "      <th>g_n_valid_pixels</th>\n",
       "      <th>...</th>\n",
       "      <th>i_max</th>\n",
       "      <th>i_frac_zeros</th>\n",
       "      <th>i_kurtosis</th>\n",
       "      <th>z_n_valid_pixels</th>\n",
       "      <th>z_sum_pixel_values</th>\n",
       "      <th>z_sum_pixel_values_squared</th>\n",
       "      <th>z_min</th>\n",
       "      <th>z_max</th>\n",
       "      <th>z_frac_zeros</th>\n",
       "      <th>z_kurtosis</th>\n",
       "    </tr>\n",
       "  </thead>\n",
       "  <tbody>\n",
       "  </tbody>\n",
       "</table>\n",
       "<p>0 rows × 37 columns</p>\n",
       "</div>"
      ],
      "text/plain": [
       "Empty DataFrame\n",
       "Columns: [tile, bands, u_n_valid_pixels, u_sum_pixel_values, u_sum_pixel_values_squared, u_min, u_max, u_frac_zeros, u_kurtosis, g_n_valid_pixels, g_sum_pixel_values, g_sum_pixel_values_squared, g_min, g_max, g_frac_zeros, g_kurtosis, r_n_valid_pixels, r_sum_pixel_values, r_sum_pixel_values_squared, r_min, r_max, r_frac_zeros, r_kurtosis, i_n_valid_pixels, i_sum_pixel_values, i_sum_pixel_values_squared, i_min, i_max, i_frac_zeros, i_kurtosis, z_n_valid_pixels, z_sum_pixel_values, z_sum_pixel_values_squared, z_min, z_max, z_frac_zeros, z_kurtosis]\n",
       "Index: []\n",
       "\n",
       "[0 rows x 37 columns]"
      ]
     },
     "execution_count": 52,
     "metadata": {},
     "output_type": "execute_result"
    }
   ],
   "source": [
    "pix_stats.loc[pix_stats['u_n_valid_pixels'] < 10.**8]"
   ]
  },
  {
   "cell_type": "code",
   "execution_count": null,
   "id": "c2ec60a1-e8aa-4a07-9262-c28f5298b072",
   "metadata": {},
   "outputs": [],
   "source": []
  }
 ],
 "metadata": {
  "kernelspec": {
   "display_name": "Python 3 (ipykernel)",
   "language": "python",
   "name": "python3"
  },
  "language_info": {
   "codemirror_mode": {
    "name": "ipython",
    "version": 3
   },
   "file_extension": ".py",
   "mimetype": "text/x-python",
   "name": "python",
   "nbconvert_exporter": "python",
   "pygments_lexer": "ipython3",
   "version": "3.11.7"
  }
 },
 "nbformat": 4,
 "nbformat_minor": 5
}
