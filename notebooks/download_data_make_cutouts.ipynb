{
 "cells": [
  {
   "cell_type": "code",
   "execution_count": 1,
   "id": "f8b3f8e1-d98e-40c1-bfd5-19cc5f6ea65d",
   "metadata": {},
   "outputs": [],
   "source": [
    "import os\n",
    "import shutil\n",
    "import h5py\n",
    "import random\n",
    "import glob\n",
    "import argparse\n",
    "import numpy as np\n",
    "from astropy.nddata.utils import Cutout2D\n",
    "from shutil import copyfile\n",
    "from astropy.io import fits\n",
    "import pandas as pd\n",
    "from astropy.wcs import WCS, utils\n",
    "from astropy.coordinates import SkyCoord\n",
    "import astropy.units as units\n",
    "from astropy.wcs.utils import skycoord_to_pixel\n",
    "import warnings\n",
    "import time\n",
    "from astropy.table import Table"
   ]
  },
  {
   "cell_type": "code",
   "execution_count": 18,
   "id": "8e4c1793",
   "metadata": {},
   "outputs": [],
   "source": [
    "def make_cutout(img, x, y):\n",
    "    ''' Creates the image cutout given a tile, the position of the center and the band '''\n",
    "\n",
    "    img_cutout = Cutout2D(img.data, (x, y), cutout_size, mode=\"partial\", fill_value=0).data\n",
    "\n",
    "    if np.count_nonzero(np.isnan(img_cutout)) >= 0.05 * cutout_size ** 2 or np.count_nonzero(\n",
    "            img_cutout) == 0:  # Don't use this cutout\n",
    "        return np.zeros((cutout_size, cutout_size))\n",
    "\n",
    "    img_cutout[np.isnan(img_cutout)] = 0\n",
    "\n",
    "    return img_cutout\n",
    "\n",
    "\n",
    "def ra_dec_to_xy(fits, ra, dec, band):\n",
    "    if band in ['i', 'z']:\n",
    "        head = fits[1].read_header()\n",
    "    else:\n",
    "        head = fits[0].read_header()\n",
    "    w = WCS(head)\n",
    "    return skycoord_to_pixel(SkyCoord(ra, dec, unit=\"deg\"), w)\n",
    "\n",
    "def show_scale(fits_file):\n",
    "    hdulist = fits.open(fits_file) #open fits file\n",
    "    if (file.split('.')[-2] in ['z'] or file.split('/')[-1].startswith('calexp')):\n",
    "        exp = 1\n",
    "    else:\n",
    "        exp = 0\n",
    "    header = hdulist[exp].header #get header of first extension\n",
    "    wcs = WCS(header)\n",
    "    ra = header['CRVAL1']\n",
    "    dec = header['CRVAL2']\n",
    "    pix_scale = abs(header['CD1_1']*3600)\n",
    "    dim_x_deg = header['NAXIS1']*pix_scale/3600\n",
    "    dim_y_deg = header['NAXIS2']*pix_scale/3600\n",
    "    return ra, dec, pix_scale, dim_x_deg, dim_y_deg\n",
    "\n",
    "def union_catalogs(cat1, cat2, r=15.0, ra_key='RAJ2000', dec_key='DEJ2000'):\n",
    "    cat1, cat2 = (cat1, cat2) if len(cat1) <= len(cat2) else (cat2, cat1)\n",
    "    c_cat1 = SkyCoord(cat1[ra_key], cat1[dec_key], unit='deg', frame='icrs')\n",
    "    c_cat2 = SkyCoord(cat2[ra_key], cat2[dec_key], unit='deg', frame='icrs')\n",
    "    \n",
    "    max_sep = r * units.arcsec\n",
    "    idx, d2d, d3d = c_cat1.match_to_catalog_3d(c_cat2)\n",
    "    sep_constraint = d2d < max_sep\n",
    "    cat1_matches = cat1.loc[sep_constraint]\n",
    "    cat1_unmatches = cat1.loc[~sep_constraint]    \n",
    "    \n",
    "    cat_new = pd.concat([cat1_unmatches, cat2], ignore_index=True)\n",
    "    \n",
    "    return cat_new\n",
    "\n",
    "def kpc_to_arcsec(kpc, D):\n",
    "    radians = kpc/(1000*D)\n",
    "    arcsec = np.degrees(radians)*3600\n",
    "    return arcsec\n",
    "    \n",
    "def arcsec_to_kpc(arcsec, D):\n",
    "    radians = np.radians(arcsec/3600)\n",
    "    return radians*D*1000"
   ]
  },
  {
   "cell_type": "code",
   "execution_count": 30,
   "id": "68780a72",
   "metadata": {},
   "outputs": [],
   "source": [
    "file_path = '/home/nick/astro/UNIONS/lsb-detection-pipeline/NGC5457_test/fields/CFIS_LSB.246.289.r/'\n",
    "fits_file_g = 'calexp-CFIS_246_289.fits'\n",
    "fits_file_u = 'CFIS.246.289.u.fits'\n",
    "fits_file_r = 'CFIS_LSB.246.289.r.fits'\n",
    "fits_file_z = 'WISHES.246.289.z.fits'\n",
    "fits_file_i = 'PS-DR3.246.289.i.fits'"
   ]
  },
  {
   "cell_type": "code",
   "execution_count": 21,
   "id": "f9b49475-7264-4c6a-9c50-d56d41c00da3",
   "metadata": {
    "scrolled": true
   },
   "outputs": [
    {
     "name": "stderr",
     "output_type": "stream",
     "text": [
      "WARNING: VerifyWarning: It is strongly recommended that column names contain only upper and lower-case ASCII letters, digits, or underscores for maximum compatibility with other software (got '---'). [astropy.io.fits.column]\n",
      "WARNING: UnitsWarning: '[Msun]' did not parse as fits unit: Invalid character at col 0 If this is meant to be a custom unit, define it with 'u.def_unit'. To have it recognized inside a file reader or other code, enable it with 'u.add_enabled_units'. For details, see https://docs.astropy.org/en/latest/units/combining_and_defining.html [astropy.units.core]\n"
     ]
    }
   ],
   "source": [
    "tables = '/home/nick/astro/TileSlicer/tables/'\n",
    "matlas = pd.read_csv(tables + 'matlas_info.csv')\n",
    "elves = pd.read_csv(tables + 'elves_info.csv')\n",
    "elves['re_arc'] = [kpc_to_arcsec(x/1000., D) for x, D in zip(elves['re'], elves['dist'])]\n",
    "M101_lsb = pd.read_csv(tables + 'M101_lsb.csv')\n",
    "M101_lsb['morph'] = 'UDG'\n",
    "smudges = Table.read(tables+'smudges.fits', format='fits')\n",
    "smudges = smudges.to_pandas()\n",
    "smudges = smudges.map(lambda x: x.decode('utf-8') if isinstance(x, bytes) else x)\n",
    "smudges.to_csv(tables+'smudges.csv', index=False)\n",
    "dE_catalog = Table.read(tables+'dE_catalog.fits', format='fits')\n",
    "dE_catalog = dE_catalog.to_pandas()\n",
    "dE_catalog = dE_catalog.map(lambda x: x.decode('utf-8') if isinstance(x, bytes) else x)\n",
    "dE_catalog['PGC'] = ['PGC'+str(x) for x in np.array(dE_catalog['PGC'])]\n",
    "dE_catalog.to_csv(tables+'dE_catalog.csv', index=False)"
   ]
  },
  {
   "cell_type": "code",
   "execution_count": 138,
   "id": "d70178e4-ba93-43ba-80ca-e4092be35a0a",
   "metadata": {},
   "outputs": [],
   "source": [
    "# Define column names based on the byte-by-byte description\n",
    "columns = [\n",
    "    'Name', 'RAdeg', 'DEdeg', 'Host', 'Dist-host', 'Dist-SBF', 'Source',\n",
    "    'Confirm', 'vrec', 'r_vrec', 'Dtrgb', 'r_Dtrgb']\n",
    "\n",
    "# Read the data into a pandas DataFrame\n",
    "elves_rejected = pd.read_fwf(tables+ 'elves_rejected.csv', skiprows=0, header=None, names=columns)"
   ]
  },
  {
   "cell_type": "code",
   "execution_count": 22,
   "id": "c56a31f2-f575-451f-9063-f5a5002bf2cc",
   "metadata": {},
   "outputs": [],
   "source": [
    "dE_fuse = dE_catalog[['PGC','ID','RAdeg','DEdeg','ARh','Class','z']].rename(columns={'PGC':'host','RAdeg':'ra','DEdeg':'dec','ARh':'re','Class':'morph'})\n",
    "replacements = {\n",
    "    'ND': 'dE',\n",
    "    'UD': 'UDG',\n",
    "}\n",
    "dE_fuse['morph'].replace(replacements, inplace=True)\n",
    "dE_fuse['z'].replace(9.9999, np.nan, inplace=True)\n",
    "\n",
    "matlas_fuse = matlas[['HostETG','ID','RAdeg','DEdeg','Morph','Re']].rename(columns={'HostETG':'host','RAdeg':'ra','DEdeg':'dec','Morph':'morph','Re':'re'})\n",
    "elves_fuse = elves[['host','name','radeg','dedeg', 're_arc']].rename(columns={'name':'ID','radeg':'ra','dedeg':'dec', 're_arc':'re'})\n",
    "M101_fuse = M101_lsb[['host','ID','ra','dec', 'morph','re']]\n",
    "matlas_elves = union_catalogs(matlas_fuse, elves_fuse, ra_key='ra', dec_key='dec')\n",
    "matlas_elves = union_catalogs(matlas_elves, M101_fuse, ra_key='ra', dec_key='dec')\n",
    "matlas_elves_dE = union_catalogs(matlas_elves, dE_fuse, ra_key='ra', dec_key='dec')\n",
    "matlas_elves_dE.to_csv(tables+'all_known_dwarfs.csv', index=False)\n",
    "matlas_elves.to_csv(tables+'known_dwarfs.csv', index=False)"
   ]
  },
  {
   "cell_type": "code",
   "execution_count": 53,
   "id": "0c427412-3320-4076-9c66-462c5f9cc62e",
   "metadata": {},
   "outputs": [
    {
     "data": {
      "text/plain": [
       "<AxesSubplot: >"
      ]
     },
     "execution_count": 53,
     "metadata": {},
     "output_type": "execute_result"
    },
    {
     "data": {
      "image/png": "[encoded data removed]",
      "text/plain": [
       "<Figure size 640x480 with 1 Axes>"
      ]
     },
     "metadata": {},
     "output_type": "display_data"
    }
   ],
   "source": [
    "known_dwarfs = pd.read_csv(tables+'known_dwarfs_processed.csv')\n",
    "bins = np.arange(0, 50, 2)\n",
    "known_dwarfs['re'].hist(bins=bins)"
   ]
  },
  {
   "cell_type": "code",
   "execution_count": 64,
   "id": "e25a9edc",
   "metadata": {},
   "outputs": [],
   "source": [
    "known_dwarfs_3b = known_dwarfs.loc[known_dwarfs['n_bands'] >= 3]"
   ]
  },
  {
   "cell_type": "code",
   "execution_count": 67,
   "id": "8dddd474",
   "metadata": {},
   "outputs": [
    {
     "name": "stdout",
     "output_type": "stream",
     "text": [
      "The median half light diameter in pixels is 56.52197747492921, the mean is 78.09731974165071\n"
     ]
    }
   ],
   "source": [
    "median = known_dwarfs_3b['re'].loc[known_dwarfs_3b['re'] > 0].median()\n",
    "mean = known_dwarfs_3b['re'].loc[known_dwarfs_3b['re'] > 0].mean()\n",
    "\n",
    "pix_median, pix_mean = median/pix_scale, mean/pix_scale\n",
    "\n",
    "print(f'The median half light diameter in pixels is {pix_median*2}, the mean is {pix_mean*2}')"
   ]
  },
  {
   "cell_type": "code",
   "execution_count": 31,
   "id": "2cbcd376",
   "metadata": {},
   "outputs": [
    {
     "name": "stderr",
     "output_type": "stream",
     "text": [
      "WARNING: FITSFixedWarning: 'datfix' made the change 'Set DATE-OBS to '2021-04-16T09:42:12.099' from MJD-OBS'. [astropy.wcs.wcs]\n"
     ]
    }
   ],
   "source": [
    "file = os.path.join(file_path,fits_file_u)\n",
    "_, _, pix_scale, _, _ = show_scale(file)"
   ]
  },
  {
   "cell_type": "code",
   "execution_count": 5,
   "id": "826e0b40",
   "metadata": {},
   "outputs": [
    {
     "data": {
      "text/plain": [
       "(211.812250635808,\n",
       " 54.5,\n",
       " 0.1857684474089298,\n",
       " 0.516023465024805,\n",
       " 0.516023465024805)"
      ]
     },
     "execution_count": 5,
     "metadata": {},
     "output_type": "execute_result"
    }
   ],
   "source": [
    "file = os.path.join(file_path,fits_file_g)\n",
    "show_scale(file)"
   ]
  },
  {
   "cell_type": "code",
   "execution_count": 6,
   "id": "e2bc7f88",
   "metadata": {
    "scrolled": true
   },
   "outputs": [
    {
     "name": "stderr",
     "output_type": "stream",
     "text": [
      "WARNING: FITSFixedWarning: 'datfix' made the change 'Set DATE-OBS to '2017-02-24T14:37:52.179' from MJD-OBS'. [astropy.wcs.wcs]\n"
     ]
    },
    {
     "data": {
      "text/plain": [
       "(211.81225064, 54.5, 0.185768447408928, 0.5160234650248, 0.5160234650248)"
      ]
     },
     "execution_count": 6,
     "metadata": {},
     "output_type": "execute_result"
    }
   ],
   "source": [
    "file = os.path.join(file_path,fits_file_r)\n",
    "show_scale(file)"
   ]
  },
  {
   "cell_type": "code",
   "execution_count": 7,
   "id": "356d9ae0",
   "metadata": {},
   "outputs": [
    {
     "name": "stderr",
     "output_type": "stream",
     "text": [
      "WARNING: FITSFixedWarning: 'datfix' made the change 'Set DATE-OBS to '2018-03-05T01:59:12.043' from MJD-OBS'. [astropy.wcs.wcs]\n"
     ]
    },
    {
     "data": {
      "text/plain": [
       "(211.81225064, 54.5, 0.185768447408928, 0.5160234650248, 0.5160234650248)"
      ]
     },
     "execution_count": 7,
     "metadata": {},
     "output_type": "execute_result"
    }
   ],
   "source": [
    "file = os.path.join(file_path,fits_file_i)\n",
    "show_scale(file)"
   ]
  },
  {
   "cell_type": "code",
   "execution_count": 8,
   "id": "7df3d0d8",
   "metadata": {},
   "outputs": [
    {
     "data": {
      "text/plain": [
       "(211.812250635808,\n",
       " 54.5,\n",
       " 0.18576844740891937,\n",
       " 0.516023465024776,\n",
       " 0.516023465024776)"
      ]
     },
     "execution_count": 8,
     "metadata": {},
     "output_type": "execute_result"
    }
   ],
   "source": [
    "file = os.path.join(file_path,fits_file_z)\n",
    "show_scale(file)"
   ]
  },
  {
   "cell_type": "markdown",
   "id": "324d8eb1",
   "metadata": {},
   "source": [
    "## Relate ra, dec to tile numbers"
   ]
  },
  {
   "cell_type": "code",
   "execution_count": 11,
   "id": "b07abbcc",
   "metadata": {},
   "outputs": [],
   "source": [
    "def relate_coord_tile(coords=None, nums=None):\n",
    "    \"\"\"\n",
    "    Conversion between tile numbers and coordinates.\n",
    "    :param coords: right ascention, declination; tuple\n",
    "    :param nums: first and second tile numbers; tuple\n",
    "    :return: depending on the input, return the tile numbers or the ra and dec coordinates\n",
    "    \"\"\"\n",
    "    if coords:\n",
    "        ra, dec = coords\n",
    "        xxx=ra*2*np.cos(np.radians(dec))\n",
    "        yyy=(dec+90)*2\n",
    "        return int(xxx), int(yyy)\n",
    "    else:\n",
    "        xxx, yyy = nums\n",
    "        dec=yyy/2-90\n",
    "        ra=xxx/2/np.cos(np.radians(dec))\n",
    "        return np.round(ra,12), np.round(dec,12)"
   ]
  },
  {
   "cell_type": "markdown",
   "id": "ae8d3d33",
   "metadata": {},
   "source": [
    "## Get lists of currently available tiles for each band"
   ]
  },
  {
   "cell_type": "code",
   "execution_count": 39,
   "id": "baa3e047",
   "metadata": {},
   "outputs": [],
   "source": [
    "def update_available_tiles(path, save=True):\n",
    "    \"\"\"\n",
    "    Update available tile lists from the VOSpace. Takes a few mins to run.\n",
    "    :param path: path to save tile lists.\n",
    "    :param save: save new lists to disk, default is True.\n",
    "    :return: /\n",
    "    \"\"\"\n",
    "    cfis_u_tiles = client.glob1('vos:cfis/tiles_DR5/','*u.fits')\n",
    "    whigs_g_tiles = client.glob1('vos:cfis/whigs/stack_images_CFIS_scheme/','*.fits')\n",
    "    cfis_lsb_r_tiles = client.glob1('vos:cfis/tiles_LSB_DR5/','*.fits')\n",
    "    ps_i_tiles = client.glob1('vos:cfis/panstarrs/DR3/tiles/','*i.fits')\n",
    "    wishes_z_tiles = client.glob1('vos:cfis/wishes_1/coadd/','*.fits')\n",
    "    if save:\n",
    "        np.savetxt(path+'cfis_u_tiles.txt', cfis_u_tiles, fmt='%s')\n",
    "        np.savetxt(path+'whigs_g_tiles.txt', whigs_g_tiles, fmt='%s')\n",
    "        np.savetxt(path+'cfis_lsb_r_tiles.txt', cfis_lsb_r_tiles, fmt='%s')\n",
    "        np.savetxt(path+'ps_i_tiles.txt', ps_i_tiles, fmt='%s')\n",
    "        np.savetxt(path+'wishes_z_tiles.txt', wishes_z_tiles, fmt='%s')\n",
    "        \n",
    "def load_available_tiles(path):\n",
    "    \"\"\"\n",
    "    Load tile lists from disk.\n",
    "    :param path: path to files\n",
    "    :return: lists of available tiles for the five bands\n",
    "    \"\"\"\n",
    "    u_tiles = np.loadtxt(path+'cfis_u_tiles.txt', dtype=str)\n",
    "    g_tiles = np.loadtxt(path+'whigs_g_tiles.txt', dtype=str)\n",
    "    lsb_r_tiles = np.loadtxt(path+'cfis_lsb_r_tiles.txt', dtype=str)\n",
    "    i_tiles = np.loadtxt(path+'ps_i_tiles.txt', dtype=str)\n",
    "    z_tiles = np.loadtxt(path+'wishes_z_tiles.txt', dtype=str)\n",
    "    \n",
    "    return u_tiles, g_tiles, lsb_r_tiles, i_tiles, z_tiles\n",
    "\n",
    "def get_tile_numbers(name):\n",
    "    \"\"\"\n",
    "    Extract tile numbers from tile name\n",
    "    :param name: .fits file name of a given tile\n",
    "    :return two three digit tile numbers\n",
    "    \"\"\"\n",
    "    parts = name.split('.')\n",
    "    if name.startswith('calexp'):\n",
    "        parts = parts[0].split('_')\n",
    "    xxx, yyy = map(int, parts[1:3])\n",
    "    return xxx, yyy\n",
    "\n",
    "def extract_tile_numbers(tile_lists):\n",
    "    \"\"\"\n",
    "    Extract tile numbers from .fits file names.\n",
    "    :param tile_lists: lists of file names from the different bands\n",
    "    :return: lists of tile numbers available in the different bands\n",
    "    \"\"\"\n",
    "    u_nums = np.array([get_tile_numbers(name) for name in tile_lists[0]])\n",
    "    g_nums = np.array([get_tile_numbers(name) for name in tile_lists[1]])\n",
    "    lsb_r_nums = np.array([get_tile_numbers(name) for name in tile_lists[2]])\n",
    "    i_nums = np.array([get_tile_numbers(name) for name in tile_lists[3]])\n",
    "    z_nums = np.array([get_tile_numbers(name) for name in tile_lists[4]])\n",
    "    \n",
    "    return u_nums, g_nums, lsb_r_nums, i_nums, z_nums\n",
    "\n",
    "class TileAvailability:\n",
    "    def __init__(self, tile_nums, band_dict, at_least=False):\n",
    "        self.all_tiles = tile_nums\n",
    "        self.tile_num_sets = [set(map(tuple, tile_array)) for tile_array in self.all_tiles]\n",
    "        self.unique_tiles = sorted(set.union(*self.tile_num_sets))\n",
    "        self.availability_matrix = self._create_availability_matrix()\n",
    "        self.counts = self._calculate_counts(at_least)\n",
    "        self.band_dict = band_dict\n",
    "\n",
    "    def _create_availability_matrix(self):\n",
    "        array_shape = (len(self.unique_tiles), len(self.all_tiles))\n",
    "        availability_matrix = np.zeros(array_shape, dtype=int)\n",
    "\n",
    "        for i, tile in enumerate(self.unique_tiles):\n",
    "            for j, tile_num_set in enumerate(self.tile_num_sets):\n",
    "                availability_matrix[i, j] = int(tile in tile_num_set)\n",
    "\n",
    "        return availability_matrix\n",
    "\n",
    "    def _calculate_counts(self, at_least):\n",
    "        counts = np.sum(self.availability_matrix, axis=1)\n",
    "        bands_available, tile_counts = np.unique(counts, return_counts=True)\n",
    "\n",
    "        counts_dict = dict(zip(bands_available, tile_counts))\n",
    "        \n",
    "        if at_least:\n",
    "            at_least_counts = np.zeros_like(bands_available)\n",
    "            for i, count in enumerate(bands_available):\n",
    "                at_least_counts[i] = np.sum(tile_counts[i:])\n",
    "            counts_dict = dict(zip(bands_available, at_least_counts))\n",
    "        \n",
    "        return counts_dict\n",
    "\n",
    "    def get_availability(self, tile_number):\n",
    "        try:\n",
    "            index = self.unique_tiles.index(tuple(tile_number))\n",
    "        except:\n",
    "            print('\\nTile number not available in any band.')\n",
    "            return []\n",
    "        bands_available = np.where(self.availability_matrix[index] == 1)[0]\n",
    "        return [self.band_dict[list(self.band_dict.keys())[i]]['band'] for i in bands_available], bands_available\n",
    "\n",
    "    def stats(self):\n",
    "        print(\"\\nNumber of currently available tiles per band:\\n\")\n",
    "        max_band_name_length = max(map(len, self.band_dict.keys()))  # for output format\n",
    "        for band_name, count in zip(self.band_dict.keys(), np.sum(self.availability_matrix, axis=0)):\n",
    "            print(f\"{band_name.ljust(max_band_name_length)}: \\t {count}\")\n",
    "        \n",
    "        print(\"\\nNumber of tiles available in different bands:\\n\")\n",
    "        for bands_available, count in sorted(self.counts.items(), reverse=True):\n",
    "            print(f\"In {bands_available} bands: {count}\")\n",
    "            \n",
    "        print('\\nNumber of unique tiles available:\\n\\n' \\\n",
    "             f'{len(self.unique_tiles)}')"
   ]
  },
  {
   "cell_type": "code",
   "execution_count": 40,
   "id": "726b2a71",
   "metadata": {},
   "outputs": [
    {
     "name": "stdout",
     "output_type": "stream",
     "text": [
      "\n",
      "Number of currently available tiles per band:\n",
      "\n",
      "cfis-u    : \t 34017\n",
      "whigs-g   : \t 19528\n",
      "cfis_lsb-r: \t 20802\n",
      "ps-i      : \t 22168\n",
      "wishes-z  : \t 8444\n",
      "\n",
      "Number of tiles available in different bands:\n",
      "\n",
      "In 5 bands: 5229\n",
      "In 4 bands: 9984\n",
      "In 3 bands: 5007\n",
      "In 2 bands: 3418\n",
      "In 1 bands: 17021\n",
      "\n",
      "Number of unique tiles available:\n",
      "\n",
      "40659\n",
      "\n",
      "(['u', 'g', 'r', 'i', 'z'], array([0, 1, 2, 3, 4]))\n"
     ]
    }
   ],
   "source": [
    "from vos import Client\n",
    "client = Client()\n",
    "\n",
    "band_dict = {'cfis-u': {'name': 'CFIS', 'band': 'u', 'vos': 'vos:cfis/tiles_DR5/', 'suffix': '.u.fits', 'delimiter': '.', 'fits_ext': 0},\n",
    "            'whigs-g': {'name': 'calexp-CFIS', 'band': 'g', 'vos': 'vos:cfis/whigs/stack_images_CFIS_scheme/', 'suffix': '.fits', 'delimiter': '_', 'fits_ext': 1},\n",
    "            'cfis_lsb-r': {'name': 'CFIS_LSB', 'band': 'r', 'vos': 'vos:cfis/tiles_LSB_DR5/', 'suffix': '.r.fits', 'delimiter': '.', 'fits_ext': 0},\n",
    "            'ps-i': {'name': 'PS-DR3', 'band': 'i', 'vos': 'vos:cfis/panstarrs/DR3/tiles/', 'suffix': '.i.fits', 'delimiter': '.', 'fits_ext': 0},\n",
    "            'wishes-z': {'name': 'WISHES', 'band': 'z', 'vos': 'vos:cfis/wishes_1/coadd/', 'suffix': '.z.fits', 'delimiter': '.', 'fits_ext': 1}}\n",
    "\n",
    "parent_dir = '/home/nick/astro/TileSlicer/'\n",
    "tile_dir = os.path.join(parent_dir, 'tile_info/')\n",
    "os.makedirs(tile_dir, exist_ok=True)\n",
    "# retrieve from the VOSpace and update the currently available tiles\n",
    "# takes some time to run\n",
    "update = False\n",
    "# return the number of available tiles that are available in at least 5, 4, 3, 2, 1 bands\n",
    "at_least = False\n",
    "\n",
    "if update:\n",
    "    update_available_tiles(tile_dir)\n",
    "    \n",
    "u, g, lsb_r, i, z = extract_tile_numbers(load_available_tiles(tile_dir))\n",
    "all_bands = [u, g, lsb_r, i, z]\n",
    "availability = TileAvailability(all_bands, band_dict, at_least)\n",
    "availability.stats()\n",
    "\n",
    "# Check the availability for a specific tile\n",
    "tile_number = (243, 290)\n",
    "tile_coords = relate_coord_tile(nums=tile_number)\n",
    "avail_bands = availability.get_availability(tile_number)\n",
    "print(f'\\n{avail_bands}')"
   ]
  },
  {
   "cell_type": "markdown",
   "id": "7ff9aa91",
   "metadata": {},
   "source": [
    "## Create KD-Tree from tile list"
   ]
  },
  {
   "cell_type": "code",
   "execution_count": 16,
   "id": "e65f5143",
   "metadata": {},
   "outputs": [],
   "source": [
    "from scipy.spatial import cKDTree\n",
    "import joblib\n",
    "\n",
    "def tile_coordinates(name):\n",
    "    \"\"\"\n",
    "    Extract RA and Dec from tile name\n",
    "    :param name: .fits file name of a given tile\n",
    "    :return RA and Dec of the tile center\n",
    "    \"\"\"\n",
    "    parts = name.split('.')\n",
    "    if name.startswith('calexp'):\n",
    "        parts = parts[0].split('_')\n",
    "    xxx, yyy = map(int, parts[1:3])\n",
    "    ra = np.round(xxx / 2 / np.cos(np.radians((yyy / 2) - 90)),6)\n",
    "    dec = np.round((yyy / 2) - 90,6)\n",
    "    return ra, dec\n",
    "    \n",
    "def build_tree(tiles, path, save=True):\n",
    "    \"\"\"\n",
    "    Build a kd tree from the input tiles to efficiently query object positions.\n",
    "    :param tiles: list of unique tile number pairs\n",
    "    :param save: save the built tree to file\n",
    "    :return: /\n",
    "    \"\"\"\n",
    "    tile_coords = np.array([relate_coord_tile(nums=num) for num in tiles])\n",
    "    tile_coords_c = SkyCoord(tile_coords[:,0], tile_coords[:,1], unit='deg', frame='icrs')\n",
    "    tile_coords_xyz = np.array([x.cartesian.xyz.value for x in tile_coords_c])\n",
    "    tree = cKDTree(tile_coords_xyz)\n",
    "    if save:\n",
    "        joblib.dump(tree, path+'kdtree_xyz.joblib')\n",
    "\n",
    "def query_tree(tiles, coords, path, build=False, save=True):\n",
    "    \"\"\"\n",
    "    Query the kd tree to find what tile an object is in.\n",
    "    :param tiles: list of tile numbers as tuples\n",
    "    :param coords: ra, dec of object to query\n",
    "    :build: if true build the tree first, default=False\n",
    "    :return tile name and distance object - nearest tile center\n",
    "    \"\"\"\n",
    "    if build:\n",
    "        build_tree(tiles, path, save)\n",
    "    loaded_tree = joblib.load(path+'kdtree_xyz.joblib')\n",
    "    try:\n",
    "        tile_name, dist = find_tile(loaded_tree, tiles, coords)\n",
    "        return tile_name, dist\n",
    "    except ValueError as e:\n",
    "        return np.nan, f'Error: {e}'\n",
    "\n",
    "class TileWCS:\n",
    "    def __init__(self, wcs_keywords={}):\n",
    "        wcs_keywords.update({\n",
    "                'NAXIS': 2,\n",
    "                'CTYPE1': 'RA---TAN',\n",
    "                'CTYPE2': 'DEC--TAN',\n",
    "                'CRVAL1': 0,\n",
    "                'CRVAL2': 0,\n",
    "                'CRPIX1': 5000.0,\n",
    "                'CRPIX2': 5000.0,\n",
    "                'CD1_1': -5.160234650248e-05,\n",
    "                'CD1_2': 0.0,\n",
    "                'CD2_1': 0.0,\n",
    "                'CD2_2': 5.160234650248e-05,\n",
    "                'NAXIS1': 10000,\n",
    "                'NAXIS2': 10000\n",
    "        })\n",
    "            \n",
    "        self.wcs = WCS(wcs_keywords)\n",
    "\n",
    "    def set_coords(self, coords):\n",
    "        self.wcs.wcs.crval = [coords[0], coords[1]]\n",
    "        \n",
    "def find_tile(tree, tiles, object_coord):\n",
    "    \"\"\"\n",
    "    Query the tree and find the tile the object is in.\n",
    "    :param tree: kd tree\n",
    "    :param tiles: list of unique tiles in the survey\n",
    "    :param object_coord: coordinates of the object we want to find a tile for\n",
    "    :return: tile numbers of the matching tile\n",
    "    \"\"\"\n",
    "    coord_c = SkyCoord(object_coord[0], object_coord[1], unit='deg', frame='icrs')\n",
    "    coord_xyz = coord_c.cartesian.xyz.value\n",
    "    dists, indices = tree.query(coord_xyz, k=4)\n",
    "    wcs = TileWCS()\n",
    "    for dist, idx in zip(dists,indices):\n",
    "        wcs.set_coords(relate_coord_tile(nums=tiles[idx]))\n",
    "        if wcs.wcs.footprint_contains(coord_c):\n",
    "            return tiles[idx], dist\n",
    "    raise ValueError('Object could not be assigned to a tile.')"
   ]
  },
  {
   "cell_type": "code",
   "execution_count": 269,
   "id": "c141c693",
   "metadata": {},
   "outputs": [
    {
     "name": "stdout",
     "output_type": "stream",
     "text": [
      "The object is in tile number (24, 350).\n",
      "The distance to the nearest tile center is 0.365 degrees.\n"
     ]
    }
   ],
   "source": [
    "tiles = availability.unique_tiles\n",
    "obj_coord = 134.5670522, 85.2508887\n",
    "obj_coord_c = SkyCoord(obj_coord[0], obj_coord[1], unit='deg', frame='icrs')\n",
    "tile_numbers, dist_nn = query_tree(tiles, obj_coord, path, build=False)\n",
    "if dist_nn:\n",
    "    center_coord = relate_coord_tile(nums=tile_numbers)\n",
    "    center_coord_c = SkyCoord(center_coord[0], center_coord[1], unit='deg', frame='icrs')\n",
    "    sep_skycoord = obj_coord_c.separation(center_coord_c).deg\n",
    "    sep_tree = np.degrees(dist_nn)\n",
    "    print(f'The object is in tile number {tile_numbers}.')\n",
    "    print(f'The distance to the nearest tile center is {np.round(np.degrees(dist_nn),3)} degrees.')\n",
    "# print(f'Distance skycoord: {sep_skycoord}, distance tree: {sep_tree}')"
   ]
  },
  {
   "cell_type": "markdown",
   "id": "2a7efa17",
   "metadata": {},
   "source": [
    "## Download a specific tile"
   ]
  },
  {
   "cell_type": "markdown",
   "id": "cd38509e",
   "metadata": {},
   "source": [
    "### Test client speed"
   ]
  },
  {
   "cell_type": "code",
   "execution_count": 17,
   "id": "5f1b1391",
   "metadata": {},
   "outputs": [
    {
     "ename": "NameError",
     "evalue": "name 'time' is not defined",
     "output_type": "error",
     "traceback": [
      "\u001b[0;31m---------------------------------------------------------------------------\u001b[0m",
      "\u001b[0;31mNameError\u001b[0m                                 Traceback (most recent call last)",
      "Cell \u001b[0;32mIn[17], line 1\u001b[0m\n\u001b[0;32m----> 1\u001b[0m start_time \u001b[38;5;241m=\u001b[39m \u001b[43mtime\u001b[49m\u001b[38;5;241m.\u001b[39mtime()\n\u001b[1;32m      2\u001b[0m file_name \u001b[38;5;241m=\u001b[39m \u001b[38;5;124m'\u001b[39m\u001b[38;5;124mCFIS_LSB.143.900.r.fits\u001b[39m\u001b[38;5;124m'\u001b[39m\n\u001b[1;32m      3\u001b[0m client\u001b[38;5;241m.\u001b[39mcopy(\u001b[38;5;124mf\u001b[39m\u001b[38;5;124m'\u001b[39m\u001b[38;5;124mvos:cfis/tiles_LSB_DR5/\u001b[39m\u001b[38;5;132;01m{\u001b[39;00mfile_name\u001b[38;5;132;01m}\u001b[39;00m\u001b[38;5;124m'\u001b[39m, \u001b[38;5;124mf\u001b[39m\u001b[38;5;124m'\u001b[39m\u001b[38;5;124m/home/nick/astro/ssl-spencer/\u001b[39m\u001b[38;5;132;01m{\u001b[39;00mfile_name\u001b[38;5;132;01m}\u001b[39;00m\u001b[38;5;124m'\u001b[39m)\n",
      "\u001b[0;31mNameError\u001b[0m: name 'time' is not defined"
     ]
    }
   ],
   "source": [
    "start_time = time.time()\n",
    "file_name = 'CFIS_LSB.143.900.r.fits'\n",
    "client.copy(f'vos:cfis/tiles_LSB_DR5/{file_name}', f'/home/nick/astro/ssl-spencer/{file_name}')\n",
    "print(f'Finished download. Took {(time.time()-start_time)/60} minutes')"
   ]
  },
  {
   "cell_type": "markdown",
   "id": "ff3dbad1",
   "metadata": {},
   "source": [
    "### Test command line speed"
   ]
  },
  {
   "cell_type": "code",
   "execution_count": 113,
   "id": "b822d2b7",
   "metadata": {},
   "outputs": [
    {
     "name": "stderr",
     "output_type": "stream",
     "text": [
      "INFO vcp vos:cfis/tiles_LSB_DR5/CFIS_LSB.143.321.r.fits -> /home/nick/astro/ssl-spencer/temp_dir/CFIS_LSB.143.321.r.fits \n"
     ]
    },
    {
     "name": "stdout",
     "output_type": "stream",
     "text": [
      "Finished download. Took 12.658307552337646 minutes\n"
     ]
    }
   ],
   "source": [
    "start_time = time.time()\n",
    "file_name = 'CFIS_LSB.143.321.r.fits'\n",
    "vos_copy_command = f'vcp -v vos:cfis/tiles_LSB_DR5/{file_name}'\n",
    "os.system(vos_copy_command + f' /home/nick/astro/ssl-spencer/temp_dir/{file_name}')\n",
    "print(f'Finished download. Took {(time.time()-start_time)/60} minutes')"
   ]
  },
  {
   "cell_type": "markdown",
   "id": "3997af7f",
   "metadata": {},
   "source": [
    "# Pipeline outline"
   ]
  },
  {
   "cell_type": "code",
   "execution_count": 19,
   "id": "66598974",
   "metadata": {},
   "outputs": [],
   "source": [
    "cat_dir = '/home/nick/astro/UNIONS/lsb-detection-pipeline/NGC5457_test/'\n",
    "catalog = pd.read_csv(cat_dir+'NGC5485_dwarfs.csv')\n",
    "ra_key, dec_key = 'ra', 'dec'\n",
    "coord_c = SkyCoord(catalog[ra_key].values, catalog[dec_key].values, unit='deg', frame='icrs')"
   ]
  },
  {
   "cell_type": "code",
   "execution_count": 32,
   "id": "778fb87e-4f20-48ac-aeaf-4e27aff8a2fc",
   "metadata": {},
   "outputs": [],
   "source": [
    "catalog_dir = os.path.join(parent_dir, 'tables/')\n",
    "os.makedirs(catalog_dir, exist_ok = True)\n",
    "catalog = pd.read_csv(catalog_dir+'df_coordinates.csv')\n",
    "ra_key, dec_key = 'ra', 'dec'\n",
    "coord_c = SkyCoord(catalog[ra_key].values, catalog[dec_key].values, unit='deg', frame='icrs')"
   ]
  },
  {
   "cell_type": "markdown",
   "id": "65ace304",
   "metadata": {},
   "source": [
    "### Get a list of tiles the objects are in"
   ]
  },
  {
   "cell_type": "code",
   "execution_count": 41,
   "id": "d3377cbf",
   "metadata": {},
   "outputs": [
    {
     "name": "stdout",
     "output_type": "stream",
     "text": [
      "Time: 0.218\n"
     ]
    }
   ],
   "source": [
    "import time\n",
    "start_time = time.time()\n",
    "# list tiles the objects are in\n",
    "# update_available_tiles(path)\n",
    "u, g, lsb_r, i, z = extract_tile_numbers(load_available_tiles(tile_dir))\n",
    "all_bands = [u, g, lsb_r, i, z]\n",
    "availability = TileAvailability(all_bands, band_dict)\n",
    "tiles = availability.unique_tiles\n",
    "\n",
    "def tile_finder(availability, catalog, band_constraint=5):\n",
    "    available_tiles = availability.unique_tiles\n",
    "    all_tiles = np.empty(len(catalog), dtype=tuple)\n",
    "    pix_coords = np.empty((len(catalog),2), dtype=np.float64)\n",
    "    for i , obj_coord in enumerate(coord_c):\n",
    "        tile_numbers, _ = query_tree(available_tiles, np.array([obj_coord.ra.deg, obj_coord.dec.deg]), tile_dir, build=False)\n",
    "        all_tiles[i] = tile_numbers\n",
    "        wcs = TileWCS()\n",
    "        wcs.set_coords(relate_coord_tile(nums=tile_numbers))\n",
    "        pix_coord = skycoord_to_pixel(obj_coord, wcs.wcs, origin=1)\n",
    "        pix_coords[i] = pix_coord\n",
    "\n",
    "    # add tile numbers and pixel coordinates to catalog\n",
    "    catalog['tile'] = all_tiles\n",
    "    catalog['x'] = pix_coords[:,0]\n",
    "    catalog['y'] = pix_coords[:,1]\n",
    "    unique_tiles = list(set(all_tiles))\n",
    "    tiles_x_bands = [tile for tile in unique_tiles if len(availability.get_availability(tile)) == band_constraint]\n",
    "    \n",
    "    return unique_tiles, tiles_x_bands\n",
    "\n",
    "unique_tiles, tiles_x_bands = tile_finder(availability, catalog, band_constraint=5)\n",
    "\n",
    "print(f'Time: {np.round(time.time()-start_time,3)}')"
   ]
  },
  {
   "cell_type": "markdown",
   "id": "4f5575b4",
   "metadata": {},
   "source": [
    "### Only keep tiles that are available in five bands"
   ]
  },
  {
   "cell_type": "code",
   "execution_count": 87,
   "id": "ed0f2d88",
   "metadata": {},
   "outputs": [],
   "source": [
    "tiles_x_bands = [tile for tile in unique_tiles if len(availability.get_availability(tile)[1]) == 3]"
   ]
  },
  {
   "cell_type": "code",
   "execution_count": 88,
   "id": "a4719894-5994-45d0-8660-83ffa344a780",
   "metadata": {},
   "outputs": [
    {
     "data": {
      "text/plain": [
       "[(229, 241), (228, 242)]"
      ]
     },
     "execution_count": 88,
     "metadata": {},
     "output_type": "execute_result"
    }
   ],
   "source": [
    "tiles_x_bands"
   ]
  },
  {
   "cell_type": "code",
   "execution_count": 97,
   "id": "356d5f90-fb4c-420c-9044-4c61c2679166",
   "metadata": {},
   "outputs": [
    {
     "data": {
      "text/plain": [
       "array(['cfis-u', 'whigs-g', 'cfis_lsb-r'], dtype='<U10')"
      ]
     },
     "execution_count": 97,
     "metadata": {},
     "output_type": "execute_result"
    }
   ],
   "source": [
    "avail_idx = availability.get_availability(tiles_x_bands[0])[1]\n",
    "np.asarray(list(band_dict.keys()))[avail_idx]"
   ]
  },
  {
   "cell_type": "markdown",
   "id": "38e876ae",
   "metadata": {},
   "source": [
    "### Download the selected tiles"
   ]
  },
  {
   "cell_type": "code",
   "execution_count": 80,
   "id": "cca945b5",
   "metadata": {},
   "outputs": [],
   "source": [
    "def download_tile_for_bands(availability, tile_numbers, band_dict, download_dir, method='api'):\n",
    "    avail_idx = availability.get_availability(tile_numbers)[1]\n",
    "    for band in np.array(list(band_dict.keys()))[avail_idx]:\n",
    "        vos_dir = band_dict[band]['vos']\n",
    "        prefix = band_dict[band]['name']\n",
    "        suffix = band_dict[band]['suffix']\n",
    "        delimiter = band_dict[band]['delimiter']\n",
    "        tile_dir = download_dir+f'{tile_numbers[0]}_{tile_numbers[1]}'\n",
    "        os.makedirs(tile_dir, exist_ok=True)\n",
    "        tile_fitsfilename = f'{prefix}{delimiter}{tile_numbers[0]}{delimiter}{tile_numbers[1]}{suffix}'\n",
    "        # use a temporary name while the file is downloading\n",
    "        temp_name = '.'.join(tile_fitsfilename.split('.')[:-1])+'_temp.fits'\n",
    "        \n",
    "        # Check if the directory exists, and create it if not\n",
    "        if os.path.exists(os.path.join(tile_dir, tile_fitsfilename)):\n",
    "            print(f'File {tile_fitsfilename} was already downloaded.')\n",
    "        else:\n",
    "            print(f'Downloading {tile_fitsfilename}..')\n",
    "            try:\n",
    "                if method == 'command':\n",
    "                    # command line\n",
    "                    os.system(f'vcp -v {vos_dir+tile_fitsfilename} {os.path.join(tile_dir,temp_name)}')\n",
    "                else:\n",
    "                    # api\n",
    "                    client.copy(os.path.join(vos_dir, tile_fitsfilename), os.path.join(tile_dir, temp_name))\n",
    "                os.rename(os.path.join(tile_dir,temp_name), os.path.join(tile_dir,tile_fitsfilename))\n",
    "            except Exception as e:\n",
    "                print(e)\n",
    "                return False\n",
    "    return True"
   ]
  },
  {
   "cell_type": "code",
   "execution_count": 82,
   "id": "147354e8",
   "metadata": {},
   "outputs": [
    {
     "name": "stdout",
     "output_type": "stream",
     "text": [
      "File CFIS.229.241.u.fits was already downloaded.\n",
      "File calexp-CFIS_229_241.fits was already downloaded.\n",
      "File CFIS_LSB.229.241.r.fits was already downloaded.\n",
      "Files downloaded. Took 1.4940897623697916e-05 minutes.\n",
      "File CFIS.228.242.u.fits was already downloaded.\n",
      "File calexp-CFIS_228_242.fits was already downloaded.\n",
      "File CFIS_LSB.228.242.r.fits was already downloaded.\n",
      "Files downloaded. Took 2.4863084157307942e-05 minutes.\n"
     ]
    }
   ],
   "source": [
    "import time\n",
    "from vos import Client\n",
    "client = Client()\n",
    "\n",
    "start = time.time()\n",
    "\n",
    "download_dir = os.path.join(parent_dir, 'data/')\n",
    "os.makedirs(download_dir, exist_ok=True)\n",
    "for tile in tiles_x_bands:\n",
    "    if download_tile_for_bands(availability, tile, band_dict, download_dir, method='command'):\n",
    "        print(f'Files downloaded. Took {(time.time()-start)/60} minutes.')"
   ]
  },
  {
   "cell_type": "markdown",
   "id": "16f71d24",
   "metadata": {},
   "source": [
    "### Make cutouts & save to HDF5 file"
   ]
  },
  {
   "cell_type": "code",
   "execution_count": 90,
   "id": "d63be643",
   "metadata": {},
   "outputs": [
    {
     "name": "stdout",
     "output_type": "stream",
     "text": [
      "Failed to process tile (229, 241): only integer scalar arrays can be converted to a scalar index\n",
      "Failed to process tile (228, 242): only integer scalar arrays can be converted to a scalar index\n",
      "Report:\n",
      "Tiles processed: 2\n",
      "Cutouts created: 0\n",
      "Failed_tiles: 2/2\n",
      "Processing error in tiles: [(229, 241), (228, 242)].\n",
      "Tiles processed, took 0.059 seconds.\n"
     ]
    }
   ],
   "source": [
    "# from line_profiler import LineProfiler\n",
    "import concurrent.futures\n",
    "from concurrent.futures import ProcessPoolExecutor\n",
    "# lp = LineProfiler()\n",
    "\n",
    "\n",
    "def make_cutout(data, x, y, cutout_size):\n",
    "    \"\"\"\n",
    "    Creates an image cutout centered on the object.\n",
    "    :param data: image data, 2d array\n",
    "    :param x: x coordinate of the cutout center\n",
    "    :param y: y coordinate of the cutout center\n",
    "    :param cutout_size: cutout size in pixels\n",
    "    :return: cutout, 2d array\n",
    "    \"\"\"\n",
    "    img_cutout = Cutout2D(data, (x, y), cutout_size, mode=\"partial\", fill_value=0).data\n",
    "\n",
    "    if np.count_nonzero(np.isnan(img_cutout)) >= 0.05 * cutout_size ** 2 or np.count_nonzero(img_cutout) == 0:  # Don't use this cutout\n",
    "        return np.zeros((cutout_size, cutout_size))\n",
    "\n",
    "    img_cutout[np.isnan(img_cutout)] = 0\n",
    "\n",
    "    return img_cutout\n",
    "\n",
    "\n",
    "def make_cutouts_all_bands(availability, tile, obj_in_tile, download_dir, in_dict, size):\n",
    "    \"\"\"\n",
    "    Loops over all five bands for a given tile, creates cutouts of the targets and adds them to the band dictionary.\n",
    "    :param availability: object to retrieve available tiles\n",
    "    :param tile: tile numbers\n",
    "    :param obj_in_tile: dataframe containing the known objects in this tile\n",
    "    :param download_dir: directory storing the tiles\n",
    "    :param in_dict: band dictionary\n",
    "    :param size: square cutout size in pixels\n",
    "    :return: updated band dictionary containing cutout data\n",
    "    \"\"\"\n",
    "    avail_idx = availability.get_availability(tile)[1]\n",
    "    cutout = np.zeros((len(obj_in_tile), len(in_dict), size, size))\n",
    "    tile_dir = download_dir+f'{tile[0]}_{tile[1]}'\n",
    "    for j, band in enumerate(list(in_dict.keys())[avail_idx]):\n",
    "        prefix = in_dict[band]['name']\n",
    "        suffix = in_dict[band]['suffix']\n",
    "        delimiter = in_dict[band]['delimiter']\n",
    "        fits_ext = in_dict[band]['fits_ext']\n",
    "        tile_fitsfilename = f'{prefix}{delimiter}{tile[0]}{delimiter}{tile[1]}{suffix}'\n",
    "        with fits.open(os.path.join(tile_dir, tile_fitsfilename), memmap=True) as hdul:\n",
    "            data = hdul[fits_ext].data\n",
    "        for i, (x, y) in enumerate(zip(obj_in_tile.x.values, obj_in_tile.y.values)):\n",
    "            cutout[i, j] = make_cutout(data, x, y, size)\n",
    "    return cutout\n",
    "\n",
    "def save_to_h5(stacked_cutout, tile_numbers, ids, ras, decs, save_path):\n",
    "    \"\"\"\n",
    "    Save cutout data including meta data to file.\n",
    "    :param stacked_cutout: stacked numpy array of the image data in different bands\n",
    "    :param tile_numbers: tile numbers\n",
    "    :param ids: object IDs\n",
    "    :param ras: right ascention coordinate array\n",
    "    :param decs: declination coordinate array\n",
    "    :param save_path: save path\n",
    "    :return: pass\n",
    "    \"\"\"\n",
    "    print('Saving file: {}'.format(save_path))\n",
    "    dt = h5py.special_dtype(vlen=str)\n",
    "    with h5py.File(save_path, 'w', libver='latest') as hf:\n",
    "        hf.create_dataset('images', data=stacked_cutout.astype(np.float32))\n",
    "        hf.create_dataset('tile', data=np.asarray(tile_numbers), dtype=np.int32)\n",
    "        hf.create_dataset('cfis_id', data=np.asarray(ids), dtype=dt)\n",
    "        hf.create_dataset('ra', data=ras.astype(np.float32))\n",
    "        hf.create_dataset('dec', data=decs.astype(np.float32))\n",
    "    pass\n",
    "\n",
    "def process_tile(tile):\n",
    "    save_path = os.path.join(cutout_dir, h5_filename + f'_{tile[0]}_{tile[1]}.h5')\n",
    "    obj_in_tile = catalog.loc[catalog['tile'] == tile]\n",
    "    cutout = make_cutouts_all_bands(availability, tile, obj_in_tile, download_dir, band_dict, cutout_size)\n",
    "    save_to_h5(cutout, tile, obj_in_tile.ID.values, obj_in_tile.ra.values, obj_in_tile.dec.values, save_path)\n",
    "    return cutout\n",
    "\n",
    "\n",
    "band_dict = {'cfis-u': {'name': 'CFIS', 'band': 'u', 'vos': 'vos:cfis/tiles_DR5/', 'suffix': '.u.fits', 'delimiter': '.', 'fits_ext': 0},\n",
    "            'whigs-g': {'name': 'calexp-CFIS', 'band': 'g', 'vos': 'vos:cfis/whigs/stack_images_CFIS_scheme/', 'suffix': '.fits', 'delimiter': '_', 'fits_ext': 1},\n",
    "            'cfis_lsb-r': {'name': 'CFIS_LSB', 'band': 'r', 'vos': 'vos:cfis/tiles_LSB_DR5/', 'suffix': '.r.fits', 'delimiter': '.', 'fits_ext': 0},\n",
    "            'ps-i': {'name': 'PS-DR3', 'band': 'i', 'vos': 'vos:cfis/panstarrs/DR3/tiles/', 'suffix': '.i.fits', 'delimiter': '.', 'fits_ext': 0},\n",
    "            'wishes-z': {'name': 'WISHES', 'band': 'z', 'vos': 'vos:cfis/wishes_1/coadd/', 'suffix': '.z.fits', 'delimiter': '.', 'fits_ext': 1}}\n",
    "\n",
    "parent_dir = '/home/nick/astro/ssl-spencer/'\n",
    "cutout_dir = os.path.join(parent_dir, 'h5_files/')\n",
    "os.makedirs(cutout_dir, exist_ok=True)\n",
    "download_dir = os.path.join(parent_dir, 'data/')\n",
    "os.makedirs(download_dir, exist_ok=True)\n",
    "cutout_size = 200\n",
    "h5_filename = 'cutout_stacks_ugriz_lsb_200x200'\n",
    "# for line profiling\n",
    "# lp.add_function(make_cutouts_all_bands)\n",
    "# lp.add_function(save_to_h5)\n",
    "\n",
    "# def main():\n",
    "#     # log tile processing\n",
    "#     successful_tiles_count = 0\n",
    "#     total_cutouts_count = 0\n",
    "#     failed_tiles = []\n",
    "    \n",
    "#     for tile in tiles_five_bands:\n",
    "#         try:\n",
    "#             save_path = os.path.join(cutout_dir, h5_filename + f'_{tile[0]}_{tile[1]}.h5')\n",
    "#             obj_in_tile = catalog.loc[catalog['tile'] == tile]\n",
    "#             cutout = make_cutouts_all_bands(tile, obj_in_tile, download_dir, band_dict, cutout_size)\n",
    "#             save_to_h5(cutout, tile, obj_in_tile.ID.values, obj_in_tile.ra.values, obj_in_tile.dec.values, save_path)\n",
    "\n",
    "#             total_cutouts_count += cutout.shape[0]\n",
    "#             successful_tiles_count += 1\n",
    "#         except Exception as e:\n",
    "#             print(f\"Failed to process tile {tile}: {str(e)}\")\n",
    "#             failed_tiles.append(tile)\n",
    "#     print(f'Cutouts created. Took {(time.time()-start)} seconds.')\n",
    "    \n",
    "#     print(f'Report:\\nTiles processed: {len(tiles_five_bands)}\\nCutouts created: {total_cutouts_count}\\nFailed_tiles: {len(failed_tiles)}/{len(tiles_five_bands)}')\n",
    "#     if len(failed_tiles) != 0:\n",
    "#         print(f'Processing error in tiles: {failed_tiles}.')\n",
    "\n",
    "def main():\n",
    "    # log tile processing\n",
    "    successful_tiles_count = 0\n",
    "    total_cutouts_count = 0\n",
    "    failed_tiles = []\n",
    "\n",
    "    with ProcessPoolExecutor(max_workers=9) as executor:\n",
    "        future_to_tile = {executor.submit(process_tile, tile): tile for tile in tiles_x_bands}\n",
    "\n",
    "        for future in concurrent.futures.as_completed(future_to_tile):\n",
    "            tile = future_to_tile[future]\n",
    "            try:\n",
    "                cutout = future.result()\n",
    "                if cutout is not None:\n",
    "                    total_cutouts_count += cutout.shape[0]\n",
    "                    successful_tiles_count += 1\n",
    "            except Exception as e:\n",
    "                print(f\"Failed to process tile {tile}: {str(e)}\")\n",
    "                failed_tiles.append(tile)\n",
    "\n",
    "    print(f'Report:\\nTiles processed: {len(tiles_x_bands)}\\nCutouts created: {total_cutouts_count}\\nFailed_tiles: {len(failed_tiles)}/{len(tiles_x_bands)}')\n",
    "    if len(failed_tiles) != 0:\n",
    "        print(f'Processing error in tiles: {failed_tiles}.')\n",
    "            \n",
    "# wrapper = lp(main)\n",
    "# wrapper()\n",
    "start = time.time()\n",
    "main()\n",
    "print(f'Tiles processed, took {np.round(time.time()-start,3)} seconds.')"
   ]
  },
  {
   "cell_type": "code",
   "execution_count": 137,
   "id": "d05eb1b8",
   "metadata": {},
   "outputs": [
    {
     "name": "stdout",
     "output_type": "stream",
     "text": [
      "Timer unit: 1e-09 s\n",
      "\n",
      "Total time: 0 s\n",
      "File: /tmp/ipykernel_68958/3417108590.py\n",
      "Function: make_cutouts_all_bands at line 26\n",
      "\n",
      "Line #      Hits         Time  Per Hit   % Time  Line Contents\n",
      "==============================================================\n",
      "    26                                           def make_cutouts_all_bands(tile, obj_in_tile, download_dir, in_dict, cutout_size):\n",
      "    27                                               \"\"\"\n",
      "    28                                               Loops over all five bands for a given tile, creates cutouts of the targets and adds them to the band dictionary.\n",
      "    29                                               :param tile: tile numbers\n",
      "    30                                               :param obj_in_tile: dataframe containing the known objects in this tile\n",
      "    31                                               :param download_dir: directory storing the tiles\n",
      "    32                                               :param in_dict: band dictionary\n",
      "    33                                               :param cutout_size: square cutout size in pixels\n",
      "    34                                               :return: updated band dictionary containing cutout data\n",
      "    35                                               \"\"\"\n",
      "    36                                               cutout = np.empty((len(obj_in_tile), len(in_dict), cutout_size, cutout_size))\n",
      "    37                                               tile_dir = download_dir+f'{tile[0]}_{tile[1]}'\n",
      "    38                                               times = []\n",
      "    39                                               for j, band in enumerate(in_dict.keys()):\n",
      "    40                                                   start = time.time()\n",
      "    41                                                   prefix = in_dict[band]['name']\n",
      "    42                                                   suffix = in_dict[band]['suffix']\n",
      "    43                                                   delimiter = in_dict[band]['delimiter']\n",
      "    44                                                   fits_ext = in_dict[band]['fits_ext']\n",
      "    45                                                   tile_fitsfilename = f'{prefix}{delimiter}{tile[0]}{delimiter}{tile[1]}{suffix}'\n",
      "    46                                                   with fits.open(os.path.join(tile_dir,tile_fitsfilename), memmap=True) as hdul:\n",
      "    47                                                       data = hdul[fits_ext].data\n",
      "    48                                                   for i, (x, y) in enumerate(zip(obj_in_tile.x.values, obj_in_tile.y.values)):\n",
      "    49                                                       cutout[i, j] = make_cutout(data, x, y, cutout_size)\n",
      "    50                                                   end = time.time()\n",
      "    51                                                   times.append(np.round(end-start,3))\n",
      "    52                                               print(f'Time spend per iteration: {times}')\n",
      "    53                                               return cutout\n",
      "\n",
      "Total time: 0 s\n",
      "File: /tmp/ipykernel_68958/3417108590.py\n",
      "Function: save_to_h5 at line 55\n",
      "\n",
      "Line #      Hits         Time  Per Hit   % Time  Line Contents\n",
      "==============================================================\n",
      "    55                                           def save_to_h5(stacked_cutout, tile_numbers, ids, ras, decs, save_path):\n",
      "    56                                               \"\"\"\n",
      "    57                                               Save cutout data including meta data to file.\n",
      "    58                                               :param stacked_cutout: stacked numpy array of the image data in different bands\n",
      "    59                                               :param tile_numbers: tile numbers\n",
      "    60                                               :param ids: object IDs\n",
      "    61                                               :param ras: right ascention coordinate array\n",
      "    62                                               :param decs: declination coordinate array\n",
      "    63                                               :param save_path: save path\n",
      "    64                                               :return: pass\n",
      "    65                                               \"\"\"\n",
      "    66                                               print('Saving file: {}'.format(save_path))\n",
      "    67                                               dt = h5py.special_dtype(vlen=str)\n",
      "    68                                               with h5py.File(save_path, 'w', libver='latest') as hf:\n",
      "    69                                                   hf.create_dataset('images', data=stacked_cutout.astype(np.float32))\n",
      "    70                                                   hf.create_dataset('tile', data=np.asarray(tile_numbers), dtype=np.int32)\n",
      "    71                                                   hf.create_dataset('cfis_id', data=np.asarray(ids), dtype=dt)\n",
      "    72                                                   hf.create_dataset('ra', data=ras.astype(np.float32))\n",
      "    73                                                   hf.create_dataset('dec', data=decs.astype(np.float32))\n",
      "    74                                               pass\n",
      "\n"
     ]
    }
   ],
   "source": [
    "lp.print_stats()"
   ]
  },
  {
   "cell_type": "markdown",
   "id": "9dc5eef7",
   "metadata": {},
   "source": [
    "### Visualize the cutouts"
   ]
  },
  {
   "cell_type": "code",
   "execution_count": 56,
   "id": "6e42a42e",
   "metadata": {},
   "outputs": [],
   "source": [
    "from astropy.visualization import simple_norm\n",
    "import matplotlib.pyplot as plt\n",
    "\n",
    "def read_h5(path):\n",
    "    with h5py.File(path, 'r') as f:\n",
    "        # Create empty dictionaries to store data for each group\n",
    "        cutout_data = {}\n",
    "\n",
    "        # Loop through datasets\n",
    "        for dataset_name in f:\n",
    "            data = np.array(f[dataset_name])\n",
    "            cutout_data[dataset_name] = data\n",
    "    return cutout_data\n",
    "\n",
    "def plot_cutout(cutout, band_dict):\n",
    "    image_data = cutout['images']\n",
    "    obj_ids = np.array([x.decode('utf-8') for x in cutout['cfis_id']])\n",
    "    n_objects, n_bands = image_data.shape[0], image_data.shape[1]\n",
    "    fig, axes = plt.subplots(n_objects, n_bands, figsize=(n_bands*4,n_objects*4))\n",
    "    # Loop through objects and filter bands, and plot each image\n",
    "    for i in range(n_objects):  # Number of objects\n",
    "        for j, band in enumerate(band_dict.keys()):  # Number of filter bands\n",
    "            filter_name = band_dict[band]['band']\n",
    "            ax = axes[i, j]\n",
    "\n",
    "            # Get the image data for the current object and filter band\n",
    "            image = image_data[i, j]\n",
    "            # Display the image\n",
    "            norm = simple_norm(image, 'sqrt', percent=98.)\n",
    "            ax.imshow(image, norm=norm, cmap='gray_r', origin='lower')  # Adjust the cmap as needed\n",
    "            ax.set_title(f'{obj_ids[i]}, {filter_name}')\n",
    "\n",
    "            # Optionally, you can turn off axis labels if they are not needed\n",
    "            ax.axis('off')\n",
    "\n",
    "    plt.tight_layout()\n",
    "    plt.show()"
   ]
  },
  {
   "cell_type": "code",
   "execution_count": 57,
   "id": "dcaa3d47",
   "metadata": {},
   "outputs": [
    {
     "name": "stdout",
     "output_type": "stream",
     "text": [
      "[<Axes: > <Axes: > <Axes: > <Axes: > <Axes: >]\n"
     ]
    },
    {
     "ename": "IndexError",
     "evalue": "too many indices for array: array is 1-dimensional, but 2 were indexed",
     "output_type": "error",
     "traceback": [
      "\u001b[0;31m---------------------------------------------------------------------------\u001b[0m",
      "\u001b[0;31mIndexError\u001b[0m                                Traceback (most recent call last)",
      "Cell \u001b[0;32mIn[57], line 10\u001b[0m\n\u001b[1;32m      7\u001b[0m cutout_path \u001b[38;5;241m=\u001b[39m os\u001b[38;5;241m.\u001b[39mpath\u001b[38;5;241m.\u001b[39mjoin(cutout_dir, h5_filename \u001b[38;5;241m+\u001b[39m \u001b[38;5;124mf\u001b[39m\u001b[38;5;124m'\u001b[39m\u001b[38;5;124m_\u001b[39m\u001b[38;5;132;01m{\u001b[39;00mtile_number[\u001b[38;5;241m0\u001b[39m]\u001b[38;5;132;01m}\u001b[39;00m\u001b[38;5;124m_\u001b[39m\u001b[38;5;132;01m{\u001b[39;00mtile_number[\u001b[38;5;241m1\u001b[39m]\u001b[38;5;132;01m}\u001b[39;00m\u001b[38;5;124m.h5\u001b[39m\u001b[38;5;124m'\u001b[39m)\n\u001b[1;32m      8\u001b[0m cutout \u001b[38;5;241m=\u001b[39m read_h5(cutout_path)\n\u001b[0;32m---> 10\u001b[0m plot_cutout(cutout, band_dict)\n",
      "Cell \u001b[0;32mIn[56], line 25\u001b[0m, in \u001b[0;36mplot_cutout\u001b[0;34m(cutout, band_dict)\u001b[0m\n\u001b[1;32m     23\u001b[0m \u001b[38;5;28;01mfor\u001b[39;00m j, band \u001b[38;5;129;01min\u001b[39;00m \u001b[38;5;28menumerate\u001b[39m(band_dict\u001b[38;5;241m.\u001b[39mkeys()):  \u001b[38;5;66;03m# Number of filter bands\u001b[39;00m\n\u001b[1;32m     24\u001b[0m     filter_name \u001b[38;5;241m=\u001b[39m band_dict[band][\u001b[38;5;124m'\u001b[39m\u001b[38;5;124mband\u001b[39m\u001b[38;5;124m'\u001b[39m]\n\u001b[0;32m---> 25\u001b[0m     ax \u001b[38;5;241m=\u001b[39m axes[i, j]\n\u001b[1;32m     27\u001b[0m     \u001b[38;5;66;03m# Get the image data for the current object and filter band\u001b[39;00m\n\u001b[1;32m     28\u001b[0m     image \u001b[38;5;241m=\u001b[39m image_data[i, j]\n",
      "\u001b[0;31mIndexError\u001b[0m: too many indices for array: array is 1-dimensional, but 2 were indexed"
     ]
    },
    {
     "data": {
      "image/png": "[encoded data removed]",
      "text/plain": [
       "<Figure size 2000x400 with 5 Axes>"
      ]
     },
     "metadata": {},
     "output_type": "display_data"
    }
   ],
   "source": [
    "tile_number = (246, 289)\n",
    "\n",
    "parent_dir = '/home/nick/astro/TileSlicer/'\n",
    "cutout_dir = os.path.join(parent_dir, 'h5_files/')\n",
    "os.makedirs(cutout_dir, exist_ok=True)\n",
    "h5_filename = 'cutout_stacks_ugriz_lsb_200x200'\n",
    "cutout_path = os.path.join(cutout_dir, h5_filename + f'_{tile_number[0]}_{tile_number[1]}.h5')\n",
    "cutout = read_h5(cutout_path)\n",
    "\n",
    "plot_cutout(cutout, band_dict)"
   ]
  },
  {
   "cell_type": "code",
   "execution_count": 53,
   "id": "cf028675-6cf9-4c0e-a153-b23683f99444",
   "metadata": {},
   "outputs": [
    {
     "data": {
      "text/plain": [
       "(1, 5, 200, 200)"
      ]
     },
     "execution_count": 53,
     "metadata": {},
     "output_type": "execute_result"
    }
   ],
   "source": [
    "cutout['images'].shape"
   ]
  },
  {
   "cell_type": "code",
   "execution_count": 258,
   "id": "a0649ad9",
   "metadata": {},
   "outputs": [
    {
     "data": {
      "text/plain": [
       "(200, 200)"
      ]
     },
     "execution_count": 258,
     "metadata": {},
     "output_type": "execute_result"
    }
   ],
   "source": [
    "cutout['images'][6][0].shape"
   ]
  },
  {
   "cell_type": "code",
   "execution_count": 262,
   "id": "d8229e90",
   "metadata": {},
   "outputs": [
    {
     "data": {
      "text/plain": [
       "(240, 291)"
      ]
     },
     "execution_count": 262,
     "metadata": {},
     "output_type": "execute_result"
    }
   ],
   "source": [
    "tiles_five_bands[6]"
   ]
  },
  {
   "cell_type": "code",
   "execution_count": 112,
   "id": "2dfe433e",
   "metadata": {},
   "outputs": [
    {
     "data": {
      "text/plain": [
       "numpy.int64"
      ]
     },
     "execution_count": 112,
     "metadata": {},
     "output_type": "execute_result"
    }
   ],
   "source": [
    "type(cutout['tile'][0])"
   ]
  },
  {
   "cell_type": "markdown",
   "id": "bcd9d6a8",
   "metadata": {},
   "source": [
    "## VOSpace tile cuts"
   ]
  },
  {
   "cell_type": "code",
   "execution_count": 625,
   "id": "f1ca1d10",
   "metadata": {},
   "outputs": [],
   "source": [
    "Client().copy('vos:cfis/tile.cuts', '/home/nick/astro/ssl-spencer/tiles.csv')\n",
    "tiles = pd.read_csv('../tiles.csv', delimiter=r'\\s+', header=None, names=['tile_numbers','ra_min','ra_max','dec_min','dec_max'])"
   ]
  },
  {
   "cell_type": "code",
   "execution_count": 626,
   "id": "0f4c8dd5",
   "metadata": {},
   "outputs": [
    {
     "data": {
      "text/html": [
       "<div>\n",
       "<style scoped>\n",
       "    .dataframe tbody tr th:only-of-type {\n",
       "        vertical-align: middle;\n",
       "    }\n",
       "\n",
       "    .dataframe tbody tr th {\n",
       "        vertical-align: top;\n",
       "    }\n",
       "\n",
       "    .dataframe thead th {\n",
       "        text-align: right;\n",
       "    }\n",
       "</style>\n",
       "<table border=\"1\" class=\"dataframe\">\n",
       "  <thead>\n",
       "    <tr style=\"text-align: right;\">\n",
       "      <th></th>\n",
       "      <th>tile_numbers</th>\n",
       "      <th>ra_min</th>\n",
       "      <th>ra_max</th>\n",
       "      <th>dec_min</th>\n",
       "      <th>dec_max</th>\n",
       "    </tr>\n",
       "  </thead>\n",
       "  <tbody>\n",
       "    <tr>\n",
       "      <th>0</th>\n",
       "      <td>0.240</td>\n",
       "      <td>-0.288675</td>\n",
       "      <td>0.288675</td>\n",
       "      <td>29.75</td>\n",
       "      <td>30.25</td>\n",
       "    </tr>\n",
       "    <tr>\n",
       "      <th>1</th>\n",
       "      <td>0.241</td>\n",
       "      <td>-0.290148</td>\n",
       "      <td>0.290148</td>\n",
       "      <td>30.25</td>\n",
       "      <td>30.75</td>\n",
       "    </tr>\n",
       "    <tr>\n",
       "      <th>2</th>\n",
       "      <td>0.242</td>\n",
       "      <td>-0.291658</td>\n",
       "      <td>0.291658</td>\n",
       "      <td>30.75</td>\n",
       "      <td>31.25</td>\n",
       "    </tr>\n",
       "    <tr>\n",
       "      <th>3</th>\n",
       "      <td>0.243</td>\n",
       "      <td>-0.293207</td>\n",
       "      <td>0.293207</td>\n",
       "      <td>31.25</td>\n",
       "      <td>31.75</td>\n",
       "    </tr>\n",
       "    <tr>\n",
       "      <th>4</th>\n",
       "      <td>0.244</td>\n",
       "      <td>-0.294795</td>\n",
       "      <td>0.294795</td>\n",
       "      <td>31.75</td>\n",
       "      <td>32.25</td>\n",
       "    </tr>\n",
       "    <tr>\n",
       "      <th>...</th>\n",
       "      <td>...</td>\n",
       "      <td>...</td>\n",
       "      <td>...</td>\n",
       "      <td>...</td>\n",
       "      <td>...</td>\n",
       "    </tr>\n",
       "    <tr>\n",
       "      <th>24346</th>\n",
       "      <td>620.240</td>\n",
       "      <td>357.668492</td>\n",
       "      <td>358.245842</td>\n",
       "      <td>29.75</td>\n",
       "      <td>30.25</td>\n",
       "    </tr>\n",
       "    <tr>\n",
       "      <th>24347</th>\n",
       "      <td>620.241</td>\n",
       "      <td>359.493404</td>\n",
       "      <td>360.073700</td>\n",
       "      <td>30.25</td>\n",
       "      <td>30.75</td>\n",
       "    </tr>\n",
       "    <tr>\n",
       "      <th>24348</th>\n",
       "      <td>621.240</td>\n",
       "      <td>358.245842</td>\n",
       "      <td>358.823192</td>\n",
       "      <td>29.75</td>\n",
       "      <td>30.25</td>\n",
       "    </tr>\n",
       "    <tr>\n",
       "      <th>24349</th>\n",
       "      <td>622.240</td>\n",
       "      <td>358.823192</td>\n",
       "      <td>359.400543</td>\n",
       "      <td>29.75</td>\n",
       "      <td>30.25</td>\n",
       "    </tr>\n",
       "    <tr>\n",
       "      <th>24350</th>\n",
       "      <td>623.240</td>\n",
       "      <td>359.400543</td>\n",
       "      <td>359.977893</td>\n",
       "      <td>29.75</td>\n",
       "      <td>30.25</td>\n",
       "    </tr>\n",
       "  </tbody>\n",
       "</table>\n",
       "<p>24351 rows × 5 columns</p>\n",
       "</div>"
      ],
      "text/plain": [
       "       tile_numbers      ra_min      ra_max  dec_min  dec_max\n",
       "0             0.240   -0.288675    0.288675    29.75    30.25\n",
       "1             0.241   -0.290148    0.290148    30.25    30.75\n",
       "2             0.242   -0.291658    0.291658    30.75    31.25\n",
       "3             0.243   -0.293207    0.293207    31.25    31.75\n",
       "4             0.244   -0.294795    0.294795    31.75    32.25\n",
       "...             ...         ...         ...      ...      ...\n",
       "24346       620.240  357.668492  358.245842    29.75    30.25\n",
       "24347       620.241  359.493404  360.073700    30.25    30.75\n",
       "24348       621.240  358.245842  358.823192    29.75    30.25\n",
       "24349       622.240  358.823192  359.400543    29.75    30.25\n",
       "24350       623.240  359.400543  359.977893    29.75    30.25\n",
       "\n",
       "[24351 rows x 5 columns]"
      ]
     },
     "execution_count": 626,
     "metadata": {},
     "output_type": "execute_result"
    }
   ],
   "source": [
    "tiles"
   ]
  },
  {
   "cell_type": "code",
   "execution_count": null,
   "id": "2fcefedc",
   "metadata": {},
   "outputs": [],
   "source": []
  }
 ],
 "metadata": {
  "kernelspec": {
   "display_name": "Python 3 (ipykernel)",
   "language": "python",
   "name": "python3"
  },
  "language_info": {
   "codemirror_mode": {
    "name": "ipython",
    "version": 3
   },
   "file_extension": ".py",
   "mimetype": "text/x-python",
   "name": "python",
   "nbconvert_exporter": "python",
   "pygments_lexer": "ipython3",
   "version": "3.9.15"
  }
 },
 "nbformat": 4,
 "nbformat_minor": 5
}
