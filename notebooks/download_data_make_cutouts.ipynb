{
 "cells": [
  {
   "cell_type": "code",
   "execution_count": 1,
   "id": "f8b3f8e1-d98e-40c1-bfd5-19cc5f6ea65d",
   "metadata": {},
   "outputs": [],
   "source": [
    "import os\n",
    "import shutil\n",
    "import h5py\n",
    "import random\n",
    "import glob\n",
    "import argparse\n",
    "import numpy as np\n",
    "from astropy.nddata.utils import Cutout2D\n",
    "from shutil import copyfile\n",
    "from astropy.io import fits\n",
    "import pandas as pd\n",
    "from astropy.wcs import WCS, utils\n",
    "from astropy.coordinates import SkyCoord\n",
    "import astropy.units as units\n",
    "from astropy.wcs.utils import skycoord_to_pixel\n",
    "import warnings\n",
    "import time\n",
    "from astropy.table import Table"
   ]
  },
  {
   "cell_type": "code",
   "execution_count": 2,
   "id": "8e4c1793",
   "metadata": {},
   "outputs": [],
   "source": [
    "def make_cutout(img, x, y):\n",
    "    ''' Creates the image cutout given a tile, the position of the center and the band '''\n",
    "\n",
    "    img_cutout = Cutout2D(img.data, (x, y), cutout_size, mode=\"partial\", fill_value=0).data\n",
    "\n",
    "    if np.count_nonzero(np.isnan(img_cutout)) >= 0.05 * cutout_size ** 2 or np.count_nonzero(\n",
    "            img_cutout) == 0:  # Don't use this cutout\n",
    "        return np.zeros((cutout_size, cutout_size))\n",
    "\n",
    "    img_cutout[np.isnan(img_cutout)] = 0\n",
    "\n",
    "    return img_cutout\n",
    "\n",
    "\n",
    "def ra_dec_to_xy(fits, ra, dec, band):\n",
    "    if band in ['i', 'z']:\n",
    "        head = fits[1].read_header()\n",
    "    else:\n",
    "        head = fits[0].read_header()\n",
    "    w = WCS(head)\n",
    "    return skycoord_to_pixel(SkyCoord(ra, dec, unit=\"deg\"), w)\n",
    "\n",
    "def show_scale(fits_file):\n",
    "    hdulist = fits.open(fits_file) #open fits file\n",
    "    if (file.split('.')[-2] in ['z'] or file.split('/')[-1].startswith('calexp')):\n",
    "        exp = 1\n",
    "    else:\n",
    "        exp = 0\n",
    "    header = hdulist[exp].header #get header of first extension\n",
    "    wcs = WCS(header)\n",
    "    ra = header['CRVAL1']\n",
    "    dec = header['CRVAL2']\n",
    "    pix_scale = abs(header['CD1_1']*3600)\n",
    "    dim_x_deg = header['NAXIS1']*pix_scale/3600\n",
    "    dim_y_deg = header['NAXIS2']*pix_scale/3600\n",
    "    return ra, dec, pix_scale, dim_x_deg, dim_y_deg\n",
    "\n",
    "def union_catalogs(cat1, cat2, r=15.0, ra_key='RAJ2000', dec_key='DEJ2000'):\n",
    "    cat1, cat2 = (cat1, cat2) if len(cat1) <= len(cat2) else (cat2, cat1)\n",
    "    c_cat1 = SkyCoord(cat1[ra_key], cat1[dec_key], unit='deg', frame='icrs')\n",
    "    c_cat2 = SkyCoord(cat2[ra_key], cat2[dec_key], unit='deg', frame='icrs')\n",
    "    \n",
    "    max_sep = r * units.arcsec\n",
    "    idx, d2d, d3d = c_cat1.match_to_catalog_3d(c_cat2)\n",
    "    sep_constraint = d2d < max_sep\n",
    "    cat1_matches = cat1.loc[sep_constraint]\n",
    "    cat1_unmatches = cat1.loc[~sep_constraint]    \n",
    "    \n",
    "    cat_new = pd.concat([cat1_unmatches, cat2], ignore_index=True)\n",
    "    \n",
    "    return cat_new\n",
    "\n",
    "def kpc_to_arcsec(kpc, D):\n",
    "    radians = kpc/(1000*D)\n",
    "    arcsec = np.degrees(radians)*3600\n",
    "    return arcsec\n",
    "    \n",
    "def arcsec_to_kpc(arcsec, D):\n",
    "    radians = np.radians(arcsec/3600)\n",
    "    return radians*D*1000"
   ]
  },
  {
   "cell_type": "code",
   "execution_count": 3,
   "id": "68780a72",
   "metadata": {},
   "outputs": [],
   "source": [
    "file_path = '/home/nick/astro/UNIONS/lsb-detection-pipeline/NGC5457_test/fields/CFIS_LSB.246.289.r/'\n",
    "fits_file_g = 'calexp-CFIS_246_289.fits'\n",
    "fits_file_u = 'CFIS.246.289.u.fits'\n",
    "fits_file_r = 'CFIS_LSB.246.289.r.fits'\n",
    "fits_file_z = 'WISHES.246.289.z.fits'\n",
    "fits_file_i = 'PS-DR3.246.289.i.fits'"
   ]
  },
  {
   "cell_type": "code",
   "execution_count": 4,
   "id": "f9b49475-7264-4c6a-9c50-d56d41c00da3",
   "metadata": {
    "scrolled": true
   },
   "outputs": [
    {
     "name": "stderr",
     "output_type": "stream",
     "text": [
      "WARNING: VerifyWarning: It is strongly recommended that column names contain only upper and lower-case ASCII letters, digits, or underscores for maximum compatibility with other software (got '---'). [astropy.io.fits.column]\n",
      "WARNING: UnitsWarning: '[Msun]' did not parse as fits unit: Invalid character at col 0 If this is meant to be a custom unit, define it with 'u.def_unit'. To have it recognized inside a file reader or other code, enable it with 'u.add_enabled_units'. For details, see https://docs.astropy.org/en/latest/units/combining_and_defining.html [astropy.units.core]\n"
     ]
    }
   ],
   "source": [
    "tables = '/home/nick/astro/TileSlicer/tables/'\n",
    "matlas = pd.read_csv(tables + 'matlas_info.csv')\n",
    "elves = pd.read_csv(tables + 'elves_info.csv')\n",
    "elves['re_arc'] = [kpc_to_arcsec(x/1000., D) for x, D in zip(elves['re'], elves['dist'])]\n",
    "M101_lsb = pd.read_csv(tables + 'M101_lsb.csv')\n",
    "M101_lsb['morph'] = 'UDG'\n",
    "smudges = Table.read(tables+'smudges.fits', format='fits')\n",
    "smudges = smudges.to_pandas()\n",
    "smudges = smudges.map(lambda x: x.decode('utf-8') if isinstance(x, bytes) else x)\n",
    "smudges.to_csv(tables+'smudges.csv', index=False)\n",
    "dE_catalog = Table.read(tables+'dE_catalog.fits', format='fits')\n",
    "dE_catalog = dE_catalog.to_pandas()\n",
    "dE_catalog = dE_catalog.map(lambda x: x.decode('utf-8') if isinstance(x, bytes) else x)\n",
    "dE_catalog['PGC'] = ['PGC'+str(x) for x in np.array(dE_catalog['PGC'])]\n",
    "dE_catalog.to_csv(tables+'dE_catalog.csv', index=False)"
   ]
  },
  {
   "cell_type": "code",
   "execution_count": 22,
   "id": "ff2bda17-fb0a-4318-a804-5dcb4241c131",
   "metadata": {},
   "outputs": [
    {
     "name": "stdout",
     "output_type": "stream",
     "text": [
      "Done in 0.0002186298370361328 seconds.\n"
     ]
    }
   ],
   "source": [
    "start = time.time()\n",
    "np.count_nonzero(matlas['f_Dist'] == 1)\n",
    "print(f'Done in {time.time()-start} seconds.')"
   ]
  },
  {
   "cell_type": "code",
   "execution_count": 8,
   "id": "b5b64df4-b3e3-4e6b-a238-eae146dd3fd3",
   "metadata": {},
   "outputs": [
    {
     "ename": "TypeError",
     "evalue": "'numpy.ndarray' object is not callable",
     "output_type": "error",
     "traceback": [
      "\u001b[0;31m---------------------------------------------------------------------------\u001b[0m",
      "\u001b[0;31mTypeError\u001b[0m                                 Traceback (most recent call last)",
      "Cell \u001b[0;32mIn[8], line 1\u001b[0m\n\u001b[0;32m----> 1\u001b[0m matlas[\u001b[38;5;124m'\u001b[39m\u001b[38;5;124mf_Dist\u001b[39m\u001b[38;5;124m'\u001b[39m]\u001b[38;5;241m.\u001b[39mvalues()\n",
      "\u001b[0;31mTypeError\u001b[0m: 'numpy.ndarray' object is not callable"
     ]
    }
   ],
   "source": [
    "matlas['f_Dist'].values()"
   ]
  },
  {
   "cell_type": "code",
   "execution_count": 138,
   "id": "d70178e4-ba93-43ba-80ca-e4092be35a0a",
   "metadata": {},
   "outputs": [],
   "source": [
    "# Define column names based on the byte-by-byte description\n",
    "columns = [\n",
    "    'Name', 'RAdeg', 'DEdeg', 'Host', 'Dist-host', 'Dist-SBF', 'Source',\n",
    "    'Confirm', 'vrec', 'r_vrec', 'Dtrgb', 'r_Dtrgb']\n",
    "\n",
    "# Read the data into a pandas DataFrame\n",
    "elves_rejected = pd.read_fwf(tables+ 'elves_rejected.csv', skiprows=0, header=None, names=columns)"
   ]
  },
  {
   "cell_type": "code",
   "execution_count": 5,
   "id": "c56a31f2-f575-451f-9063-f5a5002bf2cc",
   "metadata": {},
   "outputs": [],
   "source": [
    "dE_fuse = dE_catalog[['PGC','ID','RAdeg','DEdeg','ARh','Class','z']].rename(columns={'PGC':'host','RAdeg':'ra','DEdeg':'dec','ARh':'re','Class':'morph'})\n",
    "replacements = {\n",
    "    'ND': 'dE',\n",
    "    'UD': 'UDG',\n",
    "}\n",
    "dE_fuse['morph'].replace(replacements, inplace=True)\n",
    "dE_fuse['z'].replace(9.9999, np.nan, inplace=True)\n",
    "\n",
    "matlas_fuse = matlas[['HostETG','ID','RAdeg','DEdeg','Morph','Re']].rename(columns={'HostETG':'host','RAdeg':'ra','DEdeg':'dec','Morph':'morph','Re':'re'})\n",
    "elves_fuse = elves[['host','name','radeg','dedeg', 're_arc']].rename(columns={'name':'ID','radeg':'ra','dedeg':'dec', 're_arc':'re'})\n",
    "M101_fuse = M101_lsb[['host','ID','ra','dec', 'morph','re']]\n",
    "matlas_elves = union_catalogs(matlas_fuse, elves_fuse, ra_key='ra', dec_key='dec')\n",
    "matlas_elves = union_catalogs(matlas_elves, M101_fuse, ra_key='ra', dec_key='dec')\n",
    "matlas_elves_dE = union_catalogs(matlas_elves, dE_fuse, ra_key='ra', dec_key='dec')\n",
    "matlas_elves_dE.to_csv(tables+'all_known_dwarfs.csv', index=False)\n",
    "matlas_elves.to_csv(tables+'known_dwarfs.csv', index=False)"
   ]
  },
  {
   "cell_type": "code",
   "execution_count": 6,
   "id": "0c427412-3320-4076-9c66-462c5f9cc62e",
   "metadata": {},
   "outputs": [
    {
     "data": {
      "text/plain": [
       "<Axes: >"
      ]
     },
     "execution_count": 6,
     "metadata": {},
     "output_type": "execute_result"
    },
    {
     "data": {
      "image/png": "[encoded data removed]",
      "text/plain": [
       "<Figure size 640x480 with 1 Axes>"
      ]
     },
     "metadata": {},
     "output_type": "display_data"
    }
   ],
   "source": [
    "tables = '/home/nick/astro/TileSlicer/tables/'\n",
    "known_dwarfs = pd.read_csv(tables+'known_dwarfs_processed.csv')\n",
    "bins = np.arange(0, 50, 2)\n",
    "known_dwarfs['re'].hist(bins=bins)"
   ]
  },
  {
   "cell_type": "code",
   "execution_count": 7,
   "id": "e25a9edc",
   "metadata": {},
   "outputs": [],
   "source": [
    "known_dwarfs_3b = known_dwarfs.loc[known_dwarfs['n_bands'] >= 3]"
   ]
  },
  {
   "cell_type": "code",
   "execution_count": 10,
   "id": "8dddd474",
   "metadata": {},
   "outputs": [
    {
     "name": "stdout",
     "output_type": "stream",
     "text": [
      "The median half light diameter in pixels is 56.52197747492921, the mean is 78.09731974165071\n"
     ]
    }
   ],
   "source": [
    "median = known_dwarfs_3b['re'].loc[known_dwarfs_3b['re'] > 0].median()\n",
    "mean = known_dwarfs_3b['re'].loc[known_dwarfs_3b['re'] > 0].mean()\n",
    "\n",
    "pix_median, pix_mean = median/pix_scale, mean/pix_scale\n",
    "\n",
    "print(f'The median half light diameter in pixels is {pix_median*2}, the mean is {pix_mean*2}')"
   ]
  },
  {
   "cell_type": "code",
   "execution_count": 9,
   "id": "2cbcd376",
   "metadata": {},
   "outputs": [
    {
     "name": "stderr",
     "output_type": "stream",
     "text": [
      "WARNING: FITSFixedWarning: 'datfix' made the change 'Set DATE-OBS to '2021-04-16T09:42:12.099' from MJD-OBS'. [astropy.wcs.wcs]\n"
     ]
    }
   ],
   "source": [
    "file = os.path.join(file_path,fits_file_u)\n",
    "_, _, pix_scale, _, _ = show_scale(file)"
   ]
  },
  {
   "cell_type": "code",
   "execution_count": 5,
   "id": "826e0b40",
   "metadata": {},
   "outputs": [
    {
     "data": {
      "text/plain": [
       "(211.812250635808,\n",
       " 54.5,\n",
       " 0.1857684474089298,\n",
       " 0.516023465024805,\n",
       " 0.516023465024805)"
      ]
     },
     "execution_count": 5,
     "metadata": {},
     "output_type": "execute_result"
    }
   ],
   "source": [
    "file = os.path.join(file_path,fits_file_g)\n",
    "show_scale(file)"
   ]
  },
  {
   "cell_type": "code",
   "execution_count": 6,
   "id": "e2bc7f88",
   "metadata": {
    "scrolled": true
   },
   "outputs": [
    {
     "name": "stderr",
     "output_type": "stream",
     "text": [
      "WARNING: FITSFixedWarning: 'datfix' made the change 'Set DATE-OBS to '2017-02-24T14:37:52.179' from MJD-OBS'. [astropy.wcs.wcs]\n"
     ]
    },
    {
     "data": {
      "text/plain": [
       "(211.81225064, 54.5, 0.185768447408928, 0.5160234650248, 0.5160234650248)"
      ]
     },
     "execution_count": 6,
     "metadata": {},
     "output_type": "execute_result"
    }
   ],
   "source": [
    "file = os.path.join(file_path,fits_file_r)\n",
    "show_scale(file)"
   ]
  },
  {
   "cell_type": "code",
   "execution_count": 7,
   "id": "356d9ae0",
   "metadata": {},
   "outputs": [
    {
     "name": "stderr",
     "output_type": "stream",
     "text": [
      "WARNING: FITSFixedWarning: 'datfix' made the change 'Set DATE-OBS to '2018-03-05T01:59:12.043' from MJD-OBS'. [astropy.wcs.wcs]\n"
     ]
    },
    {
     "data": {
      "text/plain": [
       "(211.81225064, 54.5, 0.185768447408928, 0.5160234650248, 0.5160234650248)"
      ]
     },
     "execution_count": 7,
     "metadata": {},
     "output_type": "execute_result"
    }
   ],
   "source": [
    "file = os.path.join(file_path,fits_file_i)\n",
    "show_scale(file)"
   ]
  },
  {
   "cell_type": "code",
   "execution_count": 8,
   "id": "7df3d0d8",
   "metadata": {},
   "outputs": [
    {
     "data": {
      "text/plain": [
       "(211.812250635808,\n",
       " 54.5,\n",
       " 0.18576844740891937,\n",
       " 0.516023465024776,\n",
       " 0.516023465024776)"
      ]
     },
     "execution_count": 8,
     "metadata": {},
     "output_type": "execute_result"
    }
   ],
   "source": [
    "file = os.path.join(file_path,fits_file_z)\n",
    "show_scale(file)"
   ]
  },
  {
   "cell_type": "markdown",
   "id": "324d8eb1",
   "metadata": {},
   "source": [
    "## Relate ra, dec to tile numbers"
   ]
  },
  {
   "cell_type": "code",
   "execution_count": 6,
   "id": "b07abbcc",
   "metadata": {},
   "outputs": [],
   "source": [
    "def relate_coord_tile(coords=None, nums=None):\n",
    "    \"\"\"\n",
    "    Conversion between tile numbers and coordinates.\n",
    "    :param coords: right ascention, declination; tuple\n",
    "    :param nums: first and second tile numbers; tuple\n",
    "    :return: depending on the input, return the tile numbers or the ra and dec coordinates\n",
    "    \"\"\"\n",
    "    if coords:\n",
    "        ra, dec = coords\n",
    "        xxx=ra*2*np.cos(np.radians(dec))\n",
    "        yyy=(dec+90)*2\n",
    "        return int(xxx), int(yyy)\n",
    "    else:\n",
    "        xxx, yyy = nums\n",
    "        dec=yyy/2-90\n",
    "        ra=xxx/2/np.cos(np.radians(dec))\n",
    "        return np.round(ra,12), np.round(dec,12)"
   ]
  },
  {
   "cell_type": "markdown",
   "id": "ae8d3d33",
   "metadata": {},
   "source": [
    "## Get lists of currently available tiles for each band"
   ]
  },
  {
   "cell_type": "code",
   "execution_count": 7,
   "id": "baa3e047",
   "metadata": {},
   "outputs": [],
   "source": [
    "def update_available_tiles(path, save=True):\n",
    "    \"\"\"\n",
    "    Update available tile lists from the VOSpace. Takes a few mins to run.\n",
    "    :param path: path to save tile lists.\n",
    "    :param save: save new lists to disk, default is True.\n",
    "    :return: /\n",
    "    \"\"\"\n",
    "    cfis_u_tiles = client.glob1('vos:cfis/tiles_DR5/','*u.fits')\n",
    "    whigs_g_tiles = client.glob1('vos:cfis/whigs/stack_images_CFIS_scheme/','*.fits')\n",
    "    cfis_lsb_r_tiles = client.glob1('vos:cfis/tiles_LSB_DR5/','*.fits')\n",
    "    ps_i_tiles = client.glob1('vos:cfis/panstarrs/DR3/tiles/','*i.fits')\n",
    "    wishes_z_tiles = client.glob1('vos:cfis/wishes_1/coadd/','*.fits')\n",
    "    if save:\n",
    "        np.savetxt(path+'cfis_u_tiles.txt', cfis_u_tiles, fmt='%s')\n",
    "        np.savetxt(path+'whigs_g_tiles.txt', whigs_g_tiles, fmt='%s')\n",
    "        np.savetxt(path+'cfis_lsb_r_tiles.txt', cfis_lsb_r_tiles, fmt='%s')\n",
    "        np.savetxt(path+'ps_i_tiles.txt', ps_i_tiles, fmt='%s')\n",
    "        np.savetxt(path+'wishes_z_tiles.txt', wishes_z_tiles, fmt='%s')\n",
    "        \n",
    "def load_available_tiles(path):\n",
    "    \"\"\"\n",
    "    Load tile lists from disk.\n",
    "    :param path: path to files\n",
    "    :return: lists of available tiles for the five bands\n",
    "    \"\"\"\n",
    "    u_tiles = np.loadtxt(path+'cfis_u_tiles.txt', dtype=str)\n",
    "    g_tiles = np.loadtxt(path+'whigs_g_tiles.txt', dtype=str)\n",
    "    lsb_r_tiles = np.loadtxt(path+'cfis_lsb_r_tiles.txt', dtype=str)\n",
    "    i_tiles = np.loadtxt(path+'ps_i_tiles.txt', dtype=str)\n",
    "    z_tiles = np.loadtxt(path+'wishes_z_tiles.txt', dtype=str)\n",
    "    \n",
    "    return u_tiles, g_tiles, lsb_r_tiles, i_tiles, z_tiles\n",
    "\n",
    "def get_tile_numbers(name):\n",
    "    \"\"\"\n",
    "    Extract tile numbers from tile name\n",
    "    :param name: .fits file name of a given tile\n",
    "    :return two three digit tile numbers\n",
    "    \"\"\"\n",
    "    parts = name.split('.')\n",
    "    if name.startswith('calexp'):\n",
    "        parts = parts[0].split('_')\n",
    "    xxx, yyy = map(int, parts[1:3])\n",
    "    return xxx, yyy\n",
    "\n",
    "def extract_tile_numbers(tile_lists):\n",
    "    \"\"\"\n",
    "    Extract tile numbers from .fits file names.\n",
    "    :param tile_lists: lists of file names from the different bands\n",
    "    :return: lists of tile numbers available in the different bands\n",
    "    \"\"\"\n",
    "    u_nums = np.array([get_tile_numbers(name) for name in tile_lists[0]])\n",
    "    g_nums = np.array([get_tile_numbers(name) for name in tile_lists[1]])\n",
    "    lsb_r_nums = np.array([get_tile_numbers(name) for name in tile_lists[2]])\n",
    "    i_nums = np.array([get_tile_numbers(name) for name in tile_lists[3]])\n",
    "    z_nums = np.array([get_tile_numbers(name) for name in tile_lists[4]])\n",
    "    \n",
    "    return u_nums, g_nums, lsb_r_nums, i_nums, z_nums\n",
    "\n",
    "class TileAvailability:\n",
    "    def __init__(self, tile_nums, band_dict, at_least=False, band=None):\n",
    "        self.all_tiles = tile_nums\n",
    "        self.tile_num_sets = [set(map(tuple, tile_array)) for tile_array in self.all_tiles]\n",
    "        self.unique_tiles = sorted(set.union(*self.tile_num_sets))\n",
    "        self.availability_matrix = self._create_availability_matrix()\n",
    "        self.counts = self._calculate_counts(at_least)\n",
    "        self.band_dict = band_dict\n",
    "\n",
    "    def _create_availability_matrix(self):\n",
    "        array_shape = (len(self.unique_tiles), len(self.all_tiles))\n",
    "        availability_matrix = np.zeros(array_shape, dtype=int)\n",
    "\n",
    "        for i, tile in enumerate(self.unique_tiles):\n",
    "            for j, tile_num_set in enumerate(self.tile_num_sets):\n",
    "                availability_matrix[i, j] = int(tile in tile_num_set)\n",
    "\n",
    "        return availability_matrix\n",
    "\n",
    "    def _calculate_counts(self, at_least):\n",
    "        counts = np.sum(self.availability_matrix, axis=1)\n",
    "        bands_available, tile_counts = np.unique(counts, return_counts=True)\n",
    "\n",
    "        counts_dict = dict(zip(bands_available, tile_counts))\n",
    "        \n",
    "        if at_least:\n",
    "            at_least_counts = np.zeros_like(bands_available)\n",
    "            for i, count in enumerate(bands_available):\n",
    "                at_least_counts[i] = np.sum(tile_counts[i:])\n",
    "            counts_dict = dict(zip(bands_available, at_least_counts))\n",
    "        \n",
    "        return counts_dict\n",
    "\n",
    "    def get_availability(self, tile_number):\n",
    "        try:\n",
    "            index = self.unique_tiles.index(tuple(tile_number))\n",
    "        except:\n",
    "            print('\\nTile number not available in any band.')\n",
    "            return [] , []\n",
    "        bands_available = np.where(self.availability_matrix[index] == 1)[0]\n",
    "        return [self.band_dict[list(self.band_dict.keys())[i]]['band'] for i in bands_available], bands_available\n",
    "\n",
    "    def band_tiles(self, band):\n",
    "        return np.array(self.unique_tiles)[self.availability_matrix[:,list(self.band_dict.keys()).index(band)] == 1]\n",
    "\n",
    "    def stats(self):\n",
    "        print(\"\\nNumber of currently available tiles per band:\\n\")\n",
    "        max_band_name_length = max(map(len, self.band_dict.keys()))  # for output format\n",
    "        for band_name, count in zip(self.band_dict.keys(), np.sum(self.availability_matrix, axis=0)):\n",
    "            print(f\"{band_name.ljust(max_band_name_length)}: \\t {count}\")\n",
    "        \n",
    "        print(\"\\nNumber of tiles available in different bands:\\n\")\n",
    "        for bands_available, count in sorted(self.counts.items(), reverse=True):\n",
    "            print(f\"In {bands_available} bands: {count}\")\n",
    "            \n",
    "        print('\\nNumber of unique tiles available:\\n\\n' \\\n",
    "             f'{len(self.unique_tiles)}')"
   ]
  },
  {
   "cell_type": "code",
   "execution_count": 8,
   "id": "726b2a71",
   "metadata": {},
   "outputs": [
    {
     "name": "stdout",
     "output_type": "stream",
     "text": [
      "\n",
      "Number of currently available tiles per band:\n",
      "\n",
      "cfis-u    : \t 34017\n",
      "whigs-g   : \t 19528\n",
      "cfis_lsb-r: \t 20802\n",
      "ps-i      : \t 22168\n",
      "wishes-z  : \t 8444\n",
      "\n",
      "Number of tiles available in different bands:\n",
      "\n",
      "In 5 bands: 5229\n",
      "In 4 bands: 9984\n",
      "In 3 bands: 5007\n",
      "In 2 bands: 3418\n",
      "In 1 bands: 17021\n",
      "\n",
      "Number of unique tiles available:\n",
      "\n",
      "40659\n",
      "\n",
      "(['u', 'g', 'r', 'i', 'z'], array([0, 1, 2, 3, 4]))\n"
     ]
    }
   ],
   "source": [
    "from vos import Client\n",
    "client = Client()\n",
    "\n",
    "band_dict = {'cfis-u': {'name': 'CFIS', 'band': 'u', 'vos': 'vos:cfis/tiles_DR5/', 'suffix': '.u.fits', 'delimiter': '.', 'fits_ext': 0, 'zfill': 3},\n",
    "            'whigs-g': {'name': 'calexp-CFIS', 'band': 'g', 'vos': 'vos:cfis/whigs/stack_images_CFIS_scheme/', 'suffix': '.fits', 'delimiter': '_', 'fits_ext': 1, 'zfill': 0},\n",
    "            'cfis_lsb-r': {'name': 'CFIS_LSB', 'band': 'r', 'vos': 'vos:cfis/tiles_LSB_DR5/', 'suffix': '.r.fits', 'delimiter': '.', 'fits_ext': 0, 'zfill': 3},\n",
    "            'ps-i': {'name': 'PS-DR3', 'band': 'i', 'vos': 'vos:cfis/panstarrs/DR3/tiles/', 'suffix': '.i.fits', 'delimiter': '.', 'fits_ext': 0, 'zfill': 3},\n",
    "            'wishes-z': {'name': 'WISHES', 'band': 'z', 'vos': 'vos:cfis/wishes_1/coadd/', 'suffix': '.z.fits', 'delimiter': '.', 'fits_ext': 1, 'zfill': 0}}\n",
    "\n",
    "parent_dir = '/home/nick/astro/TileSlicer/'\n",
    "tile_dir = os.path.join(parent_dir, 'tile_info/')\n",
    "os.makedirs(tile_dir, exist_ok=True)\n",
    "# retrieve from the VOSpace and update the currently available tiles\n",
    "# takes some time to run\n",
    "update = False\n",
    "# return the number of available tiles that are available in at least 5, 4, 3, 2, 1 bands\n",
    "at_least = False\n",
    "\n",
    "if update:\n",
    "    update_available_tiles(tile_dir)\n",
    "    \n",
    "u, g, lsb_r, i, z = extract_tile_numbers(load_available_tiles(tile_dir))\n",
    "all_bands = [u, g, lsb_r, i, z]\n",
    "availability = TileAvailability(all_bands, band_dict, at_least)\n",
    "availability.stats()\n",
    "\n",
    "# Check the availability for a specific tile\n",
    "tile_number = (243, 290)\n",
    "tile_coords = relate_coord_tile(nums=tile_number)\n",
    "avail_bands = availability.get_availability(tile_number)\n",
    "print(f'\\n{avail_bands}')"
   ]
  },
  {
   "cell_type": "markdown",
   "id": "7ff9aa91",
   "metadata": {},
   "source": [
    "## Create KD-Tree from tile list"
   ]
  },
  {
   "cell_type": "code",
   "execution_count": 9,
   "id": "e65f5143",
   "metadata": {},
   "outputs": [],
   "source": [
    "from scipy.spatial import cKDTree\n",
    "import joblib\n",
    "\n",
    "def tile_coordinates(name):\n",
    "    \"\"\"\n",
    "    Extract RA and Dec from tile name\n",
    "    :param name: .fits file name of a given tile\n",
    "    :return RA and Dec of the tile center\n",
    "    \"\"\"\n",
    "    parts = name.split('.')\n",
    "    if name.startswith('calexp'):\n",
    "        parts = parts[0].split('_')\n",
    "    xxx, yyy = map(int, parts[1:3])\n",
    "    ra = np.round(xxx / 2 / np.cos(np.radians((yyy / 2) - 90)),6)\n",
    "    dec = np.round((yyy / 2) - 90,6)\n",
    "    return ra, dec\n",
    "    \n",
    "def build_tree(tiles, path, save=True):\n",
    "    \"\"\"\n",
    "    Build a kd tree from the input tiles to efficiently query object positions.\n",
    "    :param tiles: list of unique tile number pairs\n",
    "    :param save: save the built tree to file\n",
    "    :return: /\n",
    "    \"\"\"\n",
    "    tile_coords = np.array([relate_coord_tile(nums=num) for num in tiles])\n",
    "    tile_coords_c = SkyCoord(tile_coords[:,0], tile_coords[:,1], unit='deg', frame='icrs')\n",
    "    tile_coords_xyz = np.array([x.cartesian.xyz.value for x in tile_coords_c])\n",
    "    tree = cKDTree(tile_coords_xyz)\n",
    "    if save:\n",
    "        joblib.dump(tree, path+'kdtree_xyz.joblib')\n",
    "\n",
    "def query_tree(tiles, coords, path, build=False, save=True):\n",
    "    \"\"\"\n",
    "    Query the kd tree to find what tile an object is in.\n",
    "    :param tiles: list of tile numbers as tuples\n",
    "    :param coords: ra, dec of object to query\n",
    "    :build: if true build the tree first, default=False\n",
    "    :return tile name and distance object - nearest tile center\n",
    "    \"\"\"\n",
    "    if build:\n",
    "        build_tree(tiles, path, save)\n",
    "    loaded_tree = joblib.load(path+'kdtree_xyz.joblib')\n",
    "    try:\n",
    "        tile_name, dist = find_tile(loaded_tree, tiles, coords)\n",
    "        return tile_name, dist\n",
    "    except ValueError as e:\n",
    "        return np.nan, f'Error: {e}'\n",
    "\n",
    "class TileWCS:\n",
    "    def __init__(self, wcs_keywords={}):\n",
    "        wcs_keywords.update({\n",
    "                'NAXIS': 2,\n",
    "                'CTYPE1': 'RA---TAN',\n",
    "                'CTYPE2': 'DEC--TAN',\n",
    "                'CRVAL1': 0,\n",
    "                'CRVAL2': 0,\n",
    "                'CRPIX1': 5000.0,\n",
    "                'CRPIX2': 5000.0,\n",
    "                'CD1_1': -5.160234650248e-05,\n",
    "                'CD1_2': 0.0,\n",
    "                'CD2_1': 0.0,\n",
    "                'CD2_2': 5.160234650248e-05,\n",
    "                'NAXIS1': 10000,\n",
    "                'NAXIS2': 10000\n",
    "        })\n",
    "            \n",
    "        self.wcs = WCS(wcs_keywords)\n",
    "\n",
    "    def set_coords(self, coords):\n",
    "        self.wcs.wcs.crval = [coords[0], coords[1]]\n",
    "        \n",
    "def find_tile(tree, tiles, object_coord):\n",
    "    \"\"\"\n",
    "    Query the tree and find the tile the object is in.\n",
    "    :param tree: kd tree\n",
    "    :param tiles: list of unique tiles in the survey\n",
    "    :param object_coord: coordinates of the object we want to find a tile for\n",
    "    :return: tile numbers of the matching tile\n",
    "    \"\"\"\n",
    "    coord_c = SkyCoord(object_coord[0], object_coord[1], unit='deg', frame='icrs')\n",
    "    coord_xyz = coord_c.cartesian.xyz.value\n",
    "    dists, indices = tree.query(coord_xyz, k=4)\n",
    "    wcs = TileWCS()\n",
    "    for dist, idx in zip(dists,indices):\n",
    "        wcs.set_coords(relate_coord_tile(nums=tiles[idx]))\n",
    "        if wcs.wcs.footprint_contains(coord_c):\n",
    "            return tiles[idx], dist\n",
    "    raise ValueError('Object could not be assigned to a tile.')"
   ]
  },
  {
   "cell_type": "code",
   "execution_count": 8,
   "id": "c141c693",
   "metadata": {},
   "outputs": [
    {
     "ename": "NameError",
     "evalue": "name 'path' is not defined",
     "output_type": "error",
     "traceback": [
      "\u001b[0;31m---------------------------------------------------------------------------\u001b[0m",
      "\u001b[0;31mNameError\u001b[0m                                 Traceback (most recent call last)",
      "Cell \u001b[0;32mIn[8], line 4\u001b[0m\n\u001b[1;32m      2\u001b[0m obj_coord \u001b[38;5;241m=\u001b[39m \u001b[38;5;241m134.5670522\u001b[39m, \u001b[38;5;241m85.2508887\u001b[39m\n\u001b[1;32m      3\u001b[0m obj_coord_c \u001b[38;5;241m=\u001b[39m SkyCoord(obj_coord[\u001b[38;5;241m0\u001b[39m], obj_coord[\u001b[38;5;241m1\u001b[39m], unit\u001b[38;5;241m=\u001b[39m\u001b[38;5;124m'\u001b[39m\u001b[38;5;124mdeg\u001b[39m\u001b[38;5;124m'\u001b[39m, frame\u001b[38;5;241m=\u001b[39m\u001b[38;5;124m'\u001b[39m\u001b[38;5;124micrs\u001b[39m\u001b[38;5;124m'\u001b[39m)\n\u001b[0;32m----> 4\u001b[0m tile_numbers, dist_nn \u001b[38;5;241m=\u001b[39m query_tree(tiles, obj_coord, path, build\u001b[38;5;241m=\u001b[39m\u001b[38;5;28;01mFalse\u001b[39;00m)\n\u001b[1;32m      5\u001b[0m \u001b[38;5;28;01mif\u001b[39;00m dist_nn:\n\u001b[1;32m      6\u001b[0m     center_coord \u001b[38;5;241m=\u001b[39m relate_coord_tile(nums\u001b[38;5;241m=\u001b[39mtile_numbers)\n",
      "\u001b[0;31mNameError\u001b[0m: name 'path' is not defined"
     ]
    }
   ],
   "source": [
    "tiles = availability.unique_tiles\n",
    "obj_coord = 134.5670522, 85.2508887\n",
    "obj_coord_c = SkyCoord(obj_coord[0], obj_coord[1], unit='deg', frame='icrs')\n",
    "tile_numbers, dist_nn = query_tree(tiles, obj_coord, path, build=False)\n",
    "if dist_nn:\n",
    "    center_coord = relate_coord_tile(nums=tile_numbers)\n",
    "    center_coord_c = SkyCoord(center_coord[0], center_coord[1], unit='deg', frame='icrs')\n",
    "    sep_skycoord = obj_coord_c.separation(center_coord_c).deg\n",
    "    sep_tree = np.degrees(dist_nn)\n",
    "    print(f'The object is in tile number {tile_numbers}.')\n",
    "    print(f'The distance to the nearest tile center is {np.round(np.degrees(dist_nn),3)} degrees.')\n",
    "# print(f'Distance skycoord: {sep_skycoord}, distance tree: {sep_tree}')"
   ]
  },
  {
   "cell_type": "markdown",
   "id": "2a7efa17",
   "metadata": {},
   "source": [
    "## Download a specific tile"
   ]
  },
  {
   "cell_type": "markdown",
   "id": "cd38509e",
   "metadata": {},
   "source": [
    "### Test client speed"
   ]
  },
  {
   "cell_type": "code",
   "execution_count": 17,
   "id": "5f1b1391",
   "metadata": {},
   "outputs": [
    {
     "ename": "NameError",
     "evalue": "name 'time' is not defined",
     "output_type": "error",
     "traceback": [
      "\u001b[0;31m---------------------------------------------------------------------------\u001b[0m",
      "\u001b[0;31mNameError\u001b[0m                                 Traceback (most recent call last)",
      "Cell \u001b[0;32mIn[17], line 1\u001b[0m\n\u001b[0;32m----> 1\u001b[0m start_time \u001b[38;5;241m=\u001b[39m \u001b[43mtime\u001b[49m\u001b[38;5;241m.\u001b[39mtime()\n\u001b[1;32m      2\u001b[0m file_name \u001b[38;5;241m=\u001b[39m \u001b[38;5;124m'\u001b[39m\u001b[38;5;124mCFIS_LSB.143.900.r.fits\u001b[39m\u001b[38;5;124m'\u001b[39m\n\u001b[1;32m      3\u001b[0m client\u001b[38;5;241m.\u001b[39mcopy(\u001b[38;5;124mf\u001b[39m\u001b[38;5;124m'\u001b[39m\u001b[38;5;124mvos:cfis/tiles_LSB_DR5/\u001b[39m\u001b[38;5;132;01m{\u001b[39;00mfile_name\u001b[38;5;132;01m}\u001b[39;00m\u001b[38;5;124m'\u001b[39m, \u001b[38;5;124mf\u001b[39m\u001b[38;5;124m'\u001b[39m\u001b[38;5;124m/home/nick/astro/ssl-spencer/\u001b[39m\u001b[38;5;132;01m{\u001b[39;00mfile_name\u001b[38;5;132;01m}\u001b[39;00m\u001b[38;5;124m'\u001b[39m)\n",
      "\u001b[0;31mNameError\u001b[0m: name 'time' is not defined"
     ]
    }
   ],
   "source": [
    "start_time = time.time()\n",
    "file_name = 'CFIS_LSB.143.900.r.fits'\n",
    "client.copy(f'vos:cfis/tiles_LSB_DR5/{file_name}', f'/home/nick/astro/ssl-spencer/{file_name}')\n",
    "print(f'Finished download. Took {(time.time()-start_time)/60} minutes')"
   ]
  },
  {
   "cell_type": "markdown",
   "id": "ff3dbad1",
   "metadata": {},
   "source": [
    "### Test command line speed"
   ]
  },
  {
   "cell_type": "code",
   "execution_count": 113,
   "id": "b822d2b7",
   "metadata": {},
   "outputs": [
    {
     "name": "stderr",
     "output_type": "stream",
     "text": [
      "INFO vcp vos:cfis/tiles_LSB_DR5/CFIS_LSB.143.321.r.fits -> /home/nick/astro/ssl-spencer/temp_dir/CFIS_LSB.143.321.r.fits \n"
     ]
    },
    {
     "name": "stdout",
     "output_type": "stream",
     "text": [
      "Finished download. Took 12.658307552337646 minutes\n"
     ]
    }
   ],
   "source": [
    "start_time = time.time()\n",
    "file_name = 'CFIS_LSB.143.321.r.fits'\n",
    "vos_copy_command = f'vcp -v vos:cfis/tiles_LSB_DR5/{file_name}'\n",
    "os.system(vos_copy_command + f' /home/nick/astro/ssl-spencer/temp_dir/{file_name}')\n",
    "print(f'Finished download. Took {(time.time()-start_time)/60} minutes')"
   ]
  },
  {
   "cell_type": "markdown",
   "id": "3997af7f",
   "metadata": {},
   "source": [
    "# Pipeline outline"
   ]
  },
  {
   "cell_type": "code",
   "execution_count": 10,
   "id": "66598974",
   "metadata": {},
   "outputs": [],
   "source": [
    "cat_dir = '/home/nick/astro/UNIONS/lsb-detection-pipeline/NGC5457_test/'\n",
    "catalog = pd.read_csv(cat_dir+'NGC5485_dwarfs.csv')\n",
    "ra_key, dec_key = 'ra', 'dec'\n",
    "coord_c = SkyCoord(catalog[ra_key].values, catalog[dec_key].values, unit='deg', frame='icrs')"
   ]
  },
  {
   "cell_type": "code",
   "execution_count": 56,
   "id": "e763d63d-6492-49a9-b651-d3d0e607a1a2",
   "metadata": {},
   "outputs": [],
   "source": [
    "def read_unions_cat(unions_table_dir, tile_nums):\n",
    "    \"\"\"\n",
    "    Read UNIONS catalog from disk.\n",
    "\n",
    "    Args:\n",
    "        unions_table_dir (str): directory where the UNIONS catalogs are located\n",
    "        tile_nums (list): list of tile numbers\n",
    "\n",
    "    Returns:\n",
    "        cat (dataframe): pandas dataframe containing the UNIONS catalog for the specified tile\n",
    "    \"\"\"\n",
    "    columns = ['SeqNr', 'X_IMAGE', 'Y_IMAGE', 'ALPHA_J2000', 'DELTA_J2000','MAG_GAAP_r']\n",
    "    df = Table.read(\n",
    "        os.path.join(\n",
    "            unions_table_dir,\n",
    "            f'UNIONS.{tile_nums[0]}.{tile_nums[1]}',\n",
    "            f'UNIONS.{tile_nums[0]}.{tile_nums[1]}_ugri_photoz_ext.cat'), hdu=1).to_pandas()\n",
    "    df = df[columns].rename(columns={'SeqNr':'ID','X_IMAGE':'x','Y_IMAGE':'y','ALPHA_J2000':'ra','DELTA_J2000':'dec','MAG_GAAP_r':'mag_r'})\n",
    "    df['tile'] = str(tile_nums)\n",
    "    return df"
   ]
  },
  {
   "cell_type": "code",
   "execution_count": 57,
   "id": "c3f64309-37aa-4bcc-ab6d-517c6566b2c6",
   "metadata": {},
   "outputs": [],
   "source": [
    "unions_table_dir = tables\n",
    "tile_nums = (312, 249)\n",
    "unions_cat = read_unions_cat(unions_table_dir, tile_nums)"
   ]
  },
  {
   "cell_type": "code",
   "execution_count": 58,
   "id": "19ed85e8-c155-458d-85fa-c29103f5c734",
   "metadata": {},
   "outputs": [
    {
     "data": {
      "text/html": [
       "<div>\n",
       "<style scoped>\n",
       "    .dataframe tbody tr th:only-of-type {\n",
       "        vertical-align: middle;\n",
       "    }\n",
       "\n",
       "    .dataframe tbody tr th {\n",
       "        vertical-align: top;\n",
       "    }\n",
       "\n",
       "    .dataframe thead th {\n",
       "        text-align: right;\n",
       "    }\n",
       "</style>\n",
       "<table border=\"1\" class=\"dataframe\">\n",
       "  <thead>\n",
       "    <tr style=\"text-align: right;\">\n",
       "      <th></th>\n",
       "      <th>ID</th>\n",
       "      <th>x</th>\n",
       "      <th>y</th>\n",
       "      <th>ra</th>\n",
       "      <th>dec</th>\n",
       "      <th>mag_r</th>\n",
       "      <th>tile</th>\n",
       "    </tr>\n",
       "  </thead>\n",
       "  <tbody>\n",
       "    <tr>\n",
       "      <th>0</th>\n",
       "      <td>1</td>\n",
       "      <td>5867.558594</td>\n",
       "      <td>331.374786</td>\n",
       "      <td>189.237235</td>\n",
       "      <td>34.259077</td>\n",
       "      <td>19.594919</td>\n",
       "      <td>(312, 249)</td>\n",
       "    </tr>\n",
       "    <tr>\n",
       "      <th>1</th>\n",
       "      <td>2</td>\n",
       "      <td>7891.011719</td>\n",
       "      <td>226.785400</td>\n",
       "      <td>189.110914</td>\n",
       "      <td>34.253560</td>\n",
       "      <td>19.907169</td>\n",
       "      <td>(312, 249)</td>\n",
       "    </tr>\n",
       "    <tr>\n",
       "      <th>2</th>\n",
       "      <td>3</td>\n",
       "      <td>2360.232666</td>\n",
       "      <td>126.855202</td>\n",
       "      <td>189.456190</td>\n",
       "      <td>34.248426</td>\n",
       "      <td>19.960625</td>\n",
       "      <td>(312, 249)</td>\n",
       "    </tr>\n",
       "    <tr>\n",
       "      <th>3</th>\n",
       "      <td>4</td>\n",
       "      <td>3491.770264</td>\n",
       "      <td>115.685303</td>\n",
       "      <td>189.385552</td>\n",
       "      <td>34.247923</td>\n",
       "      <td>20.141779</td>\n",
       "      <td>(312, 249)</td>\n",
       "    </tr>\n",
       "    <tr>\n",
       "      <th>4</th>\n",
       "      <td>5</td>\n",
       "      <td>6529.760742</td>\n",
       "      <td>95.740402</td>\n",
       "      <td>189.195905</td>\n",
       "      <td>34.246893</td>\n",
       "      <td>20.055593</td>\n",
       "      <td>(312, 249)</td>\n",
       "    </tr>\n",
       "    <tr>\n",
       "      <th>...</th>\n",
       "      <td>...</td>\n",
       "      <td>...</td>\n",
       "      <td>...</td>\n",
       "      <td>...</td>\n",
       "      <td>...</td>\n",
       "      <td>...</td>\n",
       "      <td>...</td>\n",
       "    </tr>\n",
       "    <tr>\n",
       "      <th>40006</th>\n",
       "      <td>40007</td>\n",
       "      <td>2768.404785</td>\n",
       "      <td>9880.113281</td>\n",
       "      <td>189.431554</td>\n",
       "      <td>34.751743</td>\n",
       "      <td>24.843489</td>\n",
       "      <td>(312, 249)</td>\n",
       "    </tr>\n",
       "    <tr>\n",
       "      <th>40007</th>\n",
       "      <td>40008</td>\n",
       "      <td>6845.988770</td>\n",
       "      <td>9831.000000</td>\n",
       "      <td>189.175468</td>\n",
       "      <td>34.749234</td>\n",
       "      <td>25.466747</td>\n",
       "      <td>(312, 249)</td>\n",
       "    </tr>\n",
       "    <tr>\n",
       "      <th>40008</th>\n",
       "      <td>40009</td>\n",
       "      <td>8849.885742</td>\n",
       "      <td>9985.469727</td>\n",
       "      <td>189.049596</td>\n",
       "      <td>34.757021</td>\n",
       "      <td>-99.000000</td>\n",
       "      <td>(312, 249)</td>\n",
       "    </tr>\n",
       "    <tr>\n",
       "      <th>40009</th>\n",
       "      <td>40010</td>\n",
       "      <td>68.660301</td>\n",
       "      <td>9799.685547</td>\n",
       "      <td>189.601091</td>\n",
       "      <td>34.747281</td>\n",
       "      <td>25.161900</td>\n",
       "      <td>(312, 249)</td>\n",
       "    </tr>\n",
       "    <tr>\n",
       "      <th>40010</th>\n",
       "      <td>40011</td>\n",
       "      <td>8626.882812</td>\n",
       "      <td>9977.683594</td>\n",
       "      <td>189.063603</td>\n",
       "      <td>34.756646</td>\n",
       "      <td>24.671801</td>\n",
       "      <td>(312, 249)</td>\n",
       "    </tr>\n",
       "  </tbody>\n",
       "</table>\n",
       "<p>40011 rows × 7 columns</p>\n",
       "</div>"
      ],
      "text/plain": [
       "          ID            x            y          ra        dec      mag_r  \\\n",
       "0          1  5867.558594   331.374786  189.237235  34.259077  19.594919   \n",
       "1          2  7891.011719   226.785400  189.110914  34.253560  19.907169   \n",
       "2          3  2360.232666   126.855202  189.456190  34.248426  19.960625   \n",
       "3          4  3491.770264   115.685303  189.385552  34.247923  20.141779   \n",
       "4          5  6529.760742    95.740402  189.195905  34.246893  20.055593   \n",
       "...      ...          ...          ...         ...        ...        ...   \n",
       "40006  40007  2768.404785  9880.113281  189.431554  34.751743  24.843489   \n",
       "40007  40008  6845.988770  9831.000000  189.175468  34.749234  25.466747   \n",
       "40008  40009  8849.885742  9985.469727  189.049596  34.757021 -99.000000   \n",
       "40009  40010    68.660301  9799.685547  189.601091  34.747281  25.161900   \n",
       "40010  40011  8626.882812  9977.683594  189.063603  34.756646  24.671801   \n",
       "\n",
       "             tile  \n",
       "0      (312, 249)  \n",
       "1      (312, 249)  \n",
       "2      (312, 249)  \n",
       "3      (312, 249)  \n",
       "4      (312, 249)  \n",
       "...           ...  \n",
       "40006  (312, 249)  \n",
       "40007  (312, 249)  \n",
       "40008  (312, 249)  \n",
       "40009  (312, 249)  \n",
       "40010  (312, 249)  \n",
       "\n",
       "[40011 rows x 7 columns]"
      ]
     },
     "execution_count": 58,
     "metadata": {},
     "output_type": "execute_result"
    }
   ],
   "source": [
    "unions_cat"
   ]
  },
  {
   "cell_type": "code",
   "execution_count": 5,
   "id": "4684d997-aaff-48e1-8ace-eacb1b192e63",
   "metadata": {},
   "outputs": [],
   "source": [
    "import pyarrow.parquet as pq\n",
    "import pyarrow as pa\n",
    "import pandas as pd\n",
    "import pyarrow.compute as pc\n",
    "\n",
    "tables = '/home/nick/astro/TileSlicer/tables/'"
   ]
  },
  {
   "cell_type": "markdown",
   "id": "885b7337-ebba-4ad5-903e-713fad951c83",
   "metadata": {},
   "source": [
    "### pandas read_parquet"
   ]
  },
  {
   "cell_type": "code",
   "execution_count": 8,
   "id": "9b517d3c-8dbb-41a5-8a0a-3c8ef37292de",
   "metadata": {},
   "outputs": [
    {
     "name": "stdout",
     "output_type": "stream",
     "text": [
      "Time: 0.8121 seconds.\n"
     ]
    }
   ],
   "source": [
    "start = time.time()\n",
    "redshift_file = 'redshifts-2024-01-04.parquet'\n",
    "ra_range = [211., 212.]\n",
    "dec_range = [55., 57.]\n",
    "parquet_path = os.path.join(tables, redshift_file)\n",
    "filter_coords = [('ra','>=',ra_range[0]),('ra','<',ra_range[1]),('dec','>=',dec_range[0]),('dec','<',dec_range[1])]\n",
    "redshift_cat = pd.read_parquet(parquet_path, engine='pyarrow', filters=filter_coords)\n",
    "print(f'Time: {np.round(time.time() - start, 4)} seconds.')"
   ]
  },
  {
   "cell_type": "markdown",
   "id": "cb7e9626-be1e-4e35-a074-f98d98ccca9f",
   "metadata": {},
   "source": [
    "### pyarrow.parquet read_parquet, memory_map = True"
   ]
  },
  {
   "cell_type": "code",
   "execution_count": 73,
   "id": "0c0e24af-c78a-4a1e-bb09-5b0769e19f7f",
   "metadata": {},
   "outputs": [
    {
     "name": "stdout",
     "output_type": "stream",
     "text": [
      "Time: 0.5451 seconds.\n"
     ]
    }
   ],
   "source": [
    "start = time.time()\n",
    "redshift_file = 'redshifts-2024-01-04.parquet'\n",
    "columns = ['ra', 'dec']\n",
    "ra_range = [0., 300.]\n",
    "dec_range = [0., 50.]\n",
    "\n",
    "parquet_path = os.path.join(tables, redshift_file)\n",
    "filter_coords = [('ra','>=',ra_range[0]),('ra','<',ra_range[1]),('dec','>=',dec_range[0]),('dec','<',dec_range[1])]\n",
    "redshift_cat = pq.read_table(parquet_path, memory_map=True).to_pandas()\n",
    "print(f'Time: {np.round(time.time() - start, 4)} seconds.')"
   ]
  },
  {
   "cell_type": "code",
   "execution_count": 76,
   "id": "b61b328f-9774-422f-9867-4ca97f201642",
   "metadata": {},
   "outputs": [
    {
     "data": {
      "text/plain": [
       "Index(['ra', 'dec', 'cspec', 'zspec', 'zspec_err'], dtype='object')"
      ]
     },
     "execution_count": 76,
     "metadata": {},
     "output_type": "execute_result"
    }
   ],
   "source": [
    "redshift_cat.columns"
   ]
  },
  {
   "cell_type": "code",
   "execution_count": 92,
   "id": "d667a75a-4f11-44ad-b475-2dd537fcc6dc",
   "metadata": {},
   "outputs": [
    {
     "data": {
      "text/html": [
       "<div>\n",
       "<style scoped>\n",
       "    .dataframe tbody tr th:only-of-type {\n",
       "        vertical-align: middle;\n",
       "    }\n",
       "\n",
       "    .dataframe tbody tr th {\n",
       "        vertical-align: top;\n",
       "    }\n",
       "\n",
       "    .dataframe thead th {\n",
       "        text-align: right;\n",
       "    }\n",
       "</style>\n",
       "<table border=\"1\" class=\"dataframe\">\n",
       "  <thead>\n",
       "    <tr style=\"text-align: right;\">\n",
       "      <th></th>\n",
       "      <th>ra</th>\n",
       "      <th>dec</th>\n",
       "      <th>cspec</th>\n",
       "      <th>zspec</th>\n",
       "      <th>zspec_err</th>\n",
       "    </tr>\n",
       "  </thead>\n",
       "  <tbody>\n",
       "    <tr>\n",
       "      <th>121485</th>\n",
       "      <td>32.558833</td>\n",
       "      <td>-5.160108</td>\n",
       "      <td>1.0</td>\n",
       "      <td>0.0</td>\n",
       "      <td>0.000000</td>\n",
       "    </tr>\n",
       "    <tr>\n",
       "      <th>121886</th>\n",
       "      <td>32.158241</td>\n",
       "      <td>-4.246304</td>\n",
       "      <td>1.0</td>\n",
       "      <td>0.0</td>\n",
       "      <td>0.000068</td>\n",
       "    </tr>\n",
       "    <tr>\n",
       "      <th>123165</th>\n",
       "      <td>31.209650</td>\n",
       "      <td>-4.404062</td>\n",
       "      <td>1.0</td>\n",
       "      <td>0.0</td>\n",
       "      <td>0.000065</td>\n",
       "    </tr>\n",
       "    <tr>\n",
       "      <th>127802</th>\n",
       "      <td>35.037088</td>\n",
       "      <td>-5.922432</td>\n",
       "      <td>2.0</td>\n",
       "      <td>0.0</td>\n",
       "      <td>0.000000</td>\n",
       "    </tr>\n",
       "    <tr>\n",
       "      <th>172112</th>\n",
       "      <td>133.487656</td>\n",
       "      <td>8.900299</td>\n",
       "      <td>2.0</td>\n",
       "      <td>0.0</td>\n",
       "      <td>0.004430</td>\n",
       "    </tr>\n",
       "    <tr>\n",
       "      <th>...</th>\n",
       "      <td>...</td>\n",
       "      <td>...</td>\n",
       "      <td>...</td>\n",
       "      <td>...</td>\n",
       "      <td>...</td>\n",
       "    </tr>\n",
       "    <tr>\n",
       "      <th>55098534</th>\n",
       "      <td>39.964591</td>\n",
       "      <td>-1.547017</td>\n",
       "      <td>NaN</td>\n",
       "      <td>0.0</td>\n",
       "      <td>0.000000</td>\n",
       "    </tr>\n",
       "    <tr>\n",
       "      <th>55098535</th>\n",
       "      <td>39.963721</td>\n",
       "      <td>-1.561464</td>\n",
       "      <td>NaN</td>\n",
       "      <td>0.0</td>\n",
       "      <td>0.000000</td>\n",
       "    </tr>\n",
       "    <tr>\n",
       "      <th>55098536</th>\n",
       "      <td>39.970584</td>\n",
       "      <td>-1.597320</td>\n",
       "      <td>NaN</td>\n",
       "      <td>0.0</td>\n",
       "      <td>0.000000</td>\n",
       "    </tr>\n",
       "    <tr>\n",
       "      <th>55098537</th>\n",
       "      <td>39.973400</td>\n",
       "      <td>-1.598841</td>\n",
       "      <td>NaN</td>\n",
       "      <td>0.0</td>\n",
       "      <td>0.000000</td>\n",
       "    </tr>\n",
       "    <tr>\n",
       "      <th>55098538</th>\n",
       "      <td>53.634083</td>\n",
       "      <td>-26.421250</td>\n",
       "      <td>NaN</td>\n",
       "      <td>0.0</td>\n",
       "      <td>0.000000</td>\n",
       "    </tr>\n",
       "  </tbody>\n",
       "</table>\n",
       "<p>51385 rows × 5 columns</p>\n",
       "</div>"
      ],
      "text/plain": [
       "                  ra        dec  cspec  zspec  zspec_err\n",
       "121485     32.558833  -5.160108    1.0    0.0   0.000000\n",
       "121886     32.158241  -4.246304    1.0    0.0   0.000068\n",
       "123165     31.209650  -4.404062    1.0    0.0   0.000065\n",
       "127802     35.037088  -5.922432    2.0    0.0   0.000000\n",
       "172112    133.487656   8.900299    2.0    0.0   0.004430\n",
       "...              ...        ...    ...    ...        ...\n",
       "55098534   39.964591  -1.547017    NaN    0.0   0.000000\n",
       "55098535   39.963721  -1.561464    NaN    0.0   0.000000\n",
       "55098536   39.970584  -1.597320    NaN    0.0   0.000000\n",
       "55098537   39.973400  -1.598841    NaN    0.0   0.000000\n",
       "55098538   53.634083 -26.421250    NaN    0.0   0.000000\n",
       "\n",
       "[51385 rows x 5 columns]"
      ]
     },
     "execution_count": 92,
     "metadata": {},
     "output_type": "execute_result"
    }
   ],
   "source": [
    "redshift_cat.loc[redshift_cat['zspec'] == 0]"
   ]
  },
  {
   "cell_type": "code",
   "execution_count": 83,
   "id": "d960b2a3-9498-4949-a4f0-39d81c1caf7a",
   "metadata": {},
   "outputs": [
    {
     "data": {
      "text/html": [
       "<div>\n",
       "<style scoped>\n",
       "    .dataframe tbody tr th:only-of-type {\n",
       "        vertical-align: middle;\n",
       "    }\n",
       "\n",
       "    .dataframe tbody tr th {\n",
       "        vertical-align: top;\n",
       "    }\n",
       "\n",
       "    .dataframe thead th {\n",
       "        text-align: right;\n",
       "    }\n",
       "</style>\n",
       "<table border=\"1\" class=\"dataframe\">\n",
       "  <thead>\n",
       "    <tr style=\"text-align: right;\">\n",
       "      <th></th>\n",
       "      <th>ra</th>\n",
       "      <th>dec</th>\n",
       "      <th>cspec</th>\n",
       "      <th>zspec</th>\n",
       "      <th>zspec_err</th>\n",
       "    </tr>\n",
       "  </thead>\n",
       "  <tbody>\n",
       "    <tr>\n",
       "      <th>0</th>\n",
       "      <td>24.837864</td>\n",
       "      <td>31.987288</td>\n",
       "      <td>2.0</td>\n",
       "      <td>0.373586</td>\n",
       "      <td>0.0</td>\n",
       "    </tr>\n",
       "    <tr>\n",
       "      <th>1</th>\n",
       "      <td>24.834875</td>\n",
       "      <td>32.031507</td>\n",
       "      <td>2.0</td>\n",
       "      <td>0.783066</td>\n",
       "      <td>0.0</td>\n",
       "    </tr>\n",
       "    <tr>\n",
       "      <th>2</th>\n",
       "      <td>24.291261</td>\n",
       "      <td>31.900061</td>\n",
       "      <td>1.0</td>\n",
       "      <td>0.000045</td>\n",
       "      <td>0.0</td>\n",
       "    </tr>\n",
       "    <tr>\n",
       "      <th>3</th>\n",
       "      <td>24.347372</td>\n",
       "      <td>31.805734</td>\n",
       "      <td>2.0</td>\n",
       "      <td>1.071963</td>\n",
       "      <td>0.0</td>\n",
       "    </tr>\n",
       "    <tr>\n",
       "      <th>4</th>\n",
       "      <td>24.270095</td>\n",
       "      <td>31.874742</td>\n",
       "      <td>2.0</td>\n",
       "      <td>0.812852</td>\n",
       "      <td>0.0</td>\n",
       "    </tr>\n",
       "    <tr>\n",
       "      <th>...</th>\n",
       "      <td>...</td>\n",
       "      <td>...</td>\n",
       "      <td>...</td>\n",
       "      <td>...</td>\n",
       "      <td>...</td>\n",
       "    </tr>\n",
       "    <tr>\n",
       "      <th>55225810</th>\n",
       "      <td>320.101000</td>\n",
       "      <td>-63.718700</td>\n",
       "      <td>NaN</td>\n",
       "      <td>0.021837</td>\n",
       "      <td>0.0</td>\n",
       "    </tr>\n",
       "    <tr>\n",
       "      <th>55225811</th>\n",
       "      <td>13.091700</td>\n",
       "      <td>31.442220</td>\n",
       "      <td>NaN</td>\n",
       "      <td>0.015593</td>\n",
       "      <td>0.0</td>\n",
       "    </tr>\n",
       "    <tr>\n",
       "      <th>55225812</th>\n",
       "      <td>118.893000</td>\n",
       "      <td>29.173060</td>\n",
       "      <td>NaN</td>\n",
       "      <td>0.021234</td>\n",
       "      <td>0.0</td>\n",
       "    </tr>\n",
       "    <tr>\n",
       "      <th>55225813</th>\n",
       "      <td>133.058000</td>\n",
       "      <td>1.460280</td>\n",
       "      <td>NaN</td>\n",
       "      <td>0.204486</td>\n",
       "      <td>0.0</td>\n",
       "    </tr>\n",
       "    <tr>\n",
       "      <th>55225814</th>\n",
       "      <td>229.409000</td>\n",
       "      <td>5.707180</td>\n",
       "      <td>NaN</td>\n",
       "      <td>0.174091</td>\n",
       "      <td>0.0</td>\n",
       "    </tr>\n",
       "  </tbody>\n",
       "</table>\n",
       "<p>55225815 rows × 5 columns</p>\n",
       "</div>"
      ],
      "text/plain": [
       "                  ra        dec  cspec     zspec  zspec_err\n",
       "0          24.837864  31.987288    2.0  0.373586        0.0\n",
       "1          24.834875  32.031507    2.0  0.783066        0.0\n",
       "2          24.291261  31.900061    1.0  0.000045        0.0\n",
       "3          24.347372  31.805734    2.0  1.071963        0.0\n",
       "4          24.270095  31.874742    2.0  0.812852        0.0\n",
       "...              ...        ...    ...       ...        ...\n",
       "55225810  320.101000 -63.718700    NaN  0.021837        0.0\n",
       "55225811   13.091700  31.442220    NaN  0.015593        0.0\n",
       "55225812  118.893000  29.173060    NaN  0.021234        0.0\n",
       "55225813  133.058000   1.460280    NaN  0.204486        0.0\n",
       "55225814  229.409000   5.707180    NaN  0.174091        0.0\n",
       "\n",
       "[55225815 rows x 5 columns]"
      ]
     },
     "execution_count": 83,
     "metadata": {},
     "output_type": "execute_result"
    }
   ],
   "source": [
    "redshift_cat"
   ]
  },
  {
   "cell_type": "markdown",
   "id": "23024bda-4187-4dd7-a6c0-f5e7298167a4",
   "metadata": {},
   "source": [
    "### pyarrow.parquet read_parquet, memory_map = False"
   ]
  },
  {
   "cell_type": "code",
   "execution_count": 10,
   "id": "76a5b384-3188-46ba-b854-a49490c0693d",
   "metadata": {},
   "outputs": [
    {
     "name": "stdout",
     "output_type": "stream",
     "text": [
      "Time: 0.5356 seconds.\n"
     ]
    }
   ],
   "source": [
    "start = time.time()\n",
    "redshift_file = 'redshifts-2024-01-04.parquet'\n",
    "columns = ['ra', 'dec']\n",
    "ra_range = [211., 215.]\n",
    "dec_range = [55., 57.]\n",
    "\n",
    "parquet_path = os.path.join(tables, redshift_file)\n",
    "filter_coords = [('ra','>=',ra_range[0]),('ra','<',ra_range[1]),('dec','>=',dec_range[0]),('dec','<',dec_range[1])]\n",
    "redshift_cat = pq.read_table(parquet_path, memory_map=False, filters=filter_coords).to_pandas()\n",
    "print(f'Time: {np.round(time.time() - start, 4)} seconds.')"
   ]
  },
  {
   "cell_type": "code",
   "execution_count": 10,
   "id": "778fb87e-4f20-48ac-aeaf-4e27aff8a2fc",
   "metadata": {},
   "outputs": [],
   "source": [
    "# catalog_dir = os.path.join(parent_dir, 'tables/')\n",
    "# os.makedirs(catalog_dir, exist_ok = True)\n",
    "# catalog = pd.read_csv(catalog_dir+'df_coordinates.csv')\n",
    "# ra_key, dec_key = 'ra', 'dec'\n",
    "# coord_c = SkyCoord(catalog[ra_key].values, catalog[dec_key].values, unit='deg', frame='icrs')"
   ]
  },
  {
   "cell_type": "markdown",
   "id": "65ace304",
   "metadata": {},
   "source": [
    "### Get a list of tiles the objects are in"
   ]
  },
  {
   "cell_type": "code",
   "execution_count": 11,
   "id": "d3377cbf",
   "metadata": {},
   "outputs": [
    {
     "name": "stdout",
     "output_type": "stream",
     "text": [
      "Time: 0.364\n"
     ]
    }
   ],
   "source": [
    "import time\n",
    "start_time = time.time()\n",
    "# list tiles the objects are in\n",
    "# update_available_tiles(path)\n",
    "u, g, lsb_r, i, z = extract_tile_numbers(load_available_tiles(tile_dir))\n",
    "all_bands = [u, g, lsb_r, i, z]\n",
    "availability = TileAvailability(all_bands, band_dict)\n",
    "tiles = availability.unique_tiles\n",
    "\n",
    "def tile_finder(availability, catalog, band_constraint=5):\n",
    "    available_tiles = availability.unique_tiles\n",
    "    all_tiles = np.empty(len(catalog), dtype=tuple)\n",
    "    pix_coords = np.empty((len(catalog),2), dtype=np.float64)\n",
    "    for i , obj_coord in enumerate(coord_c):\n",
    "        tile_numbers, _ = query_tree(available_tiles, np.array([obj_coord.ra.deg, obj_coord.dec.deg]), tile_dir, build=False)\n",
    "        all_tiles[i] = tile_numbers\n",
    "        wcs = TileWCS()\n",
    "        wcs.set_coords(relate_coord_tile(nums=tile_numbers))\n",
    "        pix_coord = skycoord_to_pixel(obj_coord, wcs.wcs, origin=1)\n",
    "        pix_coords[i] = pix_coord\n",
    "\n",
    "    # add tile numbers and pixel coordinates to catalog\n",
    "    catalog['tile'] = all_tiles\n",
    "    catalog['x'] = pix_coords[:,0]\n",
    "    catalog['y'] = pix_coords[:,1]\n",
    "    unique_tiles = list(set(all_tiles))\n",
    "    tiles_x_bands = [tile for tile in unique_tiles if len(availability.get_availability(tile)) == band_constraint]\n",
    "    \n",
    "    return unique_tiles, tiles_x_bands\n",
    "\n",
    "unique_tiles, tiles_x_bands = tile_finder(availability, catalog, band_constraint=5)\n",
    "\n",
    "print(f'Time: {np.round(time.time()-start_time,3)}')"
   ]
  },
  {
   "cell_type": "markdown",
   "id": "4f5575b4",
   "metadata": {},
   "source": [
    "### Only keep tiles that are available in five bands"
   ]
  },
  {
   "cell_type": "code",
   "execution_count": 12,
   "id": "ed0f2d88",
   "metadata": {},
   "outputs": [],
   "source": [
    "tiles_x_bands = [tile for tile in unique_tiles if len(availability.get_availability(tile)[1]) >= 3]"
   ]
  },
  {
   "cell_type": "markdown",
   "id": "38e876ae",
   "metadata": {},
   "source": [
    "### Download the selected tiles"
   ]
  },
  {
   "cell_type": "code",
   "execution_count": 28,
   "id": "cca945b5",
   "metadata": {},
   "outputs": [],
   "source": [
    "import time\n",
    "from vos import Client\n",
    "client = Client()\n",
    "\n",
    "\n",
    "def download_tile_for_bands(availability, tile_numbers, in_dict, download_dir, method='api'):\n",
    "    \"\"\"\n",
    "    Download a tile for the available bands.\n",
    "    :param availability: object to retrieve available tiles\n",
    "    :param tile_numbers: 2 three digit tile numbers\n",
    "    :param in_dict: band dictionary containing the necessary info on the file properties\n",
    "    :param download_dir: download directory\n",
    "    :param method: choose between 'command' and 'api' for command line and client interaction with the VOSpace\n",
    "    :return: True/False if the download was successful/failed\n",
    "    \"\"\"\n",
    "    avail_idx = availability.get_availability(tile_numbers)[1]\n",
    "    for band in np.array(list(band_dict.keys()))[avail_idx]:\n",
    "        vos_dir = in_dict[band]['vos']\n",
    "        prefix = in_dict[band]['name']\n",
    "        suffix = in_dict[band]['suffix']\n",
    "        delimiter = in_dict[band]['delimiter']\n",
    "        digit_fill = in_dict[band]['digit_fill']\n",
    "        if digit_fill:\n",
    "            tile_dir = download_dir + f'{tile_numbers[0].zfill(3)}_{tile_numbers[1].zfill(3)}'\n",
    "        os.makedirs(tile_dir, exist_ok=True)\n",
    "        tile_fitsfilename = (\n",
    "            f'{prefix}{delimiter}{tile_numbers[0]}{delimiter}{tile_numbers[1]}{suffix}'\n",
    "        )\n",
    "        # use a temporary name while the file is downloading\n",
    "        temp_name = '.'.join(tile_fitsfilename.split('.')[:-1]) + '_temp.fits'\n",
    "\n",
    "        # Check if the directory exists, and create it if not\n",
    "        if os.path.exists(os.path.join(tile_dir, tile_fitsfilename)):\n",
    "            print(f'File {tile_fitsfilename} was already downloaded.')\n",
    "        else:\n",
    "            print(f'Downloading {tile_fitsfilename}..')\n",
    "            try:\n",
    "                if method == 'command':\n",
    "                    # command line\n",
    "                    os.system(\n",
    "                        f'vcp -v {vos_dir + tile_fitsfilename} {os.path.join(tile_dir, temp_name)}'\n",
    "                    )\n",
    "                else:\n",
    "                    # API\n",
    "                    client.copy(\n",
    "                        os.path.join(vos_dir, tile_fitsfilename), os.path.join(tile_dir, temp_name)\n",
    "                    )\n",
    "                os.rename(\n",
    "                    os.path.join(tile_dir, temp_name), os.path.join(tile_dir, tile_fitsfilename)\n",
    "                )\n",
    "            except Exception as e:\n",
    "                print(e)\n",
    "                return False\n",
    "    return True\n",
    "\n",
    "\n",
    "start = time.time()\n",
    "\n",
    "download_dir = os.path.join(parent_dir, 'data_test/')\n",
    "os.makedirs(download_dir, exist_ok=True)\n",
    "for tile in tiles_x_bands:\n",
    "    if download_tile_for_bands(availability, tile, band_dict, download_dir, method='command'):\n",
    "        print(f'Files downloaded. Took {(time.time()-start)/60} minutes.')"
   ]
  },
  {
   "cell_type": "markdown",
   "id": "42ead97e-bad3-4179-9b95-840e2a5448da",
   "metadata": {},
   "source": [
    "## Download all 5 bands simultaneously"
   ]
  },
  {
   "cell_type": "code",
   "execution_count": 32,
   "id": "c29aa80c-e973-4df3-9d79-ec19ae03a984",
   "metadata": {},
   "outputs": [
    {
     "name": "stdout",
     "output_type": "stream",
     "text": [
      "Downloading calexp-CFIS_242_290.fits for band whigs-g..Downloading CFIS.242.290.u.fits for band cfis-u..\n",
      "Downloading CFIS_LSB.242.290.r.fits for band cfis_lsb-r..\n",
      "\n",
      "Downloading PS-DR3.242.290.i.fits for band ps-i..\n",
      "Downloading WISHES.242.290.z.fits for band wishes-z..\n"
     ]
    },
    {
     "name": "stderr",
     "output_type": "stream",
     "text": [
      "INFO vcp vos:cfis/tiles_DR5/CFIS.242.290.u.fits -> /home/nick/astro/TileSlicer/data_test/242_290/CFIS.242.290.u_temp.fits \n",
      "INFO vcp vos:cfis/tiles_LSB_DR5/CFIS_LSB.242.290.r.fits -> /home/nick/astro/TileSlicer/data_test/242_290/CFIS_LSB.242.290.r_temp.fits \n",
      "INFO vcp vos:cfis/wishes_1/coadd/WISHES.242.290.z.fits -> /home/nick/astro/TileSlicer/data_test/242_290/WISHES.242.290.z_temp.fits \n",
      "INFO vcp vos:cfis/whigs/stack_images_CFIS_scheme/calexp-CFIS_242_290.fits -> /home/nick/astro/TileSlicer/data_test/242_290/calexp-CFIS_242_290_temp.fits \n",
      "INFO vcp vos:cfis/panstarrs/DR3/tiles/PS-DR3.242.290.i.fits -> /home/nick/astro/TileSlicer/data_test/242_290/PS-DR3.242.290.i_temp.fits \n"
     ]
    },
    {
     "name": "stdout",
     "output_type": "stream",
     "text": [
      "Download successful for band cfis_lsb-r.\n",
      "Download successful for band cfis-u.\n",
      "Download successful for band ps-i.\n",
      "Download successful for band whigs-g.\n",
      "Download successful for band wishes-z.\n",
      "Downloading CFIS.243.290.u.fits for band cfis-u..\n",
      "Downloading calexp-CFIS_243_290.fits for band whigs-g..\n",
      "Downloading CFIS_LSB.243.290.r.fits for band cfis_lsb-r..\n",
      "Downloading PS-DR3.243.290.i.fits for band ps-i..\n",
      "Downloading WISHES.243.290.z.fits for band wishes-z..\n"
     ]
    },
    {
     "name": "stderr",
     "output_type": "stream",
     "text": [
      "INFO vcp vos:cfis/tiles_LSB_DR5/CFIS_LSB.243.290.r.fits -> /home/nick/astro/TileSlicer/data_test/243_290/CFIS_LSB.243.290.r_temp.fits \n",
      "INFO vcp vos:cfis/tiles_DR5/CFIS.243.290.u.fits -> /home/nick/astro/TileSlicer/data_test/243_290/CFIS.243.290.u_temp.fits \n",
      "INFO vcp vos:cfis/whigs/stack_images_CFIS_scheme/calexp-CFIS_243_290.fits -> /home/nick/astro/TileSlicer/data_test/243_290/calexp-CFIS_243_290_temp.fits \n",
      "INFO vcp vos:cfis/wishes_1/coadd/WISHES.243.290.z.fits -> /home/nick/astro/TileSlicer/data_test/243_290/WISHES.243.290.z_temp.fits \n",
      "INFO vcp vos:cfis/panstarrs/DR3/tiles/PS-DR3.243.290.i.fits -> /home/nick/astro/TileSlicer/data_test/243_290/PS-DR3.243.290.i_temp.fits \n",
      "INFO commonparser Received signal 2. Exiting.\n",
      "INFO commonparser Received signal 2. Exiting.\n",
      "INFO commonparser Received signal 2. Exiting.\n",
      "INFO commonparser Received signal 2. Exiting.\n",
      "INFO commonparser Received signal 2. Exiting.\n"
     ]
    },
    {
     "name": "stdout",
     "output_type": "stream",
     "text": [
      "Download successful for band cfis-u.\n",
      "Download successful for band ps-i.\n",
      "Download successful for band wishes-z.\n",
      "Download successful for band cfis_lsb-r.\n",
      "Download successful for band whigs-g.\n",
      "Downloading CFIS.246.289.u.fits for band cfis-u..\n",
      "Downloading calexp-CFIS_246_289.fits for band whigs-g..\n",
      "Downloading PS-DR3.246.289.i.fits for band ps-i..\n",
      "Downloading WISHES.246.289.z.fits for band wishes-z..\n",
      "Downloading CFIS_LSB.246.289.r.fits for band cfis_lsb-r..\n"
     ]
    },
    {
     "name": "stderr",
     "output_type": "stream",
     "text": [
      "INFO vcp vos:cfis/whigs/stack_images_CFIS_scheme/calexp-CFIS_246_289.fits -> /home/nick/astro/TileSlicer/data_test/246_289/calexp-CFIS_246_289_temp.fits \n",
      "INFO vcp vos:cfis/tiles_LSB_DR5/CFIS_LSB.246.289.r.fits -> /home/nick/astro/TileSlicer/data_test/246_289/CFIS_LSB.246.289.r_temp.fits \n",
      "INFO vcp vos:cfis/panstarrs/DR3/tiles/PS-DR3.246.289.i.fits -> /home/nick/astro/TileSlicer/data_test/246_289/PS-DR3.246.289.i_temp.fits \n",
      "INFO vcp vos:cfis/wishes_1/coadd/WISHES.246.289.z.fits -> /home/nick/astro/TileSlicer/data_test/246_289/WISHES.246.289.z_temp.fits \n",
      "INFO vcp vos:cfis/tiles_DR5/CFIS.246.289.u.fits -> /home/nick/astro/TileSlicer/data_test/246_289/CFIS.246.289.u_temp.fits \n",
      "INFO commonparser Received signal 2. Exiting.\n",
      "INFO commonparser Received signal 2. Exiting.\n",
      "INFO commonparser Received signal 2. Exiting.\n",
      "INFO commonparser Received signal 2. Exiting.\n",
      "INFO commonparser Received signal 2. Exiting.\n"
     ]
    },
    {
     "name": "stdout",
     "output_type": "stream",
     "text": [
      "Download failed for band wishes-z: [Errno 2] No such file or directory: '/home/nick/astro/TileSlicer/data_test/246_289/WISHES.246.289.z_temp.fits' -> '/home/nick/astro/TileSlicer/data_test/246_289/WISHES.246.289.z.fits'\n",
      "Download failed for band whigs-g: [Errno 2] No such file or directory: '/home/nick/astro/TileSlicer/data_test/246_289/calexp-CFIS_246_289_temp.fits' -> '/home/nick/astro/TileSlicer/data_test/246_289/calexp-CFIS_246_289.fits'\n",
      "Download failed for band cfis_lsb-r: [Errno 2] No such file or directory: '/home/nick/astro/TileSlicer/data_test/246_289/CFIS_LSB.246.289.r_temp.fits' -> '/home/nick/astro/TileSlicer/data_test/246_289/CFIS_LSB.246.289.r.fits'\n",
      "Download failed for band cfis-u: [Errno 2] No such file or directory: '/home/nick/astro/TileSlicer/data_test/246_289/CFIS.246.289.u_temp.fits' -> '/home/nick/astro/TileSlicer/data_test/246_289/CFIS.246.289.u.fits'\n",
      "Download failed for band ps-i: [Errno 2] No such file or directory: '/home/nick/astro/TileSlicer/data_test/246_289/PS-DR3.246.289.i_temp.fits' -> '/home/nick/astro/TileSlicer/data_test/246_289/PS-DR3.246.289.i.fits'\n",
      "Downloading CFIS.244.290.u.fits for band cfis-u..\n",
      "Downloading CFIS_LSB.244.290.r.fits for band cfis_lsb-r..\n",
      "Downloading calexp-CFIS_244_290.fits for band whigs-g..\n",
      "Downloading PS-DR3.244.290.i.fits for band ps-i..\n",
      "Downloading WISHES.244.290.z.fits for band wishes-z..\n"
     ]
    },
    {
     "name": "stderr",
     "output_type": "stream",
     "text": [
      "INFO vcp vos:cfis/wishes_1/coadd/WISHES.244.290.z.fits -> /home/nick/astro/TileSlicer/data_test/244_290/WISHES.244.290.z_temp.fits \n",
      "INFO vcp vos:cfis/tiles_LSB_DR5/CFIS_LSB.244.290.r.fits -> /home/nick/astro/TileSlicer/data_test/244_290/CFIS_LSB.244.290.r_temp.fits \n",
      "INFO vcp vos:cfis/panstarrs/DR3/tiles/PS-DR3.244.290.i.fits -> /home/nick/astro/TileSlicer/data_test/244_290/PS-DR3.244.290.i_temp.fits \n",
      "INFO vcp vos:cfis/whigs/stack_images_CFIS_scheme/calexp-CFIS_244_290.fits -> /home/nick/astro/TileSlicer/data_test/244_290/calexp-CFIS_244_290_temp.fits \n",
      "INFO vcp vos:cfis/tiles_DR5/CFIS.244.290.u.fits -> /home/nick/astro/TileSlicer/data_test/244_290/CFIS.244.290.u_temp.fits \n",
      "INFO commonparser Received signal 2. Exiting.\n",
      "INFO commonparser Received signal 2. Exiting.\n",
      "INFO commonparser Received signal 2. Exiting.\n",
      "INFO commonparser Received signal 2. Exiting.\n",
      "INFO commonparser Received signal 2. Exiting.\n"
     ]
    },
    {
     "name": "stdout",
     "output_type": "stream",
     "text": [
      "Download successful for band wishes-z.\n",
      "Download successful for band cfis_lsb-r.\n",
      "Download successful for band whigs-g.\n",
      "Download failed for band cfis-u: [Errno 2] No such file or directory: '/home/nick/astro/TileSlicer/data_test/244_290/CFIS.244.290.u_temp.fits' -> '/home/nick/astro/TileSlicer/data_test/244_290/CFIS.244.290.u.fits'\n",
      "Download failed for band ps-i: [Errno 2] No such file or directory: '/home/nick/astro/TileSlicer/data_test/244_290/PS-DR3.244.290.i_temp.fits' -> '/home/nick/astro/TileSlicer/data_test/244_290/PS-DR3.244.290.i.fits'\n",
      "Downloading CFIS.247.289.u.fits for band cfis-u..\n",
      "Downloading calexp-CFIS_247_289.fits for band whigs-g..\n",
      "Downloading CFIS_LSB.247.289.r.fits for band cfis_lsb-r..\n",
      "Downloading PS-DR3.247.289.i.fits for band ps-i..\n",
      "Downloading WISHES.247.289.z.fits for band wishes-z..\n"
     ]
    },
    {
     "name": "stderr",
     "output_type": "stream",
     "text": [
      "INFO vcp vos:cfis/tiles_DR5/CFIS.247.289.u.fits -> /home/nick/astro/TileSlicer/data_test/247_289/CFIS.247.289.u_temp.fits \n",
      "INFO vcp vos:cfis/panstarrs/DR3/tiles/PS-DR3.247.289.i.fits -> /home/nick/astro/TileSlicer/data_test/247_289/PS-DR3.247.289.i_temp.fits \n",
      "INFO vcp vos:cfis/whigs/stack_images_CFIS_scheme/calexp-CFIS_247_289.fits -> /home/nick/astro/TileSlicer/data_test/247_289/calexp-CFIS_247_289_temp.fits \n",
      "INFO vcp vos:cfis/wishes_1/coadd/WISHES.247.289.z.fits -> /home/nick/astro/TileSlicer/data_test/247_289/WISHES.247.289.z_temp.fits \n",
      "INFO vcp vos:cfis/tiles_LSB_DR5/CFIS_LSB.247.289.r.fits -> /home/nick/astro/TileSlicer/data_test/247_289/CFIS_LSB.247.289.r_temp.fits \n",
      "INFO commonparser Received signal 2. Exiting.\n",
      "INFO commonparser Received signal 2. Exiting.\n",
      "INFO commonparser Received signal 2. Exiting.\n",
      "INFO commonparser Received signal 2. Exiting.\n",
      "INFO commonparser Received signal 2. Exiting.\n"
     ]
    },
    {
     "name": "stdout",
     "output_type": "stream",
     "text": [
      "Download failed for band cfis_lsb-r: [Errno 2] No such file or directory: '/home/nick/astro/TileSlicer/data_test/247_289/CFIS_LSB.247.289.r_temp.fits' -> '/home/nick/astro/TileSlicer/data_test/247_289/CFIS_LSB.247.289.r.fits'\n",
      "Download failed for band wishes-z: [Errno 2] No such file or directory: '/home/nick/astro/TileSlicer/data_test/247_289/WISHES.247.289.z_temp.fits' -> '/home/nick/astro/TileSlicer/data_test/247_289/WISHES.247.289.z.fits'\n",
      "Download failed for band ps-i: [Errno 2] No such file or directory: '/home/nick/astro/TileSlicer/data_test/247_289/PS-DR3.247.289.i_temp.fits' -> '/home/nick/astro/TileSlicer/data_test/247_289/PS-DR3.247.289.i.fits'\n",
      "Download failed for band cfis-u: [Errno 2] No such file or directory: '/home/nick/astro/TileSlicer/data_test/247_289/CFIS.247.289.u_temp.fits' -> '/home/nick/astro/TileSlicer/data_test/247_289/CFIS.247.289.u.fits'\n",
      "Download failed for band whigs-g: [Errno 2] No such file or directory: '/home/nick/astro/TileSlicer/data_test/247_289/calexp-CFIS_247_289_temp.fits' -> '/home/nick/astro/TileSlicer/data_test/247_289/calexp-CFIS_247_289.fits'\n",
      "Downloading CFIS.241.291.u.fits for band cfis-u..\n",
      "Downloading calexp-CFIS_241_291.fits for band whigs-g..\n",
      "Downloading CFIS_LSB.241.291.r.fits for band cfis_lsb-r..\n",
      "Downloading PS-DR3.241.291.i.fits for band ps-i..\n",
      "Downloading WISHES.241.291.z.fits for band wishes-z..\n"
     ]
    },
    {
     "name": "stderr",
     "output_type": "stream",
     "text": [
      "INFO commonparser Received signal 2. Exiting.\n",
      "INFO commonparser Received signal 2. Exiting.\n",
      "INFO commonparser Received signal 2. Exiting.\n",
      "INFO commonparser Received signal 2. Exiting.\n",
      "INFO commonparser Received signal 2. Exiting.\n"
     ]
    },
    {
     "name": "stdout",
     "output_type": "stream",
     "text": [
      "Download failed for band ps-i: [Errno 2] No such file or directory: '/home/nick/astro/TileSlicer/data_test/241_291/PS-DR3.241.291.i_temp.fits' -> '/home/nick/astro/TileSlicer/data_test/241_291/PS-DR3.241.291.i.fits'\n",
      "Download failed for band cfis-u: [Errno 2] No such file or directory: '/home/nick/astro/TileSlicer/data_test/241_291/CFIS.241.291.u_temp.fits' -> '/home/nick/astro/TileSlicer/data_test/241_291/CFIS.241.291.u.fits'\n",
      "Download failed for band whigs-g: [Errno 2] No such file or directory: '/home/nick/astro/TileSlicer/data_test/241_291/calexp-CFIS_241_291_temp.fits' -> '/home/nick/astro/TileSlicer/data_test/241_291/calexp-CFIS_241_291.fits'\n",
      "Download failed for band cfis_lsb-r: [Errno 2] No such file or directory: '/home/nick/astro/TileSlicer/data_test/241_291/CFIS_LSB.241.291.r_temp.fits' -> '/home/nick/astro/TileSlicer/data_test/241_291/CFIS_LSB.241.291.r.fits'\n",
      "Download failed for band wishes-z: [Errno 2] No such file or directory: '/home/nick/astro/TileSlicer/data_test/241_291/WISHES.241.291.z_temp.fits' -> '/home/nick/astro/TileSlicer/data_test/241_291/WISHES.241.291.z.fits'\n",
      "Downloading CFIS.240.291.u.fits for band cfis-u..\n",
      "Downloading calexp-CFIS_240_291.fits for band whigs-g..\n",
      "Downloading WISHES.240.291.z.fits for band wishes-z..\n",
      "Downloading PS-DR3.240.291.i.fits for band ps-i..\n",
      "Downloading CFIS_LSB.240.291.r.fits for band cfis_lsb-r..\n",
      "Download failed for band cfis_lsb-r: [Errno 2] No such file or directory: '/home/nick/astro/TileSlicer/data_test/240_291/CFIS_LSB.240.291.r_temp.fits' -> '/home/nick/astro/TileSlicer/data_test/240_291/CFIS_LSB.240.291.r.fits'\n",
      "Download failed for band whigs-g: [Errno 2] No such file or directory: '/home/nick/astro/TileSlicer/data_test/240_291/calexp-CFIS_240_291_temp.fits' -> '/home/nick/astro/TileSlicer/data_test/240_291/calexp-CFIS_240_291.fits'\n",
      "Download failed for band cfis-u: [Errno 2] No such file or directory: '/home/nick/astro/TileSlicer/data_test/240_291/CFIS.240.291.u_temp.fits' -> '/home/nick/astro/TileSlicer/data_test/240_291/CFIS.240.291.u.fits'\n",
      "Download failed for band wishes-z: [Errno 2] No such file or directory: '/home/nick/astro/TileSlicer/data_test/240_291/WISHES.240.291.z_temp.fits' -> '/home/nick/astro/TileSlicer/data_test/240_291/WISHES.240.291.z.fits'\n",
      "Download failed for band ps-i: [Errno 2] No such file or directory: '/home/nick/astro/TileSlicer/data_test/240_291/PS-DR3.240.291.i_temp.fits' -> '/home/nick/astro/TileSlicer/data_test/240_291/PS-DR3.240.291.i.fits'\n",
      "All files downloaded. Took 27.28714229663213 minutes.\n"
     ]
    },
    {
     "name": "stderr",
     "output_type": "stream",
     "text": [
      "INFO commonparser Received signal 2. Exiting.\n",
      "INFO commonparser Received signal 2. Exiting.\n",
      "INFO commonparser Received signal 2. Exiting.\n",
      "INFO commonparser Received signal 2. Exiting.\n",
      "INFO commonparser Received signal 2. Exiting.\n"
     ]
    }
   ],
   "source": [
    "import os\n",
    "import time\n",
    "from concurrent.futures import ThreadPoolExecutor\n",
    "from vos import Client\n",
    "import numpy as np\n",
    "\n",
    "client = Client()\n",
    "\n",
    "def download_tile_for_band(tile_numbers, band, in_dict, download_dir, method='api'):\n",
    "    vos_dir = in_dict[band]['vos']\n",
    "    prefix = in_dict[band]['name']\n",
    "    suffix = in_dict[band]['suffix']\n",
    "    delimiter = in_dict[band]['delimiter']\n",
    "    tile_dir = download_dir + f'{tile_numbers[0]}_{tile_numbers[1]}'\n",
    "    os.makedirs(tile_dir, exist_ok=True)\n",
    "    tile_fitsfilename = (\n",
    "        f'{prefix}{delimiter}{tile_numbers[0]}{delimiter}{tile_numbers[1]}{suffix}'\n",
    "    )\n",
    "    temp_name = '.'.join(tile_fitsfilename.split('.')[:-1]) + '_temp.fits'\n",
    "\n",
    "    if os.path.exists(os.path.join(tile_dir, tile_fitsfilename)):\n",
    "        print(f'File {tile_fitsfilename} was already downloaded for band {band}.')\n",
    "        return True\n",
    "\n",
    "    print(f'Downloading {tile_fitsfilename} for band {band}..')\n",
    "    try:\n",
    "        if method == 'command':\n",
    "            os.system(f'vcp -v {vos_dir + tile_fitsfilename} {os.path.join(tile_dir, temp_name)}')\n",
    "        else:\n",
    "            client.copy(os.path.join(vos_dir, tile_fitsfilename), os.path.join(tile_dir, temp_name))\n",
    "        os.rename(os.path.join(tile_dir, temp_name), os.path.join(tile_dir, tile_fitsfilename))\n",
    "        print(f'Download successful for band {band}.')\n",
    "        return True\n",
    "    except Exception as e:\n",
    "        print(f'Download failed for band {band}: {e}')\n",
    "        return False\n",
    "\n",
    "def download_tile_for_bands_parallel(availability, tile_numbers, in_dict, download_dir, method='api'):\n",
    "    avail_idx = availability.get_availability(tile_numbers)[1]\n",
    "    \n",
    "    with ThreadPoolExecutor() as executor:\n",
    "        # Create a list of futures for concurrent downloads\n",
    "        futures = []\n",
    "        for band in np.array(list(band_dict.keys()))[avail_idx]:\n",
    "            future = executor.submit(download_tile_for_band, tile_numbers, band, in_dict, download_dir, method)\n",
    "            futures.append(future)\n",
    "\n",
    "        # Wait for all downloads to complete\n",
    "        for future in futures:\n",
    "            future.result()\n",
    "\n",
    "if __name__ == \"__main__\":\n",
    "    start = time.time()\n",
    "    download_dir = os.path.join(parent_dir, 'data_test/')\n",
    "    os.makedirs(download_dir, exist_ok=True)\n",
    "\n",
    "    for tile in tiles_x_bands:\n",
    "        download_tile_for_bands_parallel(availability, tile, band_dict, download_dir, method='command')\n",
    "\n",
    "    print(f'All files downloaded. Took {(time.time()-start)/60} minutes.')\n"
   ]
  },
  {
   "cell_type": "markdown",
   "id": "f018ec93-4a6a-490b-af38-4bf6ca4f4ef0",
   "metadata": {},
   "source": [
    "### Download only r-band images simultaneously"
   ]
  },
  {
   "cell_type": "code",
   "execution_count": 11,
   "id": "35a59c94-5e90-43eb-9884-5a23cb900ef7",
   "metadata": {},
   "outputs": [],
   "source": [
    "tiles_in_r = availability.band_tiles('cfis_lsb-r')"
   ]
  },
  {
   "cell_type": "code",
   "execution_count": 156,
   "id": "fd10ab36-968d-4df7-bedf-336780ef66db",
   "metadata": {},
   "outputs": [
    {
     "name": "stdout",
     "output_type": "stream",
     "text": [
      "Downloading CFIS_LSB.000.237.r.fits for band cfis_lsb-r..\n",
      "Downloading CFIS_LSB.000.238.r.fits for band cfis_lsb-r..\n",
      "Downloading CFIS_LSB.000.239.r.fits for band cfis_lsb-r..\n",
      "Downloading CFIS_LSB.000.240.r.fits for band cfis_lsb-r..\n",
      "Downloading CFIS_LSB.000.241.r.fits for band cfis_lsb-r..\n",
      "Downloading CFIS_LSB.000.242.r.fits for band cfis_lsb-r..\n",
      "Downloading CFIS_LSB.000.243.r.fits for band cfis_lsb-r..\n",
      "Downloading CFIS_LSB.000.244.r.fits for band cfis_lsb-r..\n",
      "Downloading CFIS_LSB.000.245.r.fits for band cfis_lsb-r..\n",
      "Downloading CFIS_LSB.000.246.r.fits for band cfis_lsb-r..\n",
      "Downloading CFIS_LSB.000.247.r.fits for band cfis_lsb-r..\n",
      "Downloading CFIS_LSB.000.249.r.fits for band cfis_lsb-r..\n",
      "Downloading CFIS_LSB.000.248.r.fits for band cfis_lsb-r..\n",
      "Downloading CFIS_LSB.000.250.r.fits for band cfis_lsb-r..\n",
      "Downloading CFIS_LSB.000.251.r.fits for band cfis_lsb-r..\n",
      "Downloading CFIS_LSB.000.253.r.fits for band cfis_lsb-r..\n",
      "Downloading CFIS_LSB.000.252.r.fits for band cfis_lsb-r..\n",
      "Downloading CFIS_LSB.000.254.r.fits for band cfis_lsb-r..\n",
      "Downloading CFIS_LSB.000.255.r.fits for band cfis_lsb-r..\n",
      "Downloading CFIS_LSB.001.227.r.fits for band cfis_lsb-r..\n"
     ]
    },
    {
     "name": "stderr",
     "output_type": "stream",
     "text": [
      "INFO vcp vos:cfis/tiles_LSB_DR5/CFIS_LSB.000.245.r.fits -> /home/nick/astro/TileSlicer/data_test/000_245/CFIS_LSB.000.245.r_temp.fits \n",
      "INFO vcp vos:cfis/tiles_LSB_DR5/CFIS_LSB.000.247.r.fits -> /home/nick/astro/TileSlicer/data_test/000_247/CFIS_LSB.000.247.r_temp.fits \n",
      "INFO vcp vos:cfis/tiles_LSB_DR5/CFIS_LSB.000.251.r.fits -> /home/nick/astro/TileSlicer/data_test/000_251/CFIS_LSB.000.251.r_temp.fits \n",
      "INFO vcp vos:cfis/tiles_LSB_DR5/CFIS_LSB.000.238.r.fits -> /home/nick/astro/TileSlicer/data_test/000_238/CFIS_LSB.000.238.r_temp.fits \n",
      "INFO vcp vos:cfis/tiles_LSB_DR5/CFIS_LSB.000.237.r.fits -> /home/nick/astro/TileSlicer/data_test/000_237/CFIS_LSB.000.237.r_temp.fits \n",
      "INFO vcp vos:cfis/tiles_LSB_DR5/CFIS_LSB.000.249.r.fits -> /home/nick/astro/TileSlicer/data_test/000_249/CFIS_LSB.000.249.r_temp.fits \n",
      "INFO vcp vos:cfis/tiles_LSB_DR5/CFIS_LSB.000.240.r.fits -> /home/nick/astro/TileSlicer/data_test/000_240/CFIS_LSB.000.240.r_temp.fits \n",
      "INFO vcp vos:cfis/tiles_LSB_DR5/CFIS_LSB.000.243.r.fits -> /home/nick/astro/TileSlicer/data_test/000_243/CFIS_LSB.000.243.r_temp.fits \n",
      "INFO vcp vos:cfis/tiles_LSB_DR5/CFIS_LSB.000.252.r.fits -> /home/nick/astro/TileSlicer/data_test/000_252/CFIS_LSB.000.252.r_temp.fits \n",
      "INFO vcp vos:cfis/tiles_LSB_DR5/CFIS_LSB.000.239.r.fits -> /home/nick/astro/TileSlicer/data_test/000_239/CFIS_LSB.000.239.r_temp.fits \n",
      "INFO vcp vos:cfis/tiles_LSB_DR5/CFIS_LSB.000.246.r.fits -> /home/nick/astro/TileSlicer/data_test/000_246/CFIS_LSB.000.246.r_temp.fits \n",
      "INFO vcp vos:cfis/tiles_LSB_DR5/CFIS_LSB.000.248.r.fits -> /home/nick/astro/TileSlicer/data_test/000_248/CFIS_LSB.000.248.r_temp.fits \n",
      "INFO vcp vos:cfis/tiles_LSB_DR5/CFIS_LSB.000.242.r.fits -> /home/nick/astro/TileSlicer/data_test/000_242/CFIS_LSB.000.242.r_temp.fits \n",
      "INFO vcp vos:cfis/tiles_LSB_DR5/CFIS_LSB.001.227.r.fits -> /home/nick/astro/TileSlicer/data_test/001_227/CFIS_LSB.001.227.r_temp.fits \n",
      "INFO vcp vos:cfis/tiles_LSB_DR5/CFIS_LSB.000.254.r.fits -> /home/nick/astro/TileSlicer/data_test/000_254/CFIS_LSB.000.254.r_temp.fits \n",
      "INFO vcp vos:cfis/tiles_LSB_DR5/CFIS_LSB.000.244.r.fits -> /home/nick/astro/TileSlicer/data_test/000_244/CFIS_LSB.000.244.r_temp.fits \n",
      "INFO vcp vos:cfis/tiles_LSB_DR5/CFIS_LSB.000.253.r.fits -> /home/nick/astro/TileSlicer/data_test/000_253/CFIS_LSB.000.253.r_temp.fits \n",
      "INFO vcp vos:cfis/tiles_LSB_DR5/CFIS_LSB.000.250.r.fits -> /home/nick/astro/TileSlicer/data_test/000_250/CFIS_LSB.000.250.r_temp.fits \n",
      "INFO vcp vos:cfis/tiles_LSB_DR5/CFIS_LSB.000.241.r.fits -> /home/nick/astro/TileSlicer/data_test/000_241/CFIS_LSB.000.241.r_temp.fits \n",
      "INFO vcp vos:cfis/tiles_LSB_DR5/CFIS_LSB.000.255.r.fits -> /home/nick/astro/TileSlicer/data_test/000_255/CFIS_LSB.000.255.r_temp.fits \n"
     ]
    },
    {
     "name": "stdout",
     "output_type": "stream",
     "text": [
      "Download successful for band cfis_lsb-r.\n",
      "Download successful for band cfis_lsb-r.\n",
      "Download successful for band cfis_lsb-r.\n",
      "Download successful for band cfis_lsb-r.\n",
      "Download successful for band cfis_lsb-r.\n",
      "Download successful for band cfis_lsb-r.\n",
      "Download successful for band cfis_lsb-r.\n",
      "Download successful for band cfis_lsb-r.\n",
      "Download successful for band cfis_lsb-r.\n",
      "Download successful for band cfis_lsb-r.\n",
      "Download successful for band cfis_lsb-r.\n",
      "Download successful for band cfis_lsb-r.\n",
      "Download successful for band cfis_lsb-r.\n",
      "Download successful for band cfis_lsb-r.\n",
      "Download successful for band cfis_lsb-r.\n",
      "Download successful for band cfis_lsb-r.\n",
      "Download successful for band cfis_lsb-r.\n",
      "Download successful for band cfis_lsb-r.\n",
      "Download successful for band cfis_lsb-r.\n",
      "Download successful for band cfis_lsb-r.\n",
      "All files downloaded. Took 15.216025646527608 minutes.\n"
     ]
    }
   ],
   "source": [
    "import os\n",
    "import time\n",
    "from concurrent.futures import ThreadPoolExecutor\n",
    "from vos import Client\n",
    "import numpy as np\n",
    "\n",
    "client = Client()\n",
    "\n",
    "def download_tile_for_band(tile_numbers, band, in_dict, download_dir, method='api'):\n",
    "    vos_dir = in_dict[band]['vos']\n",
    "    prefix = in_dict[band]['name']\n",
    "    suffix = in_dict[band]['suffix']\n",
    "    delimiter = in_dict[band]['delimiter']\n",
    "    zfill = in_dict[band]['zfill']\n",
    "    tile_dir = download_dir + f'{str(tile_numbers[0]).zfill(zfill)}_{str(tile_numbers[1]).zfill(zfill)}'\n",
    "    os.makedirs(tile_dir, exist_ok=True)\n",
    "    tile_fitsfilename = (\n",
    "        f'{prefix}{delimiter}{str(tile_numbers[0]).zfill(zfill)}{delimiter}{str(tile_numbers[1]).zfill(zfill)}{suffix}'\n",
    "    )\n",
    "    temp_name = '.'.join(tile_fitsfilename.split('.')[:-1]) + '_temp.fits'\n",
    "\n",
    "    if os.path.exists(os.path.join(tile_dir, tile_fitsfilename)):\n",
    "        print(f'File {tile_fitsfilename} was already downloaded for band {band}.')\n",
    "        return True\n",
    "\n",
    "    print(f'Downloading {tile_fitsfilename} for band {band}..')\n",
    "    try:\n",
    "        if method == 'command':\n",
    "            os.system(f'vcp -v {vos_dir + tile_fitsfilename} {os.path.join(tile_dir, temp_name)}')\n",
    "        else:\n",
    "            client.copy(os.path.join(vos_dir, tile_fitsfilename), os.path.join(tile_dir, temp_name))\n",
    "        os.rename(os.path.join(tile_dir, temp_name), os.path.join(tile_dir, tile_fitsfilename))\n",
    "        print(f'Download successful for band {band}.')\n",
    "        return True\n",
    "    except Exception as e:\n",
    "        if 'File not found' in str(e):\n",
    "            print(f'Tile {tile_numbers} not available in {band}.')\n",
    "        print(f'Download failed for band {band}: {e}')\n",
    "        return False\n",
    "\n",
    "def download_tiles_parallel(availability, tile_numbers_list, in_dict, download_dir, method='api'):\n",
    "    with ThreadPoolExecutor() as executor:\n",
    "        # Create a list of futures for concurrent downloads\n",
    "        futures = []\n",
    "        for tile_numbers in tile_numbers_list:\n",
    "            future = executor.submit(download_tile_for_band, tile_numbers, 'cfis_lsb-r', in_dict, download_dir, method)\n",
    "            futures.append(future)\n",
    "\n",
    "        # Wait for all downloads to complete\n",
    "        for future in futures:\n",
    "            future.result()\n",
    "\n",
    "if __name__ == \"__main__\":\n",
    "    start = time.time()\n",
    "    download_dir = os.path.join(parent_dir, 'data_test/')\n",
    "    os.makedirs(download_dir, exist_ok=True)\n",
    "\n",
    "    # Specify the list of tile numbers to download\n",
    "    tiles_to_download = tiles_in_r[10:30]\n",
    "\n",
    "    download_tiles_parallel(availability, tiles_to_download, band_dict, download_dir, method='command')\n",
    "\n",
    "    print(f'All files downloaded. Took {(time.time()-start)/60} minutes.')\n"
   ]
  },
  {
   "cell_type": "code",
   "execution_count": 107,
   "id": "cdd1c2d9-91f6-4176-baa0-fae197ce2788",
   "metadata": {},
   "outputs": [
    {
     "name": "stderr",
     "output_type": "stream",
     "text": [
      "2023-12-22 11:31:20,346 - INFO - File CFIS_LSB.000.231.r.fits was already downloaded for band cfis_lsb-r.\n",
      "2023-12-22 11:31:20,347 - INFO - Running MTO on file: CFIS_LSB.000.231.r.fits\n",
      "2023-12-22 11:32:40,760 - INFO - Successfully processed tile (0, 231) for band cfis_lsb-r.\n",
      "2023-12-22 11:32:40,760 - INFO - Finished in \n",
      "2023-12-22 11:32:40,761 - INFO - Files processed. Took 1.3403377850850424 minutes.\n"
     ]
    }
   ],
   "source": [
    "import os\n",
    "import time\n",
    "from concurrent.futures import ThreadPoolExecutor\n",
    "import subprocess\n",
    "from vos import Client\n",
    "import numpy as np\n",
    "import logging\n",
    "from tqdm import tqdm\n",
    "\n",
    "parent_dir = '/home/nick/astro/TileSlicer/'\n",
    "log_dir = os.path.join(parent_dir, 'logs/')\n",
    "os.makedirs(log_dir, exist_ok=True)\n",
    "log_file_name = 'download.log'\n",
    "log_file_path = os.path.join(log_dir, log_file_name)\n",
    "\n",
    "# Configure the logging module\n",
    "logging.basicConfig(\n",
    "    level=logging.INFO,\n",
    "    format='%(asctime)s - %(levelname)s - %(message)s',\n",
    "    filemode='w',\n",
    "    handlers=[\n",
    "        logging.FileHandler(log_file_path),\n",
    "        logging.StreamHandler()  # Add this line to also log to the console\n",
    "    ]\n",
    ")\n",
    "\n",
    "band_dictionary = {'cfis-u': {'name': 'CFIS', 'band': 'u', 'vos': 'vos:cfis/tiles_DR5/', 'suffix': '.u.fits', 'delimiter': '.', 'fits_ext': 0, 'zfill': 3},\n",
    "            'whigs-g': {'name': 'calexp-CFIS', 'band': 'g', 'vos': 'vos:cfis/whigs/stack_images_CFIS_scheme/', 'suffix': '.fits', 'delimiter': '_', 'fits_ext': 1, 'zfill': 0},\n",
    "            'cfis_lsb-r': {'name': 'CFIS_LSB', 'band': 'r', 'vos': 'vos:cfis/tiles_LSB_DR5/', 'suffix': '.r.fits', 'delimiter': '.', 'fits_ext': 0, 'zfill': 3},\n",
    "            'ps-i': {'name': 'PS-DR3', 'band': 'i', 'vos': 'vos:cfis/panstarrs/DR3/tiles/', 'suffix': '.i.fits', 'delimiter': '.', 'fits_ext': 0, 'zfill': 3},\n",
    "            'wishes-z': {'name': 'WISHES', 'band': 'z', 'vos': 'vos:cfis/wishes_1/coadd/', 'suffix': '.z.fits', 'delimiter': '.', 'fits_ext': 1, 'zfill': 0}}\n",
    "\n",
    "# logger = logging.getLogger(__name__)\n",
    "# handler = logging.FileHandler('test.log')\n",
    "# formatter = logging.Formetter('%(asctime)s - %(levelname)s - %(message)s')\n",
    "# handler.setFormatter(handler)\n",
    "\n",
    "client = Client()\n",
    "\n",
    "def download_tile_for_band(tile_nums, tile_fitsname, final_p, temp_p, vos_p, b, method='command'):\n",
    "    \n",
    "    if os.path.exists(final_p):\n",
    "        logging.info(f'File {tile_fitsname} was already downloaded for band {b}.')\n",
    "        return True\n",
    "\n",
    "    try:\n",
    "        logging.info(f'Downloading {tile_fitsname} for band {b}..')\n",
    "        \n",
    "        result = subprocess.run(f'vcp -v {vos_p} {temp_p}', shell=True, stderr=subprocess.PIPE, text=True)  \n",
    "        result.check_returncode()\n",
    "        os.rename(temp_p, final_p)\n",
    "        logging.info(f'Successfully downloaded tile {tuple(tile_nums)} for band {b}.')\n",
    "        logging.info(f'Finished in {np.round((time.time()-start)/60, 3)} minutes.')\n",
    "        return True\n",
    "\n",
    "    except subprocess.CalledProcessError as e:\n",
    "        logging.error(f'Tile {tuple(tile_numbers)} failed to download in {band}.')\n",
    "        logging.exception(f'Subprocess error details: {e}')\n",
    "        return False\n",
    "\n",
    "    except FileNotFoundError as e:\n",
    "        logging.exception(f'Tile {tuple(tile_nums)} not available in {b}.')\n",
    "        return False\n",
    "\n",
    "\n",
    "def process(tile_nums, file_path, mto_path, b):\n",
    "    fits_name = os.path.basename(file_path)\n",
    "    tile_name = os.path.splitext(fits_name)[0]\n",
    "    file_dir = os.path.dirname(file_path)\n",
    "    out_path = os.path.join(file_dir, tile_name + '_seg.fits')\n",
    "    mto_start = time.time()\n",
    "    logging.info(f'Running MTO on file: {fits_name}')\n",
    "    # logging.info(f'Path to file is: {file_path}')\n",
    "    param_file = os.path.join(file_dir, tile_name + '_det_params.csv')\n",
    "    run_string = f'python {mto_path} {file_path} -par_out {param_file}'\n",
    "    # logging.info(run_string)\n",
    "    try:\n",
    "        result_mto = subprocess.run(run_string, shell=True, stderr=subprocess.PIPE, text=True)\n",
    "        # return_value_mto = os.system(run_string)\n",
    "        if result_mto.returncode == 0:\n",
    "            logging.info(f'Successfully processed tile {tuple(tile_nums)} for band {b}.')\n",
    "            return True\n",
    "        else:\n",
    "            logging.info(f'MTO failed on tile {tuple(tile_nums)}.')\n",
    "            \n",
    "    except Exception as e:\n",
    "        logging.exception(e)\n",
    "        return False\n",
    "        \n",
    "\n",
    "def download_and_process_tile(tile_nums, b, in_dict, download_dir, mto_path, method='command', download_tiles=True, process_tiles=True):\n",
    "    vos_dir = in_dict[b]['vos']\n",
    "    prefix = in_dict[b]['name']\n",
    "    suffix = in_dict[b]['suffix']\n",
    "    delimiter = in_dict[b]['delimiter']\n",
    "    zfill = in_dict[b]['zfill']\n",
    "    tile_dir = download_dir + f'{str(tile_nums[0]).zfill(3)}_{str(tile_nums[1]).zfill(3)}'\n",
    "    os.makedirs(tile_dir, exist_ok=True)\n",
    "    tile_fitsfilename = (\n",
    "        f'{prefix}{delimiter}{str(tile_nums[0]).zfill(zfill)}{delimiter}{str(tile_nums[1]).zfill(zfill)}{suffix}'\n",
    "    )\n",
    "    temp_name = '.'.join(tile_fitsfilename.split('.')[:-1]) + '_temp.fits'\n",
    "    temp_path = os.path.join(tile_dir, temp_name)\n",
    "    final_path = os.path.join(tile_dir, tile_fitsfilename)\n",
    "    vos_path = os.path.join(vos_dir, tile_fitsfilename)\n",
    "    \n",
    "    if download_tiles:\n",
    "        download_tile_for_band(tile_nums, tile_fitsfilename, final_path, temp_path, vos_path, b, method)\n",
    "    else:\n",
    "        logging.info('Skipping download.')\n",
    "\n",
    "    if process_tiles:\n",
    "        process(tile_nums, final_path, mto_path, b)\n",
    "    else:\n",
    "        logging.info('Skipping processing.')\n",
    "        \n",
    "    if (not download_tiles) and (not process_tiles):\n",
    "        logging.info('No actions selected. Exiting..')\n",
    "        return\n",
    "\n",
    "    return True\n",
    "        \n",
    "        \n",
    "def download_tiles_parallel(tile_numbers_list, b, in_dict, download_dir, mto_path, method='command'):\n",
    "    with ThreadPoolExecutor() as executor:\n",
    "        # Create a list of futures for concurrent downloads\n",
    "        futures = []\n",
    "        for tile_numbers in tile_numbers_list:\n",
    "            future = executor.submit(download_and_process_tile, tile_numbers, b, in_dict, download_dir, mto_path, method)\n",
    "            futures.append(future)\n",
    "\n",
    "        # Wait for all downloads to complete\n",
    "        for future in futures:\n",
    "            future.result()\n",
    "\n",
    "if __name__ == \"__main__\":\n",
    "    start = time.time()\n",
    "    download_directory = os.path.join(parent_dir, 'data_test/')\n",
    "    # mtobjects_path = './mto.py'\n",
    "    mtobjects_path = '/home/nick/astro/TileSlicer/mto.py'\n",
    "    os.makedirs(download_directory, exist_ok=True)\n",
    "    band = 'cfis_lsb-r'\n",
    "\n",
    "    # Specify the list of tile numbers to download\n",
    "    tiles_to_download = tiles_in_r[:4]\n",
    "\n",
    "    try:\n",
    "        download_tiles_parallel(tiles_to_download, band, band_dictionary, download_directory, mtobjects_path, method='command')\n",
    "        logging.info(f'Files processed. Took {(time.time()-start)/60} minutes.')\n",
    "    except KeyboardInterrupt:\n",
    "        logging.exception('KeyboardInterrupt detected, exiting..')"
   ]
  },
  {
   "cell_type": "code",
   "execution_count": 13,
   "id": "03254ddc-49e4-482e-a6a2-69c89c481667",
   "metadata": {},
   "outputs": [
    {
     "data": {
      "text/plain": [
       "array([[  0, 227],\n",
       "       [  0, 228],\n",
       "       [  0, 229],\n",
       "       ...,\n",
       "       [665, 185],\n",
       "       [665, 186],\n",
       "       [665, 187]])"
      ]
     },
     "execution_count": 13,
     "metadata": {},
     "output_type": "execute_result"
    }
   ],
   "source": [
    "tiles_in_r"
   ]
  },
  {
   "cell_type": "code",
   "execution_count": 105,
   "id": "e7254470-5663-4312-ab73-4ff20d82bf96",
   "metadata": {},
   "outputs": [
    {
     "data": {
      "text/plain": [
       "'/home/nick/astro/TileSlicer/mto'"
      ]
     },
     "execution_count": 105,
     "metadata": {},
     "output_type": "execute_result"
    }
   ],
   "source": [
    "mtobjects_path = '/home/nick/astro/TileSlicer/mto.py'\n",
    "os.path.splitext(mtobjects_path)[0]"
   ]
  },
  {
   "cell_type": "code",
   "execution_count": 36,
   "id": "c69bc89d-4a69-4434-9966-4219117e400d",
   "metadata": {},
   "outputs": [
    {
     "data": {
      "text/plain": [
       "'CFIS_LSB.002.249.r'"
      ]
     },
     "execution_count": 36,
     "metadata": {},
     "output_type": "execute_result"
    }
   ],
   "source": [
    "test_str = 'CFIS_LSB.002.249.r.fits'\n",
    "os.path.splitext(test_str)[0]"
   ]
  },
  {
   "cell_type": "code",
   "execution_count": null,
   "id": "f04880a7-0db0-4751-85f4-9d6de1b95c7c",
   "metadata": {},
   "outputs": [],
   "source": [
    "def download_tiles_sequential(availability, tile_numbers_list, in_dict, download_dir, method='command'):\n",
    "    for tile_numbers in tile_numbers_list:\n",
    "        download_and_process_tile(tile_numbers, 'cfis_lsb-r', in_dict, download_dir, method)\n",
    "\n",
    "if __name__ == \"__main__\":\n",
    "    start = time.time()\n",
    "    download_dir = os.path.join(parent_dir, 'data_test/test1/')\n",
    "    os.makedirs(download_dir, exist_ok=True)\n",
    "\n",
    "    # Specify the list of tile numbers to download\n",
    "    tiles_to_download = tiles_in_r[80:81]\n",
    "\n",
    "    try:\n",
    "        download_tiles_sequential(availability, tiles_to_download, band_dict, download_dir, method='command')\n",
    "        logging.info(f'Files downloaded. Took {(time.time()-start)/60} minutes.')\n",
    "    except KeyboardInterrupt:\n",
    "        logging.exception('KeyboardInterrupt detected, exiting..')"
   ]
  },
  {
   "cell_type": "code",
   "execution_count": 22,
   "id": "dc5a9c93-cb7e-4a27-9119-c4efb63499ce",
   "metadata": {},
   "outputs": [
    {
     "name": "stdout",
     "output_type": "stream",
     "text": [
      "a is smaller than 20\n",
      "a is larger than 20 and 30\n"
     ]
    }
   ],
   "source": [
    "a = 10\n",
    "if a < 20:\n",
    "    print('a is smaller than 20')\n",
    "if a > 30:\n",
    "    print('a is smaller than 30')\n",
    "else:\n",
    "    print('a is larger than 20 and 30')"
   ]
  },
  {
   "cell_type": "code",
   "execution_count": 26,
   "id": "783e2d48-1e81-425c-8b15-f23b681f6826",
   "metadata": {},
   "outputs": [],
   "source": [
    "a = True\n",
    "b = True\n",
    "\n",
    "if not a and not b:\n",
    "    print('neither a nor b')"
   ]
  },
  {
   "cell_type": "code",
   "execution_count": 27,
   "id": "230c912b-7a70-47f8-98d5-a28118d92d7f",
   "metadata": {},
   "outputs": [
    {
     "name": "stdout",
     "output_type": "stream",
     "text": [
      "a counts as true\n"
     ]
    }
   ],
   "source": [
    "a = 'string'\n",
    "if a:\n",
    "    print('a counts as true')"
   ]
  },
  {
   "cell_type": "code",
   "execution_count": 191,
   "id": "7000dd23-820b-4724-840f-4b3c89655275",
   "metadata": {},
   "outputs": [],
   "source": [
    "with open(log_file_path, 'r') as log_file:\n",
    "    log_contents = log_file.read()"
   ]
  },
  {
   "cell_type": "code",
   "execution_count": 193,
   "id": "a35ec465-e242-4292-a1a1-d1fddba9c479",
   "metadata": {},
   "outputs": [
    {
     "name": "stdout",
     "output_type": "stream",
     "text": [
      "\n"
     ]
    }
   ],
   "source": [
    "print(log_contents)"
   ]
  },
  {
   "cell_type": "markdown",
   "id": "16f71d24",
   "metadata": {},
   "source": [
    "### Make cutouts & save to HDF5 file"
   ]
  },
  {
   "cell_type": "code",
   "execution_count": 90,
   "id": "d63be643",
   "metadata": {},
   "outputs": [
    {
     "name": "stdout",
     "output_type": "stream",
     "text": [
      "Failed to process tile (229, 241): only integer scalar arrays can be converted to a scalar index\n",
      "Failed to process tile (228, 242): only integer scalar arrays can be converted to a scalar index\n",
      "Report:\n",
      "Tiles processed: 2\n",
      "Cutouts created: 0\n",
      "Failed_tiles: 2/2\n",
      "Processing error in tiles: [(229, 241), (228, 242)].\n",
      "Tiles processed, took 0.059 seconds.\n"
     ]
    }
   ],
   "source": [
    "# from line_profiler import LineProfiler\n",
    "import concurrent.futures\n",
    "from concurrent.futures import ProcessPoolExecutor\n",
    "# lp = LineProfiler()\n",
    "\n",
    "\n",
    "def make_cutout(data, x, y, cutout_size):\n",
    "    \"\"\"\n",
    "    Creates an image cutout centered on the object.\n",
    "    :param data: image data, 2d array\n",
    "    :param x: x coordinate of the cutout center\n",
    "    :param y: y coordinate of the cutout center\n",
    "    :param cutout_size: cutout size in pixels\n",
    "    :return: cutout, 2d array\n",
    "    \"\"\"\n",
    "    img_cutout = Cutout2D(data, (x, y), cutout_size, mode=\"partial\", fill_value=0).data\n",
    "\n",
    "    if np.count_nonzero(np.isnan(img_cutout)) >= 0.05 * cutout_size ** 2 or np.count_nonzero(img_cutout) == 0:  # Don't use this cutout\n",
    "        return np.zeros((cutout_size, cutout_size))\n",
    "\n",
    "    img_cutout[np.isnan(img_cutout)] = 0\n",
    "\n",
    "    return img_cutout\n",
    "\n",
    "\n",
    "def make_cutouts_all_bands(availability, tile, obj_in_tile, download_dir, in_dict, size):\n",
    "    \"\"\"\n",
    "    Loops over all five bands for a given tile, creates cutouts of the targets and adds them to the band dictionary.\n",
    "    :param availability: object to retrieve available tiles\n",
    "    :param tile: tile numbers\n",
    "    :param obj_in_tile: dataframe containing the known objects in this tile\n",
    "    :param download_dir: directory storing the tiles\n",
    "    :param in_dict: band dictionary\n",
    "    :param size: square cutout size in pixels\n",
    "    :return: updated band dictionary containing cutout data\n",
    "    \"\"\"\n",
    "    avail_idx = availability.get_availability(tile)[1]\n",
    "    cutout = np.zeros((len(obj_in_tile), len(in_dict), size, size))\n",
    "    tile_dir = download_dir+f'{tile[0]}_{tile[1]}'\n",
    "    for j, band in enumerate(list(in_dict.keys())[avail_idx]):\n",
    "        prefix = in_dict[band]['name']\n",
    "        suffix = in_dict[band]['suffix']\n",
    "        delimiter = in_dict[band]['delimiter']\n",
    "        fits_ext = in_dict[band]['fits_ext']\n",
    "        tile_fitsfilename = f'{prefix}{delimiter}{tile[0]}{delimiter}{tile[1]}{suffix}'\n",
    "        with fits.open(os.path.join(tile_dir, tile_fitsfilename), memmap=True) as hdul:\n",
    "            data = hdul[fits_ext].data\n",
    "        for i, (x, y) in enumerate(zip(obj_in_tile.x.values, obj_in_tile.y.values)):\n",
    "            cutout[i, j] = make_cutout(data, x, y, size)\n",
    "    return cutout\n",
    "\n",
    "def save_to_h5(stacked_cutout, tile_numbers, ids, ras, decs, save_path):\n",
    "    \"\"\"\n",
    "    Save cutout data including meta data to file.\n",
    "    :param stacked_cutout: stacked numpy array of the image data in different bands\n",
    "    :param tile_numbers: tile numbers\n",
    "    :param ids: object IDs\n",
    "    :param ras: right ascention coordinate array\n",
    "    :param decs: declination coordinate array\n",
    "    :param save_path: save path\n",
    "    :return: pass\n",
    "    \"\"\"\n",
    "    print('Saving file: {}'.format(save_path))\n",
    "    dt = h5py.special_dtype(vlen=str)\n",
    "    with h5py.File(save_path, 'w', libver='latest') as hf:\n",
    "        hf.create_dataset('images', data=stacked_cutout.astype(np.float32))\n",
    "        hf.create_dataset('tile', data=np.asarray(tile_numbers), dtype=np.int32)\n",
    "        hf.create_dataset('cfis_id', data=np.asarray(ids), dtype=dt)\n",
    "        hf.create_dataset('ra', data=ras.astype(np.float32))\n",
    "        hf.create_dataset('dec', data=decs.astype(np.float32))\n",
    "    pass\n",
    "\n",
    "def process_tile(tile):\n",
    "    save_path = os.path.join(cutout_dir, h5_filename + f'_{tile[0]}_{tile[1]}.h5')\n",
    "    obj_in_tile = catalog.loc[catalog['tile'] == tile]\n",
    "    cutout = make_cutouts_all_bands(availability, tile, obj_in_tile, download_dir, band_dict, cutout_size)\n",
    "    save_to_h5(cutout, tile, obj_in_tile.ID.values, obj_in_tile.ra.values, obj_in_tile.dec.values, save_path)\n",
    "    return cutout\n",
    "\n",
    "\n",
    "band_dict = {'cfis-u': {'name': 'CFIS', 'band': 'u', 'vos': 'vos:cfis/tiles_DR5/', 'suffix': '.u.fits', 'delimiter': '.', 'fits_ext': 0},\n",
    "            'whigs-g': {'name': 'calexp-CFIS', 'band': 'g', 'vos': 'vos:cfis/whigs/stack_images_CFIS_scheme/', 'suffix': '.fits', 'delimiter': '_', 'fits_ext': 1},\n",
    "            'cfis_lsb-r': {'name': 'CFIS_LSB', 'band': 'r', 'vos': 'vos:cfis/tiles_LSB_DR5/', 'suffix': '.r.fits', 'delimiter': '.', 'fits_ext': 0},\n",
    "            'ps-i': {'name': 'PS-DR3', 'band': 'i', 'vos': 'vos:cfis/panstarrs/DR3/tiles/', 'suffix': '.i.fits', 'delimiter': '.', 'fits_ext': 0},\n",
    "            'wishes-z': {'name': 'WISHES', 'band': 'z', 'vos': 'vos:cfis/wishes_1/coadd/', 'suffix': '.z.fits', 'delimiter': '.', 'fits_ext': 1}}\n",
    "\n",
    "parent_dir = '/home/nick/astro/ssl-spencer/'\n",
    "cutout_dir = os.path.join(parent_dir, 'h5_files/')\n",
    "os.makedirs(cutout_dir, exist_ok=True)\n",
    "download_dir = os.path.join(parent_dir, 'data/')\n",
    "os.makedirs(download_dir, exist_ok=True)\n",
    "cutout_size = 200\n",
    "h5_filename = 'cutout_stacks_ugriz_lsb_200x200'\n",
    "# for line profiling\n",
    "# lp.add_function(make_cutouts_all_bands)\n",
    "# lp.add_function(save_to_h5)\n",
    "\n",
    "# def main():\n",
    "#     # log tile processing\n",
    "#     successful_tiles_count = 0\n",
    "#     total_cutouts_count = 0\n",
    "#     failed_tiles = []\n",
    "    \n",
    "#     for tile in tiles_five_bands:\n",
    "#         try:\n",
    "#             save_path = os.path.join(cutout_dir, h5_filename + f'_{tile[0]}_{tile[1]}.h5')\n",
    "#             obj_in_tile = catalog.loc[catalog['tile'] == tile]\n",
    "#             cutout = make_cutouts_all_bands(tile, obj_in_tile, download_dir, band_dict, cutout_size)\n",
    "#             save_to_h5(cutout, tile, obj_in_tile.ID.values, obj_in_tile.ra.values, obj_in_tile.dec.values, save_path)\n",
    "\n",
    "#             total_cutouts_count += cutout.shape[0]\n",
    "#             successful_tiles_count += 1\n",
    "#         except Exception as e:\n",
    "#             print(f\"Failed to process tile {tile}: {str(e)}\")\n",
    "#             failed_tiles.append(tile)\n",
    "#     print(f'Cutouts created. Took {(time.time()-start)} seconds.')\n",
    "    \n",
    "#     print(f'Report:\\nTiles processed: {len(tiles_five_bands)}\\nCutouts created: {total_cutouts_count}\\nFailed_tiles: {len(failed_tiles)}/{len(tiles_five_bands)}')\n",
    "#     if len(failed_tiles) != 0:\n",
    "#         print(f'Processing error in tiles: {failed_tiles}.')\n",
    "\n",
    "def main():\n",
    "    # log tile processing\n",
    "    successful_tiles_count = 0\n",
    "    total_cutouts_count = 0\n",
    "    failed_tiles = []\n",
    "\n",
    "    with ProcessPoolExecutor(max_workers=9) as executor:\n",
    "        future_to_tile = {executor.submit(process_tile, tile): tile for tile in tiles_x_bands}\n",
    "\n",
    "        for future in concurrent.futures.as_completed(future_to_tile):\n",
    "            tile = future_to_tile[future]\n",
    "            try:\n",
    "                cutout = future.result()\n",
    "                if cutout is not None:\n",
    "                    total_cutouts_count += cutout.shape[0]\n",
    "                    successful_tiles_count += 1\n",
    "            except Exception as e:\n",
    "                print(f\"Failed to process tile {tile}: {str(e)}\")\n",
    "                failed_tiles.append(tile)\n",
    "\n",
    "    print(f'Report:\\nTiles processed: {len(tiles_x_bands)}\\nCutouts created: {total_cutouts_count}\\nFailed_tiles: {len(failed_tiles)}/{len(tiles_x_bands)}')\n",
    "    if len(failed_tiles) != 0:\n",
    "        print(f'Processing error in tiles: {failed_tiles}.')\n",
    "            \n",
    "# wrapper = lp(main)\n",
    "# wrapper()\n",
    "start = time.time()\n",
    "main()\n",
    "print(f'Tiles processed, took {np.round(time.time()-start,3)} seconds.')"
   ]
  },
  {
   "cell_type": "code",
   "execution_count": 137,
   "id": "d05eb1b8",
   "metadata": {},
   "outputs": [
    {
     "name": "stdout",
     "output_type": "stream",
     "text": [
      "Timer unit: 1e-09 s\n",
      "\n",
      "Total time: 0 s\n",
      "File: /tmp/ipykernel_68958/3417108590.py\n",
      "Function: make_cutouts_all_bands at line 26\n",
      "\n",
      "Line #      Hits         Time  Per Hit   % Time  Line Contents\n",
      "==============================================================\n",
      "    26                                           def make_cutouts_all_bands(tile, obj_in_tile, download_dir, in_dict, cutout_size):\n",
      "    27                                               \"\"\"\n",
      "    28                                               Loops over all five bands for a given tile, creates cutouts of the targets and adds them to the band dictionary.\n",
      "    29                                               :param tile: tile numbers\n",
      "    30                                               :param obj_in_tile: dataframe containing the known objects in this tile\n",
      "    31                                               :param download_dir: directory storing the tiles\n",
      "    32                                               :param in_dict: band dictionary\n",
      "    33                                               :param cutout_size: square cutout size in pixels\n",
      "    34                                               :return: updated band dictionary containing cutout data\n",
      "    35                                               \"\"\"\n",
      "    36                                               cutout = np.empty((len(obj_in_tile), len(in_dict), cutout_size, cutout_size))\n",
      "    37                                               tile_dir = download_dir+f'{tile[0]}_{tile[1]}'\n",
      "    38                                               times = []\n",
      "    39                                               for j, band in enumerate(in_dict.keys()):\n",
      "    40                                                   start = time.time()\n",
      "    41                                                   prefix = in_dict[band]['name']\n",
      "    42                                                   suffix = in_dict[band]['suffix']\n",
      "    43                                                   delimiter = in_dict[band]['delimiter']\n",
      "    44                                                   fits_ext = in_dict[band]['fits_ext']\n",
      "    45                                                   tile_fitsfilename = f'{prefix}{delimiter}{tile[0]}{delimiter}{tile[1]}{suffix}'\n",
      "    46                                                   with fits.open(os.path.join(tile_dir,tile_fitsfilename), memmap=True) as hdul:\n",
      "    47                                                       data = hdul[fits_ext].data\n",
      "    48                                                   for i, (x, y) in enumerate(zip(obj_in_tile.x.values, obj_in_tile.y.values)):\n",
      "    49                                                       cutout[i, j] = make_cutout(data, x, y, cutout_size)\n",
      "    50                                                   end = time.time()\n",
      "    51                                                   times.append(np.round(end-start,3))\n",
      "    52                                               print(f'Time spend per iteration: {times}')\n",
      "    53                                               return cutout\n",
      "\n",
      "Total time: 0 s\n",
      "File: /tmp/ipykernel_68958/3417108590.py\n",
      "Function: save_to_h5 at line 55\n",
      "\n",
      "Line #      Hits         Time  Per Hit   % Time  Line Contents\n",
      "==============================================================\n",
      "    55                                           def save_to_h5(stacked_cutout, tile_numbers, ids, ras, decs, save_path):\n",
      "    56                                               \"\"\"\n",
      "    57                                               Save cutout data including meta data to file.\n",
      "    58                                               :param stacked_cutout: stacked numpy array of the image data in different bands\n",
      "    59                                               :param tile_numbers: tile numbers\n",
      "    60                                               :param ids: object IDs\n",
      "    61                                               :param ras: right ascention coordinate array\n",
      "    62                                               :param decs: declination coordinate array\n",
      "    63                                               :param save_path: save path\n",
      "    64                                               :return: pass\n",
      "    65                                               \"\"\"\n",
      "    66                                               print('Saving file: {}'.format(save_path))\n",
      "    67                                               dt = h5py.special_dtype(vlen=str)\n",
      "    68                                               with h5py.File(save_path, 'w', libver='latest') as hf:\n",
      "    69                                                   hf.create_dataset('images', data=stacked_cutout.astype(np.float32))\n",
      "    70                                                   hf.create_dataset('tile', data=np.asarray(tile_numbers), dtype=np.int32)\n",
      "    71                                                   hf.create_dataset('cfis_id', data=np.asarray(ids), dtype=dt)\n",
      "    72                                                   hf.create_dataset('ra', data=ras.astype(np.float32))\n",
      "    73                                                   hf.create_dataset('dec', data=decs.astype(np.float32))\n",
      "    74                                               pass\n",
      "\n"
     ]
    }
   ],
   "source": [
    "lp.print_stats()"
   ]
  },
  {
   "cell_type": "markdown",
   "id": "9dc5eef7",
   "metadata": {},
   "source": [
    "### Visualize the cutouts"
   ]
  },
  {
   "cell_type": "code",
   "execution_count": 56,
   "id": "6e42a42e",
   "metadata": {},
   "outputs": [],
   "source": [
    "from astropy.visualization import simple_norm\n",
    "import matplotlib.pyplot as plt\n",
    "\n",
    "def read_h5(path):\n",
    "    with h5py.File(path, 'r') as f:\n",
    "        # Create empty dictionaries to store data for each group\n",
    "        cutout_data = {}\n",
    "\n",
    "        # Loop through datasets\n",
    "        for dataset_name in f:\n",
    "            data = np.array(f[dataset_name])\n",
    "            cutout_data[dataset_name] = data\n",
    "    return cutout_data\n",
    "\n",
    "def plot_cutout(cutout, band_dict):\n",
    "    image_data = cutout['images']\n",
    "    obj_ids = np.array([x.decode('utf-8') for x in cutout['cfis_id']])\n",
    "    n_objects, n_bands = image_data.shape[0], image_data.shape[1]\n",
    "    fig, axes = plt.subplots(n_objects, n_bands, figsize=(n_bands*4,n_objects*4))\n",
    "    # Loop through objects and filter bands, and plot each image\n",
    "    for i in range(n_objects):  # Number of objects\n",
    "        for j, band in enumerate(band_dict.keys()):  # Number of filter bands\n",
    "            filter_name = band_dict[band]['band']\n",
    "            ax = axes[i, j]\n",
    "\n",
    "            # Get the image data for the current object and filter band\n",
    "            image = image_data[i, j]\n",
    "            # Display the image\n",
    "            norm = simple_norm(image, 'sqrt', percent=98.)\n",
    "            ax.imshow(image, norm=norm, cmap='gray_r', origin='lower')  # Adjust the cmap as needed\n",
    "            ax.set_title(f'{obj_ids[i]}, {filter_name}')\n",
    "\n",
    "            # Optionally, you can turn off axis labels if they are not needed\n",
    "            ax.axis('off')\n",
    "\n",
    "    plt.tight_layout()\n",
    "    plt.show()"
   ]
  },
  {
   "cell_type": "code",
   "execution_count": 57,
   "id": "dcaa3d47",
   "metadata": {},
   "outputs": [
    {
     "name": "stdout",
     "output_type": "stream",
     "text": [
      "[<Axes: > <Axes: > <Axes: > <Axes: > <Axes: >]\n"
     ]
    },
    {
     "ename": "IndexError",
     "evalue": "too many indices for array: array is 1-dimensional, but 2 were indexed",
     "output_type": "error",
     "traceback": [
      "\u001b[0;31m---------------------------------------------------------------------------\u001b[0m",
      "\u001b[0;31mIndexError\u001b[0m                                Traceback (most recent call last)",
      "Cell \u001b[0;32mIn[57], line 10\u001b[0m\n\u001b[1;32m      7\u001b[0m cutout_path \u001b[38;5;241m=\u001b[39m os\u001b[38;5;241m.\u001b[39mpath\u001b[38;5;241m.\u001b[39mjoin(cutout_dir, h5_filename \u001b[38;5;241m+\u001b[39m \u001b[38;5;124mf\u001b[39m\u001b[38;5;124m'\u001b[39m\u001b[38;5;124m_\u001b[39m\u001b[38;5;132;01m{\u001b[39;00mtile_number[\u001b[38;5;241m0\u001b[39m]\u001b[38;5;132;01m}\u001b[39;00m\u001b[38;5;124m_\u001b[39m\u001b[38;5;132;01m{\u001b[39;00mtile_number[\u001b[38;5;241m1\u001b[39m]\u001b[38;5;132;01m}\u001b[39;00m\u001b[38;5;124m.h5\u001b[39m\u001b[38;5;124m'\u001b[39m)\n\u001b[1;32m      8\u001b[0m cutout \u001b[38;5;241m=\u001b[39m read_h5(cutout_path)\n\u001b[0;32m---> 10\u001b[0m plot_cutout(cutout, band_dict)\n",
      "Cell \u001b[0;32mIn[56], line 25\u001b[0m, in \u001b[0;36mplot_cutout\u001b[0;34m(cutout, band_dict)\u001b[0m\n\u001b[1;32m     23\u001b[0m \u001b[38;5;28;01mfor\u001b[39;00m j, band \u001b[38;5;129;01min\u001b[39;00m \u001b[38;5;28menumerate\u001b[39m(band_dict\u001b[38;5;241m.\u001b[39mkeys()):  \u001b[38;5;66;03m# Number of filter bands\u001b[39;00m\n\u001b[1;32m     24\u001b[0m     filter_name \u001b[38;5;241m=\u001b[39m band_dict[band][\u001b[38;5;124m'\u001b[39m\u001b[38;5;124mband\u001b[39m\u001b[38;5;124m'\u001b[39m]\n\u001b[0;32m---> 25\u001b[0m     ax \u001b[38;5;241m=\u001b[39m axes[i, j]\n\u001b[1;32m     27\u001b[0m     \u001b[38;5;66;03m# Get the image data for the current object and filter band\u001b[39;00m\n\u001b[1;32m     28\u001b[0m     image \u001b[38;5;241m=\u001b[39m image_data[i, j]\n",
      "\u001b[0;31mIndexError\u001b[0m: too many indices for array: array is 1-dimensional, but 2 were indexed"
     ]
    },
    {
     "data": {
      "image/png": "[encoded data removed]",
      "text/plain": [
       "<Figure size 2000x400 with 5 Axes>"
      ]
     },
     "metadata": {},
     "output_type": "display_data"
    }
   ],
   "source": [
    "tile_number = (246, 289)\n",
    "\n",
    "parent_dir = '/home/nick/astro/TileSlicer/'\n",
    "cutout_dir = os.path.join(parent_dir, 'h5_files/')\n",
    "os.makedirs(cutout_dir, exist_ok=True)\n",
    "h5_filename = 'cutout_stacks_ugriz_lsb_200x200'\n",
    "cutout_path = os.path.join(cutout_dir, h5_filename + f'_{tile_number[0]}_{tile_number[1]}.h5')\n",
    "cutout = read_h5(cutout_path)\n",
    "\n",
    "plot_cutout(cutout, band_dict)"
   ]
  },
  {
   "cell_type": "code",
   "execution_count": 53,
   "id": "cf028675-6cf9-4c0e-a153-b23683f99444",
   "metadata": {},
   "outputs": [
    {
     "data": {
      "text/plain": [
       "(1, 5, 200, 200)"
      ]
     },
     "execution_count": 53,
     "metadata": {},
     "output_type": "execute_result"
    }
   ],
   "source": [
    "cutout['images'].shape"
   ]
  },
  {
   "cell_type": "code",
   "execution_count": 258,
   "id": "a0649ad9",
   "metadata": {},
   "outputs": [
    {
     "data": {
      "text/plain": [
       "(200, 200)"
      ]
     },
     "execution_count": 258,
     "metadata": {},
     "output_type": "execute_result"
    }
   ],
   "source": [
    "cutout['images'][6][0].shape"
   ]
  },
  {
   "cell_type": "code",
   "execution_count": 262,
   "id": "d8229e90",
   "metadata": {},
   "outputs": [
    {
     "data": {
      "text/plain": [
       "(240, 291)"
      ]
     },
     "execution_count": 262,
     "metadata": {},
     "output_type": "execute_result"
    }
   ],
   "source": [
    "tiles_five_bands[6]"
   ]
  },
  {
   "cell_type": "code",
   "execution_count": 112,
   "id": "2dfe433e",
   "metadata": {},
   "outputs": [
    {
     "data": {
      "text/plain": [
       "numpy.int64"
      ]
     },
     "execution_count": 112,
     "metadata": {},
     "output_type": "execute_result"
    }
   ],
   "source": [
    "type(cutout['tile'][0])"
   ]
  },
  {
   "cell_type": "markdown",
   "id": "bcd9d6a8",
   "metadata": {},
   "source": [
    "## VOSpace tile cuts"
   ]
  },
  {
   "cell_type": "code",
   "execution_count": 625,
   "id": "f1ca1d10",
   "metadata": {},
   "outputs": [],
   "source": [
    "Client().copy('vos:cfis/tile.cuts', '/home/nick/astro/ssl-spencer/tiles.csv')\n",
    "tiles = pd.read_csv('../tiles.csv', delimiter=r'\\s+', header=None, names=['tile_numbers','ra_min','ra_max','dec_min','dec_max'])"
   ]
  },
  {
   "cell_type": "code",
   "execution_count": 626,
   "id": "0f4c8dd5",
   "metadata": {},
   "outputs": [
    {
     "data": {
      "text/html": [
       "<div>\n",
       "<style scoped>\n",
       "    .dataframe tbody tr th:only-of-type {\n",
       "        vertical-align: middle;\n",
       "    }\n",
       "\n",
       "    .dataframe tbody tr th {\n",
       "        vertical-align: top;\n",
       "    }\n",
       "\n",
       "    .dataframe thead th {\n",
       "        text-align: right;\n",
       "    }\n",
       "</style>\n",
       "<table border=\"1\" class=\"dataframe\">\n",
       "  <thead>\n",
       "    <tr style=\"text-align: right;\">\n",
       "      <th></th>\n",
       "      <th>tile_numbers</th>\n",
       "      <th>ra_min</th>\n",
       "      <th>ra_max</th>\n",
       "      <th>dec_min</th>\n",
       "      <th>dec_max</th>\n",
       "    </tr>\n",
       "  </thead>\n",
       "  <tbody>\n",
       "    <tr>\n",
       "      <th>0</th>\n",
       "      <td>0.240</td>\n",
       "      <td>-0.288675</td>\n",
       "      <td>0.288675</td>\n",
       "      <td>29.75</td>\n",
       "      <td>30.25</td>\n",
       "    </tr>\n",
       "    <tr>\n",
       "      <th>1</th>\n",
       "      <td>0.241</td>\n",
       "      <td>-0.290148</td>\n",
       "      <td>0.290148</td>\n",
       "      <td>30.25</td>\n",
       "      <td>30.75</td>\n",
       "    </tr>\n",
       "    <tr>\n",
       "      <th>2</th>\n",
       "      <td>0.242</td>\n",
       "      <td>-0.291658</td>\n",
       "      <td>0.291658</td>\n",
       "      <td>30.75</td>\n",
       "      <td>31.25</td>\n",
       "    </tr>\n",
       "    <tr>\n",
       "      <th>3</th>\n",
       "      <td>0.243</td>\n",
       "      <td>-0.293207</td>\n",
       "      <td>0.293207</td>\n",
       "      <td>31.25</td>\n",
       "      <td>31.75</td>\n",
       "    </tr>\n",
       "    <tr>\n",
       "      <th>4</th>\n",
       "      <td>0.244</td>\n",
       "      <td>-0.294795</td>\n",
       "      <td>0.294795</td>\n",
       "      <td>31.75</td>\n",
       "      <td>32.25</td>\n",
       "    </tr>\n",
       "    <tr>\n",
       "      <th>...</th>\n",
       "      <td>...</td>\n",
       "      <td>...</td>\n",
       "      <td>...</td>\n",
       "      <td>...</td>\n",
       "      <td>...</td>\n",
       "    </tr>\n",
       "    <tr>\n",
       "      <th>24346</th>\n",
       "      <td>620.240</td>\n",
       "      <td>357.668492</td>\n",
       "      <td>358.245842</td>\n",
       "      <td>29.75</td>\n",
       "      <td>30.25</td>\n",
       "    </tr>\n",
       "    <tr>\n",
       "      <th>24347</th>\n",
       "      <td>620.241</td>\n",
       "      <td>359.493404</td>\n",
       "      <td>360.073700</td>\n",
       "      <td>30.25</td>\n",
       "      <td>30.75</td>\n",
       "    </tr>\n",
       "    <tr>\n",
       "      <th>24348</th>\n",
       "      <td>621.240</td>\n",
       "      <td>358.245842</td>\n",
       "      <td>358.823192</td>\n",
       "      <td>29.75</td>\n",
       "      <td>30.25</td>\n",
       "    </tr>\n",
       "    <tr>\n",
       "      <th>24349</th>\n",
       "      <td>622.240</td>\n",
       "      <td>358.823192</td>\n",
       "      <td>359.400543</td>\n",
       "      <td>29.75</td>\n",
       "      <td>30.25</td>\n",
       "    </tr>\n",
       "    <tr>\n",
       "      <th>24350</th>\n",
       "      <td>623.240</td>\n",
       "      <td>359.400543</td>\n",
       "      <td>359.977893</td>\n",
       "      <td>29.75</td>\n",
       "      <td>30.25</td>\n",
       "    </tr>\n",
       "  </tbody>\n",
       "</table>\n",
       "<p>24351 rows × 5 columns</p>\n",
       "</div>"
      ],
      "text/plain": [
       "       tile_numbers      ra_min      ra_max  dec_min  dec_max\n",
       "0             0.240   -0.288675    0.288675    29.75    30.25\n",
       "1             0.241   -0.290148    0.290148    30.25    30.75\n",
       "2             0.242   -0.291658    0.291658    30.75    31.25\n",
       "3             0.243   -0.293207    0.293207    31.25    31.75\n",
       "4             0.244   -0.294795    0.294795    31.75    32.25\n",
       "...             ...         ...         ...      ...      ...\n",
       "24346       620.240  357.668492  358.245842    29.75    30.25\n",
       "24347       620.241  359.493404  360.073700    30.25    30.75\n",
       "24348       621.240  358.245842  358.823192    29.75    30.25\n",
       "24349       622.240  358.823192  359.400543    29.75    30.25\n",
       "24350       623.240  359.400543  359.977893    29.75    30.25\n",
       "\n",
       "[24351 rows x 5 columns]"
      ]
     },
     "execution_count": 626,
     "metadata": {},
     "output_type": "execute_result"
    }
   ],
   "source": [
    "tiles"
   ]
  },
  {
   "cell_type": "code",
   "execution_count": null,
   "id": "2fcefedc",
   "metadata": {},
   "outputs": [],
   "source": []
  },
  {
   "cell_type": "code",
   "execution_count": null,
   "id": "0306c839-a7af-4eb8-9997-855ac39bbd27",
   "metadata": {},
   "outputs": [],
   "source": []
  },
  {
   "cell_type": "code",
   "execution_count": null,
   "id": "f9c34417-df1f-41a5-8558-5e4a1a2fd7ee",
   "metadata": {},
   "outputs": [],
   "source": []
  },
  {
   "cell_type": "markdown",
   "id": "c61b207f-e557-4636-8c33-53b3c09a09e6",
   "metadata": {},
   "source": [
    "## Testing catalog matching"
   ]
  },
  {
   "cell_type": "code",
   "execution_count": 259,
   "id": "40fe89b4-32a9-4546-a932-9a5bc52760ea",
   "metadata": {},
   "outputs": [],
   "source": [
    "tile_nums = np.array([243,290])\n",
    "\n",
    "# known_dwarfs = pd.read_csv('/home/nick/astro/TileSlicer/tables/all_known_dwarfs_processed.csv')\n",
    "# known_dwarfs = known_dwarfs.loc[known_dwarfs['tile'] == str(tuple(tile_nums))].reset_index(drop=True)\n",
    "\n",
    "condition = f\"tile == '{str(tuple(tile_nums))}'\"\n",
    "gen = pd.read_csv(os.path.join('/home/nick/astro/TileSlicer/tables/', 'all_known_dwarfs_processed.csv'), chunksize=500, iterator=True)\n",
    "known_dwarfs = pd.concat([x.query(condition) for x in gen]).reset_index(drop=True)\n",
    "\n",
    "\n",
    "c_known_dwarfs = SkyCoord(known_dwarfs['ra'], known_dwarfs['dec'], unit='deg', frame='icrs')\n",
    "detections = pd.read_csv('/home/nick/astro/UNIONS/lsb-detection-pipeline/NGC5457_test/fields/CFIS_LSB.243.290.r/sci_detections_mto_dt.csv')\n",
    "detections.rename(columns={'X': 'x', 'Y': 'y'})\n",
    "c_detections = SkyCoord(detections['ra'], detections['dec'], unit='deg', frame='icrs')"
   ]
  },
  {
   "cell_type": "code",
   "execution_count": 260,
   "id": "a8385e6e-ba80-4122-a8c1-d80c15fd79c4",
   "metadata": {},
   "outputs": [],
   "source": [
    "from astropy import units as u\n",
    "\n",
    "max_sep = 15.0 * u.arcsec\n",
    "idx, d2d, _ = c_known_dwarfs.match_to_catalog_3d(c_detections)\n",
    "sep_constraint = d2d < max_sep\n",
    "# known dwarfs that are also in the detections dataframe\n",
    "df_known_matches = known_dwarfs[sep_constraint].reset_index(drop=True)\n",
    "# known dwarfs that are not in the detections dataframe\n",
    "df_known_unmatches = known_dwarfs[~sep_constraint].reset_index(drop=True)\n",
    "\n",
    "df_detection_matches = detections.copy()\n",
    "# detections that are also in the known dwarfs dataframe\n",
    "df_detection_matches = df_detection_matches.loc[idx[sep_constraint]].reset_index(drop=True)"
   ]
  },
  {
   "cell_type": "code",
   "execution_count": 276,
   "id": "10c458fc-3731-4ae3-bdef-6937e0c49bc9",
   "metadata": {},
   "outputs": [],
   "source": [
    "common_columns = detections.columns.intersection(df_known_unmatches.columns)\n",
    "addition = detections.loc[detections['ID'] == 61616171]\n",
    "master = pd.concat([detections, df_known_unmatches[common_columns], addition], ignore_index=True)\n",
    "master['known'] = np.where(master['ID'].isin(df_detection_matches['ID']) |\n",
    "                   master['ID'].isin(df_known_matches['ID']) |\n",
    "                   master['ID'].isin(df_known_unmatches['ID']), 1, 0)\n",
    "master['tile'] = f'{tuple(tile_nums)}'"
   ]
  },
  {
   "cell_type": "code",
   "execution_count": 280,
   "id": "058e39b8-770d-4d76-bb35-dc7cfd43db9c",
   "metadata": {},
   "outputs": [
    {
     "data": {
      "text/html": [
       "<div>\n",
       "<style scoped>\n",
       "    .dataframe tbody tr th:only-of-type {\n",
       "        vertical-align: middle;\n",
       "    }\n",
       "\n",
       "    .dataframe tbody tr th {\n",
       "        vertical-align: top;\n",
       "    }\n",
       "\n",
       "    .dataframe thead th {\n",
       "        text-align: right;\n",
       "    }\n",
       "</style>\n",
       "<table border=\"1\" class=\"dataframe\">\n",
       "  <thead>\n",
       "    <tr style=\"text-align: right;\">\n",
       "      <th></th>\n",
       "      <th>Unnamed: 0</th>\n",
       "      <th>ID</th>\n",
       "      <th>X</th>\n",
       "      <th>Y</th>\n",
       "      <th>A</th>\n",
       "      <th>B</th>\n",
       "      <th>theta</th>\n",
       "      <th>total_flux</th>\n",
       "      <th>mu_max</th>\n",
       "      <th>mu_median</th>\n",
       "      <th>...</th>\n",
       "      <th>dec</th>\n",
       "      <th>re_arcsec</th>\n",
       "      <th>r_fwhm_arcsec</th>\n",
       "      <th>r_10_arcsec</th>\n",
       "      <th>r_90_arcsec</th>\n",
       "      <th>A_arcsec</th>\n",
       "      <th>B_arcsec</th>\n",
       "      <th>mag</th>\n",
       "      <th>mu</th>\n",
       "      <th>label</th>\n",
       "    </tr>\n",
       "  </thead>\n",
       "  <tbody>\n",
       "  </tbody>\n",
       "</table>\n",
       "<p>0 rows × 26 columns</p>\n",
       "</div>"
      ],
      "text/plain": [
       "Empty DataFrame\n",
       "Columns: [Unnamed: 0, ID, X, Y, A, B, theta, total_flux, mu_max, mu_median, mu_mean, R_fwhm, Re_px, R10, R90, ra, dec, re_arcsec, r_fwhm_arcsec, r_10_arcsec, r_90_arcsec, A_arcsec, B_arcsec, mag, mu, label]\n",
       "Index: []\n",
       "\n",
       "[0 rows x 26 columns]"
      ]
     },
     "execution_count": 280,
     "metadata": {},
     "output_type": "execute_result"
    }
   ],
   "source": [
    "addition"
   ]
  },
  {
   "cell_type": "code",
   "execution_count": 281,
   "id": "837f067a-5e01-4d0b-a5c6-c1740b3a07a2",
   "metadata": {},
   "outputs": [
    {
     "data": {
      "text/html": [
       "<div>\n",
       "<style scoped>\n",
       "    .dataframe tbody tr th:only-of-type {\n",
       "        vertical-align: middle;\n",
       "    }\n",
       "\n",
       "    .dataframe tbody tr th {\n",
       "        vertical-align: top;\n",
       "    }\n",
       "\n",
       "    .dataframe thead th {\n",
       "        text-align: right;\n",
       "    }\n",
       "</style>\n",
       "<table border=\"1\" class=\"dataframe\">\n",
       "  <thead>\n",
       "    <tr style=\"text-align: right;\">\n",
       "      <th></th>\n",
       "      <th>Unnamed: 0</th>\n",
       "      <th>ID</th>\n",
       "      <th>X</th>\n",
       "      <th>Y</th>\n",
       "      <th>A</th>\n",
       "      <th>B</th>\n",
       "      <th>theta</th>\n",
       "      <th>total_flux</th>\n",
       "      <th>mu_max</th>\n",
       "      <th>mu_median</th>\n",
       "      <th>...</th>\n",
       "      <th>dec</th>\n",
       "      <th>re_arcsec</th>\n",
       "      <th>r_fwhm_arcsec</th>\n",
       "      <th>r_10_arcsec</th>\n",
       "      <th>r_90_arcsec</th>\n",
       "      <th>A_arcsec</th>\n",
       "      <th>B_arcsec</th>\n",
       "      <th>mag</th>\n",
       "      <th>mu</th>\n",
       "      <th>label</th>\n",
       "    </tr>\n",
       "  </thead>\n",
       "  <tbody>\n",
       "  </tbody>\n",
       "</table>\n",
       "<p>0 rows × 26 columns</p>\n",
       "</div>"
      ],
      "text/plain": [
       "Empty DataFrame\n",
       "Columns: [Unnamed: 0, ID, X, Y, A, B, theta, total_flux, mu_max, mu_median, mu_mean, R_fwhm, Re_px, R10, R90, ra, dec, re_arcsec, r_fwhm_arcsec, r_10_arcsec, r_90_arcsec, A_arcsec, B_arcsec, mag, mu, label]\n",
       "Index: []\n",
       "\n",
       "[0 rows x 26 columns]"
      ]
     },
     "execution_count": 281,
     "metadata": {},
     "output_type": "execute_result"
    }
   ],
   "source": [
    "pd.DataFrame(columns=detections.columns)"
   ]
  },
  {
   "cell_type": "code",
   "execution_count": null,
   "id": "63742375-00e4-40fe-bdb0-42c92cf8d0d2",
   "metadata": {},
   "outputs": [],
   "source": []
  }
 ],
 "metadata": {
  "kernelspec": {
   "display_name": "Python 3 (ipykernel)",
   "language": "python",
   "name": "python3"
  },
  "language_info": {
   "codemirror_mode": {
    "name": "ipython",
    "version": 3
   },
   "file_extension": ".py",
   "mimetype": "text/x-python",
   "name": "python",
   "nbconvert_exporter": "python",
   "pygments_lexer": "ipython3",
   "version": "3.11.5"
  }
 },
 "nbformat": 4,
 "nbformat_minor": 5
}
